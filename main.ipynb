{
  "cells": [
    {
      "cell_type": "markdown",
      "id": "2bf7eb96",
      "metadata": {
        "id": "2bf7eb96"
      },
      "source": [
        "# ARTIFICIAL INTELLIGENCE AND MACHINE LEARNING PROJECT WORK"
      ]
    },
    {
      "cell_type": "markdown",
      "id": "2ac9bae6",
      "metadata": {
        "id": "2ac9bae6"
      },
      "source": [
        "We're working for the data science team of a prestigious fast fashion firm and our aim is to improve the recommender system in order to increase revenues. We will proceed by first making an analysis of the dataset and then selecting the important parts we need to build different recommendation systems and pick the most suitable one."
      ]
    },
    {
      "cell_type": "markdown",
      "id": "9f32f81c",
      "metadata": {
        "id": "9f32f81c"
      },
      "source": [
        "###  EDA (Explanatory Data Analysis)\n",
        "Perform an Explanatory data analysis (EDA) with visualization using the entire dataset."
      ]
    },
    {
      "cell_type": "markdown",
      "id": "76aff37f",
      "metadata": {
        "id": "76aff37f"
      },
      "source": [
        "1) We import the libraries."
      ]
    },
    {
      "cell_type": "code",
      "execution_count": 3,
      "id": "00e3e429",
      "metadata": {
        "id": "00e3e429"
      },
      "outputs": [],
      "source": [
        "import numpy as np\n",
        "import pandas as pd\n",
        "import sklearn\n",
        "import matplotlib.pyplot as plt\n",
        "import seaborn as sns"
      ]
    },
    {
      "cell_type": "markdown",
      "id": "2354b30a",
      "metadata": {
        "id": "2354b30a"
      },
      "source": [
        "Our dataset contains 3 files: \"recsys_articles.csv\", \"recsys_customers.csv\", \"recsys_transactions.csv\".\n",
        "We start performing the EDA from \"recsys_articles.csv\". It represents all the articles that the firm sells and their features."
      ]
    },
    {
      "cell_type": "markdown",
      "id": "1e807359",
      "metadata": {
        "id": "1e807359"
      },
      "source": [
        "### ARTICLES"
      ]
    },
    {
      "cell_type": "markdown",
      "id": "3c2453b3",
      "metadata": {
        "id": "3c2453b3"
      },
      "source": [
        "2) We import the dataset about articles and print the first 5 rows, then we use the shape and dtypes functions to understand the shape of the dataset and the data type of each column. As we can notice this dataset has a complex structure since there are lot of columns (21), actually some of them are useless as most attributes have \"code\" and \"name\" descriptions so we don't have to consider all of them. "
      ]
    },
    {
      "cell_type": "code",
      "execution_count": 5,
      "id": "8dd275a7",
      "metadata": {
        "colab": {
          "base_uri": "https://localhost:8080/",
          "height": 473
        },
        "id": "8dd275a7",
        "outputId": "0a3d4e1b-27ec-4f97-cd5b-14adbab88b84"
      },
      "outputs": [
        {
          "output_type": "execute_result",
          "data": {
            "text/plain": [
              "   article_id                     prod_name  product_type product_type_name  \\\n",
              "0           0           20 den 1p Stockings           304  Underwear Tights   \n",
              "1           1     Shape Up 30 den 1p Tights           273   Leggings/Tights   \n",
              "2           2      Support 40 den 1p Tights           304  Underwear Tights   \n",
              "3           3             200 den 1p Tights           304  Underwear Tights   \n",
              "4           4  Control Top 50 den 1p Tights           273   Leggings/Tights   \n",
              "\n",
              "   product_group_name  colour_group colour_group_name  perceived_colour_value  \\\n",
              "0      Socks & Tights             9             Black                       4   \n",
              "1  Garment Lower body             9             Black                       4   \n",
              "2      Socks & Tights             9             Black                       4   \n",
              "3      Socks & Tights             9             Black                       4   \n",
              "4  Garment Lower body             9             Black                       4   \n",
              "\n",
              "  perceived_colour_value_name  perceived_colour_master  ... department  \\\n",
              "0                        Dark                        5  ...       3608   \n",
              "1                        Dark                        5  ...       3608   \n",
              "2                        Dark                        5  ...       3608   \n",
              "3                        Dark                        5  ...       3608   \n",
              "4                        Dark                        5  ...       3608   \n",
              "\n",
              "   department_name index        index_name index_group  index_group_name  \\\n",
              "0     Tights basic     B  Lingeries/Tights           1        Ladieswear   \n",
              "1     Tights basic     B  Lingeries/Tights           1        Ladieswear   \n",
              "2     Tights basic     B  Lingeries/Tights           1        Ladieswear   \n",
              "3     Tights basic     B  Lingeries/Tights           1        Ladieswear   \n",
              "4     Tights basic     B  Lingeries/Tights           1        Ladieswear   \n",
              "\n",
              "  section                    section_name garment_group  garment_group_name  \n",
              "0      62  Womens Nightwear, Socks & Tigh          1021    Socks and Tights  \n",
              "1      62  Womens Nightwear, Socks & Tigh          1021    Socks and Tights  \n",
              "2      62  Womens Nightwear, Socks & Tigh          1021    Socks and Tights  \n",
              "3      62  Womens Nightwear, Socks & Tigh          1021    Socks and Tights  \n",
              "4      62  Womens Nightwear, Socks & Tigh          1021    Socks and Tights  \n",
              "\n",
              "[5 rows x 21 columns]"
            ],
            "text/html": [
              "\n",
              "  <div id=\"df-9420cbd9-a2e6-419a-9e94-5ad1fd453992\">\n",
              "    <div class=\"colab-df-container\">\n",
              "      <div>\n",
              "<style scoped>\n",
              "    .dataframe tbody tr th:only-of-type {\n",
              "        vertical-align: middle;\n",
              "    }\n",
              "\n",
              "    .dataframe tbody tr th {\n",
              "        vertical-align: top;\n",
              "    }\n",
              "\n",
              "    .dataframe thead th {\n",
              "        text-align: right;\n",
              "    }\n",
              "</style>\n",
              "<table border=\"1\" class=\"dataframe\">\n",
              "  <thead>\n",
              "    <tr style=\"text-align: right;\">\n",
              "      <th></th>\n",
              "      <th>article_id</th>\n",
              "      <th>prod_name</th>\n",
              "      <th>product_type</th>\n",
              "      <th>product_type_name</th>\n",
              "      <th>product_group_name</th>\n",
              "      <th>colour_group</th>\n",
              "      <th>colour_group_name</th>\n",
              "      <th>perceived_colour_value</th>\n",
              "      <th>perceived_colour_value_name</th>\n",
              "      <th>perceived_colour_master</th>\n",
              "      <th>...</th>\n",
              "      <th>department</th>\n",
              "      <th>department_name</th>\n",
              "      <th>index</th>\n",
              "      <th>index_name</th>\n",
              "      <th>index_group</th>\n",
              "      <th>index_group_name</th>\n",
              "      <th>section</th>\n",
              "      <th>section_name</th>\n",
              "      <th>garment_group</th>\n",
              "      <th>garment_group_name</th>\n",
              "    </tr>\n",
              "  </thead>\n",
              "  <tbody>\n",
              "    <tr>\n",
              "      <th>0</th>\n",
              "      <td>0</td>\n",
              "      <td>20 den 1p Stockings</td>\n",
              "      <td>304</td>\n",
              "      <td>Underwear Tights</td>\n",
              "      <td>Socks &amp; Tights</td>\n",
              "      <td>9</td>\n",
              "      <td>Black</td>\n",
              "      <td>4</td>\n",
              "      <td>Dark</td>\n",
              "      <td>5</td>\n",
              "      <td>...</td>\n",
              "      <td>3608</td>\n",
              "      <td>Tights basic</td>\n",
              "      <td>B</td>\n",
              "      <td>Lingeries/Tights</td>\n",
              "      <td>1</td>\n",
              "      <td>Ladieswear</td>\n",
              "      <td>62</td>\n",
              "      <td>Womens Nightwear, Socks &amp; Tigh</td>\n",
              "      <td>1021</td>\n",
              "      <td>Socks and Tights</td>\n",
              "    </tr>\n",
              "    <tr>\n",
              "      <th>1</th>\n",
              "      <td>1</td>\n",
              "      <td>Shape Up 30 den 1p Tights</td>\n",
              "      <td>273</td>\n",
              "      <td>Leggings/Tights</td>\n",
              "      <td>Garment Lower body</td>\n",
              "      <td>9</td>\n",
              "      <td>Black</td>\n",
              "      <td>4</td>\n",
              "      <td>Dark</td>\n",
              "      <td>5</td>\n",
              "      <td>...</td>\n",
              "      <td>3608</td>\n",
              "      <td>Tights basic</td>\n",
              "      <td>B</td>\n",
              "      <td>Lingeries/Tights</td>\n",
              "      <td>1</td>\n",
              "      <td>Ladieswear</td>\n",
              "      <td>62</td>\n",
              "      <td>Womens Nightwear, Socks &amp; Tigh</td>\n",
              "      <td>1021</td>\n",
              "      <td>Socks and Tights</td>\n",
              "    </tr>\n",
              "    <tr>\n",
              "      <th>2</th>\n",
              "      <td>2</td>\n",
              "      <td>Support 40 den 1p Tights</td>\n",
              "      <td>304</td>\n",
              "      <td>Underwear Tights</td>\n",
              "      <td>Socks &amp; Tights</td>\n",
              "      <td>9</td>\n",
              "      <td>Black</td>\n",
              "      <td>4</td>\n",
              "      <td>Dark</td>\n",
              "      <td>5</td>\n",
              "      <td>...</td>\n",
              "      <td>3608</td>\n",
              "      <td>Tights basic</td>\n",
              "      <td>B</td>\n",
              "      <td>Lingeries/Tights</td>\n",
              "      <td>1</td>\n",
              "      <td>Ladieswear</td>\n",
              "      <td>62</td>\n",
              "      <td>Womens Nightwear, Socks &amp; Tigh</td>\n",
              "      <td>1021</td>\n",
              "      <td>Socks and Tights</td>\n",
              "    </tr>\n",
              "    <tr>\n",
              "      <th>3</th>\n",
              "      <td>3</td>\n",
              "      <td>200 den 1p Tights</td>\n",
              "      <td>304</td>\n",
              "      <td>Underwear Tights</td>\n",
              "      <td>Socks &amp; Tights</td>\n",
              "      <td>9</td>\n",
              "      <td>Black</td>\n",
              "      <td>4</td>\n",
              "      <td>Dark</td>\n",
              "      <td>5</td>\n",
              "      <td>...</td>\n",
              "      <td>3608</td>\n",
              "      <td>Tights basic</td>\n",
              "      <td>B</td>\n",
              "      <td>Lingeries/Tights</td>\n",
              "      <td>1</td>\n",
              "      <td>Ladieswear</td>\n",
              "      <td>62</td>\n",
              "      <td>Womens Nightwear, Socks &amp; Tigh</td>\n",
              "      <td>1021</td>\n",
              "      <td>Socks and Tights</td>\n",
              "    </tr>\n",
              "    <tr>\n",
              "      <th>4</th>\n",
              "      <td>4</td>\n",
              "      <td>Control Top 50 den 1p Tights</td>\n",
              "      <td>273</td>\n",
              "      <td>Leggings/Tights</td>\n",
              "      <td>Garment Lower body</td>\n",
              "      <td>9</td>\n",
              "      <td>Black</td>\n",
              "      <td>4</td>\n",
              "      <td>Dark</td>\n",
              "      <td>5</td>\n",
              "      <td>...</td>\n",
              "      <td>3608</td>\n",
              "      <td>Tights basic</td>\n",
              "      <td>B</td>\n",
              "      <td>Lingeries/Tights</td>\n",
              "      <td>1</td>\n",
              "      <td>Ladieswear</td>\n",
              "      <td>62</td>\n",
              "      <td>Womens Nightwear, Socks &amp; Tigh</td>\n",
              "      <td>1021</td>\n",
              "      <td>Socks and Tights</td>\n",
              "    </tr>\n",
              "  </tbody>\n",
              "</table>\n",
              "<p>5 rows × 21 columns</p>\n",
              "</div>\n",
              "      <button class=\"colab-df-convert\" onclick=\"convertToInteractive('df-9420cbd9-a2e6-419a-9e94-5ad1fd453992')\"\n",
              "              title=\"Convert this dataframe to an interactive table.\"\n",
              "              style=\"display:none;\">\n",
              "        \n",
              "  <svg xmlns=\"http://www.w3.org/2000/svg\" height=\"24px\"viewBox=\"0 0 24 24\"\n",
              "       width=\"24px\">\n",
              "    <path d=\"M0 0h24v24H0V0z\" fill=\"none\"/>\n",
              "    <path d=\"M18.56 5.44l.94 2.06.94-2.06 2.06-.94-2.06-.94-.94-2.06-.94 2.06-2.06.94zm-11 1L8.5 8.5l.94-2.06 2.06-.94-2.06-.94L8.5 2.5l-.94 2.06-2.06.94zm10 10l.94 2.06.94-2.06 2.06-.94-2.06-.94-.94-2.06-.94 2.06-2.06.94z\"/><path d=\"M17.41 7.96l-1.37-1.37c-.4-.4-.92-.59-1.43-.59-.52 0-1.04.2-1.43.59L10.3 9.45l-7.72 7.72c-.78.78-.78 2.05 0 2.83L4 21.41c.39.39.9.59 1.41.59.51 0 1.02-.2 1.41-.59l7.78-7.78 2.81-2.81c.8-.78.8-2.07 0-2.86zM5.41 20L4 18.59l7.72-7.72 1.47 1.35L5.41 20z\"/>\n",
              "  </svg>\n",
              "      </button>\n",
              "      \n",
              "  <style>\n",
              "    .colab-df-container {\n",
              "      display:flex;\n",
              "      flex-wrap:wrap;\n",
              "      gap: 12px;\n",
              "    }\n",
              "\n",
              "    .colab-df-convert {\n",
              "      background-color: #E8F0FE;\n",
              "      border: none;\n",
              "      border-radius: 50%;\n",
              "      cursor: pointer;\n",
              "      display: none;\n",
              "      fill: #1967D2;\n",
              "      height: 32px;\n",
              "      padding: 0 0 0 0;\n",
              "      width: 32px;\n",
              "    }\n",
              "\n",
              "    .colab-df-convert:hover {\n",
              "      background-color: #E2EBFA;\n",
              "      box-shadow: 0px 1px 2px rgba(60, 64, 67, 0.3), 0px 1px 3px 1px rgba(60, 64, 67, 0.15);\n",
              "      fill: #174EA6;\n",
              "    }\n",
              "\n",
              "    [theme=dark] .colab-df-convert {\n",
              "      background-color: #3B4455;\n",
              "      fill: #D2E3FC;\n",
              "    }\n",
              "\n",
              "    [theme=dark] .colab-df-convert:hover {\n",
              "      background-color: #434B5C;\n",
              "      box-shadow: 0px 1px 3px 1px rgba(0, 0, 0, 0.15);\n",
              "      filter: drop-shadow(0px 1px 2px rgba(0, 0, 0, 0.3));\n",
              "      fill: #FFFFFF;\n",
              "    }\n",
              "  </style>\n",
              "\n",
              "      <script>\n",
              "        const buttonEl =\n",
              "          document.querySelector('#df-9420cbd9-a2e6-419a-9e94-5ad1fd453992 button.colab-df-convert');\n",
              "        buttonEl.style.display =\n",
              "          google.colab.kernel.accessAllowed ? 'block' : 'none';\n",
              "\n",
              "        async function convertToInteractive(key) {\n",
              "          const element = document.querySelector('#df-9420cbd9-a2e6-419a-9e94-5ad1fd453992');\n",
              "          const dataTable =\n",
              "            await google.colab.kernel.invokeFunction('convertToInteractive',\n",
              "                                                     [key], {});\n",
              "          if (!dataTable) return;\n",
              "\n",
              "          const docLinkHtml = 'Like what you see? Visit the ' +\n",
              "            '<a target=\"_blank\" href=https://colab.research.google.com/notebooks/data_table.ipynb>data table notebook</a>'\n",
              "            + ' to learn more about interactive tables.';\n",
              "          element.innerHTML = '';\n",
              "          dataTable['output_type'] = 'display_data';\n",
              "          await google.colab.output.renderOutput(dataTable, element);\n",
              "          const docLink = document.createElement('div');\n",
              "          docLink.innerHTML = docLinkHtml;\n",
              "          element.appendChild(docLink);\n",
              "        }\n",
              "      </script>\n",
              "    </div>\n",
              "  </div>\n",
              "  "
            ]
          },
          "metadata": {},
          "execution_count": 5
        }
      ],
      "source": [
        "df_articles = pd.read_csv(\"recsys_articles.csv\")\n",
        "df_articles.head()"
      ]
    },
    {
      "cell_type": "code",
      "execution_count": null,
      "id": "1fa9ba81",
      "metadata": {
        "id": "1fa9ba81",
        "outputId": "d78f2d22-be7b-44f7-f80d-f9fb47f56f1f"
      },
      "outputs": [
        {
          "data": {
            "text/plain": [
              "(6536, 21)"
            ]
          },
          "execution_count": 1313,
          "metadata": {},
          "output_type": "execute_result"
        }
      ],
      "source": [
        "df_articles.shape"
      ]
    },
    {
      "cell_type": "code",
      "execution_count": null,
      "id": "a7114a8a",
      "metadata": {
        "id": "a7114a8a",
        "outputId": "b4ec52ca-eec3-4ae0-9906-99ed14dfcc55"
      },
      "outputs": [
        {
          "data": {
            "text/plain": [
              "article_id                       int64\n",
              "prod_name                       object\n",
              "product_type                     int64\n",
              "product_type_name               object\n",
              "product_group_name              object\n",
              "colour_group                     int64\n",
              "colour_group_name               object\n",
              "perceived_colour_value           int64\n",
              "perceived_colour_value_name     object\n",
              "perceived_colour_master          int64\n",
              "perceived_colour_master_name    object\n",
              "department                       int64\n",
              "department_name                 object\n",
              "index                           object\n",
              "index_name                      object\n",
              "index_group                      int64\n",
              "index_group_name                object\n",
              "section                          int64\n",
              "section_name                    object\n",
              "garment_group                    int64\n",
              "garment_group_name              object\n",
              "dtype: object"
            ]
          },
          "execution_count": 1314,
          "metadata": {},
          "output_type": "execute_result"
        }
      ],
      "source": [
        "df_articles.dtypes"
      ]
    },
    {
      "cell_type": "markdown",
      "id": "1bdca11c",
      "metadata": {
        "id": "1bdca11c"
      },
      "source": [
        "3) We now want to see which column contains NaN values, but we're lucky beacuse we don't have them."
      ]
    },
    {
      "cell_type": "code",
      "execution_count": null,
      "id": "f46f7fac",
      "metadata": {
        "id": "f46f7fac",
        "outputId": "685687d8-35b4-4e8b-d70b-4cd9832b4569"
      },
      "outputs": [
        {
          "data": {
            "text/plain": [
              "article_id                      0\n",
              "prod_name                       0\n",
              "product_type                    0\n",
              "product_type_name               0\n",
              "product_group_name              0\n",
              "colour_group                    0\n",
              "colour_group_name               0\n",
              "perceived_colour_value          0\n",
              "perceived_colour_value_name     0\n",
              "perceived_colour_master         0\n",
              "perceived_colour_master_name    0\n",
              "department                      0\n",
              "department_name                 0\n",
              "index                           0\n",
              "index_name                      0\n",
              "index_group                     0\n",
              "index_group_name                0\n",
              "section                         0\n",
              "section_name                    0\n",
              "garment_group                   0\n",
              "garment_group_name              0\n",
              "dtype: int64"
            ]
          },
          "execution_count": 1315,
          "metadata": {},
          "output_type": "execute_result"
        }
      ],
      "source": [
        "df_articles.isnull().sum()"
      ]
    },
    {
      "cell_type": "markdown",
      "id": "b6b1bd9c",
      "metadata": {
        "id": "b6b1bd9c"
      },
      "source": [
        "Through the function nunique( ) we can see the number of distinct elements for each column and through a deeper analysis we find out that some columns present values like '-1', 'Unknown' or 'undefined'."
      ]
    },
    {
      "cell_type": "code",
      "execution_count": null,
      "id": "f4be75af",
      "metadata": {
        "id": "f4be75af",
        "outputId": "cc8701af-9c13-43e6-8a9b-c8dde77c4574"
      },
      "outputs": [
        {
          "data": {
            "text/plain": [
              "article_id                      6536\n",
              "prod_name                       3684\n",
              "product_type                      82\n",
              "product_type_name                 82\n",
              "product_group_name                12\n",
              "colour_group                      46\n",
              "colour_group_name                 46\n",
              "perceived_colour_value             7\n",
              "perceived_colour_value_name        7\n",
              "perceived_colour_master           18\n",
              "perceived_colour_master_name      18\n",
              "department                       182\n",
              "department_name                  144\n",
              "index                              9\n",
              "index_name                         9\n",
              "index_group                        5\n",
              "index_group_name                   5\n",
              "section                           43\n",
              "section_name                      43\n",
              "garment_group                     21\n",
              "garment_group_name                21\n",
              "dtype: int64"
            ]
          },
          "execution_count": 1316,
          "metadata": {},
          "output_type": "execute_result"
        }
      ],
      "source": [
        "df_articles.nunique()"
      ]
    },
    {
      "cell_type": "code",
      "execution_count": null,
      "id": "402c7f9f",
      "metadata": {
        "id": "402c7f9f",
        "outputId": "e6d948ca-70cc-4928-a51f-d836bbe8e045"
      },
      "outputs": [
        {
          "data": {
            "text/plain": [
              "array([304, 273, 532, 252, 306, 302,  -1,  67,  72,  73, 275, 265, 308,\n",
              "        81, 286, 262, 277, 255, 272, 263, 257, 254,  86,  59,  70, 509,\n",
              "        66, 259, 274, 253, 499, 289, 512, 291, 256, 296, 298,  57, 264,\n",
              "       245, 258, 283,  87,  94, 297,  76,  80,  75, 496, 299,  78,  69,\n",
              "        74, 508, 476, 267,  77, 271,  71, 305, 293, 475,  88, 276,  90,\n",
              "        92, 144, 300,  93,  79, 268, 529,  84,  91, 270, 261, 230,  89,\n",
              "       511, 465, 521,  68])"
            ]
          },
          "execution_count": 1317,
          "metadata": {},
          "output_type": "execute_result"
        }
      ],
      "source": [
        "df_articles[\"product_type\"].unique()"
      ]
    },
    {
      "cell_type": "code",
      "execution_count": null,
      "id": "bb9b18e7",
      "metadata": {
        "id": "bb9b18e7",
        "outputId": "8243f604-6a8c-4e68-9846-c4594edf66f2"
      },
      "outputs": [
        {
          "data": {
            "text/plain": [
              "array(['Underwear Tights', 'Leggings/Tights', 'Umbrella', 'Sweater',\n",
              "       'Bra', 'Socks', 'Unknown', 'Belt', 'Hair clip', 'Hair string',\n",
              "       'Skirt', 'Dress', 'Hoodie', 'Sunglasses', 'Underwear bottom',\n",
              "       'Jacket', 'Costumes', 'T-shirt', 'Trousers', 'Coat', 'Polo shirt',\n",
              "       'Top', 'Ballerinas', 'Swimwear bottom', 'Earring', 'Felt hat',\n",
              "       'Bag', 'Shirt', 'Shorts', 'Vest top', 'Braces', 'Nipple covers',\n",
              "       'Hair ties', 'Bra extender', 'Bodysuit', 'Pyjama bottom',\n",
              "       'Bikini top', 'Swimsuit', 'Blazer', 'Cardigan', 'Blouse',\n",
              "       'Underwear body', 'Boots', 'Sneakers', 'Pyjama set', 'Hat/brim',\n",
              "       'Scarf', 'Hat/beanie', 'Beanie', 'Swimwear set',\n",
              "       'Other accessories', 'Cap/peaked', 'Hair/alice band', 'Earrings',\n",
              "       'Shoulder bag', 'Jumpsuit/Playsuit', 'Necklace', 'Outdoor overall',\n",
              "       'Gloves', 'Robe', 'Night gown', 'Tote bag', 'Flip flop',\n",
              "       'Outdoor trousers', 'Pumps', 'Heeled sandals', 'Flat shoe',\n",
              "       'Sarong', 'Slippers', 'Ring', 'Dungarees', 'Mobile case', 'Wallet',\n",
              "       'Sandals', 'Garment Set', 'Outdoor Waistcoat', 'Heels',\n",
              "       'Other shoe', 'Hairband', 'Flat shoes', 'Dog wear', 'Bracelet'],\n",
              "      dtype=object)"
            ]
          },
          "execution_count": 1318,
          "metadata": {},
          "output_type": "execute_result"
        }
      ],
      "source": [
        "df_articles[\"product_type_name\"].unique()"
      ]
    },
    {
      "cell_type": "code",
      "execution_count": null,
      "id": "f5d3fe4e",
      "metadata": {
        "id": "f5d3fe4e",
        "outputId": "0b884f18-d802-48c1-9b95-dcfc0063662b"
      },
      "outputs": [
        {
          "data": {
            "text/plain": [
              "array(['Socks & Tights', 'Garment Lower body', 'Items',\n",
              "       'Garment Upper body', 'Underwear', 'Unknown', 'Accessories',\n",
              "       'Garment Full body', 'Shoes', 'Swimwear', 'Nightwear', 'Bags'],\n",
              "      dtype=object)"
            ]
          },
          "execution_count": 1319,
          "metadata": {},
          "output_type": "execute_result"
        }
      ],
      "source": [
        "df_articles[\"product_group_name\"].unique()"
      ]
    },
    {
      "cell_type": "code",
      "execution_count": null,
      "id": "6ed53c5d",
      "metadata": {
        "id": "6ed53c5d",
        "outputId": "9ff70d58-897e-4eb4-9788-1aa1595b0e75"
      },
      "outputs": [
        {
          "data": {
            "text/plain": [
              "array(['Black', 'Blue', 'Grey', 'Beige', 'White', 'Brown', 'Mole',\n",
              "       'Khaki green', 'Red', 'Metal', 'Lilac Purple', 'Yellow', 'Pink',\n",
              "       'undefined', 'Unknown', 'Green', 'Orange', 'Turquoise'],\n",
              "      dtype=object)"
            ]
          },
          "execution_count": 1320,
          "metadata": {},
          "output_type": "execute_result"
        }
      ],
      "source": [
        "df_articles[\"perceived_colour_master_name\"].unique()"
      ]
    },
    {
      "cell_type": "code",
      "execution_count": null,
      "id": "5bcbf946",
      "metadata": {
        "id": "5bcbf946",
        "outputId": "0ef3cb00-b8ef-4cd3-d220-01ab8c678f94"
      },
      "outputs": [
        {
          "data": {
            "text/plain": [
              "array(['Socks and Tights', 'Accessories', 'Jersey Fancy',\n",
              "       'Under-, Nightwear', 'Jersey Basic', 'Outdoor', 'Trousers',\n",
              "       'Trousers Denim', 'Shoes', 'Swimwear', 'Shirts', 'Blouses',\n",
              "       'Knitwear', 'Dresses Ladies', 'Dressed', 'Shorts',\n",
              "       'Special Offers', 'Skirts', 'Woven/Jersey/Knitted mix Baby',\n",
              "       'Unknown', 'Dresses/Skirts girls'], dtype=object)"
            ]
          },
          "execution_count": 1321,
          "metadata": {},
          "output_type": "execute_result"
        }
      ],
      "source": [
        "df_articles[\"garment_group_name\"].unique()"
      ]
    },
    {
      "cell_type": "markdown",
      "id": "17edd3b1",
      "metadata": {
        "id": "17edd3b1"
      },
      "source": [
        "We calculate the percentage of unknown elements for the columns that present these values and create a new dataset 'articles' without those articles."
      ]
    },
    {
      "cell_type": "code",
      "execution_count": null,
      "id": "9ca074eb",
      "metadata": {
        "id": "9ca074eb",
        "outputId": "db7aca57-8857-4e87-8433-1116b2f2236d"
      },
      "outputs": [
        {
          "name": "stdout",
          "output_type": "stream",
          "text": [
            "The percentage of unknown product type name is: 1.03%\n",
            "The percentage of unknown product group name is: 1.03%\n",
            "The percentage of unknown perceived colour master name is: 0.92%\n",
            "The percentage of unknown garment group name is: 1.19%\n",
            "The percentage of undefined perceived colour master name is: 0.08%\n"
          ]
        }
      ],
      "source": [
        "Unknown_product_type_name = df_articles.loc[(df_articles.product_type_name == \"Unknown\")]\n",
        "Unknown_product_group_name = df_articles.loc[(df_articles.product_group_name == \"Unknown\")]\n",
        "Unknown_perceived_colour_master_name = df_articles.loc[(df_articles.perceived_colour_master_name == \"Unknown\")]\n",
        "Unknown_garment_group_name = df_articles.loc[(df_articles.garment_group_name == \"Unknown\")]\n",
        "Undefined_perceived_colour_master_name = df_articles.loc[(df_articles.perceived_colour_master_name == \"undefined\")]\n",
        "print(f'The percentage of unknown product type name is: {round((len(Unknown_product_type_name)/len(df_articles)*100),2)}%')\n",
        "print(f'The percentage of unknown product group name is: {round((len(Unknown_product_group_name)/len(df_articles)*100),2)}%')\n",
        "print(f'The percentage of unknown perceived colour master name is: {round((len(Unknown_perceived_colour_master_name)/len(df_articles)*100),2)}%')\n",
        "print(f'The percentage of unknown garment group name is: {round((len(Unknown_garment_group_name)/len(df_articles)*100),2)}%')\n",
        "print(f'The percentage of undefined perceived colour master name is: {round((len(Undefined_perceived_colour_master_name)/len(df_articles)*100),2)}%')"
      ]
    },
    {
      "cell_type": "code",
      "execution_count": 6,
      "id": "69782756",
      "metadata": {
        "colab": {
          "base_uri": "https://localhost:8080/"
        },
        "id": "69782756",
        "outputId": "aa19d0aa-52c3-4c10-d11b-a56900556d02"
      },
      "outputs": [
        {
          "output_type": "stream",
          "name": "stdout",
          "text": [
            "New dataset contains 6328 articles\n"
          ]
        }
      ],
      "source": [
        "articles = df_articles[df_articles.product_type_name != \"Unknown\"]\n",
        "articles = articles[articles.product_group_name != \"Unknown\"]\n",
        "articles = articles[articles.perceived_colour_master_name != \"Unknown\"]\n",
        "articles = articles[articles.garment_group_name != \"Unknown\"]\n",
        "articles = articles[articles.perceived_colour_master_name != \"undefined\"]\n",
        "print(f\"New dataset contains {len(articles)} articles\")"
      ]
    },
    {
      "cell_type": "markdown",
      "id": "0e214927",
      "metadata": {
        "id": "0e214927"
      },
      "source": [
        "4) We can now divide articles for their features starting from the division in types."
      ]
    },
    {
      "cell_type": "markdown",
      "id": "aa489e68",
      "metadata": {
        "id": "aa489e68"
      },
      "source": [
        "### PRODUCT TYPES"
      ]
    },
    {
      "cell_type": "markdown",
      "id": "4336030c",
      "metadata": {
        "id": "4336030c"
      },
      "source": [
        "We import Counter which help us understanding how many articles of that specific type are present in our dataset, in this way we create a new dataframe that we're going to plot then. In this case the product type with more articles is 'Trousers' with 942 articles."
      ]
    },
    {
      "cell_type": "code",
      "execution_count": null,
      "id": "bdbe5dbe",
      "metadata": {
        "id": "bdbe5dbe",
        "outputId": "dbd54864-855d-40bc-c828-eb80dfeceb0c"
      },
      "outputs": [
        {
          "data": {
            "text/html": [
              "<div>\n",
              "<style scoped>\n",
              "    .dataframe tbody tr th:only-of-type {\n",
              "        vertical-align: middle;\n",
              "    }\n",
              "\n",
              "    .dataframe tbody tr th {\n",
              "        vertical-align: top;\n",
              "    }\n",
              "\n",
              "    .dataframe thead th {\n",
              "        text-align: right;\n",
              "    }\n",
              "</style>\n",
              "<table border=\"1\" class=\"dataframe\">\n",
              "  <thead>\n",
              "    <tr style=\"text-align: right;\">\n",
              "      <th></th>\n",
              "      <th>Type</th>\n",
              "      <th>Count</th>\n",
              "    </tr>\n",
              "  </thead>\n",
              "  <tbody>\n",
              "    <tr>\n",
              "      <th>17</th>\n",
              "      <td>Trousers</td>\n",
              "      <td>942</td>\n",
              "    </tr>\n",
              "    <tr>\n",
              "      <th>3</th>\n",
              "      <td>Sweater</td>\n",
              "      <td>613</td>\n",
              "    </tr>\n",
              "    <tr>\n",
              "      <th>10</th>\n",
              "      <td>Dress</td>\n",
              "      <td>561</td>\n",
              "    </tr>\n",
              "    <tr>\n",
              "      <th>20</th>\n",
              "      <td>Top</td>\n",
              "      <td>418</td>\n",
              "    </tr>\n",
              "    <tr>\n",
              "      <th>16</th>\n",
              "      <td>T-shirt</td>\n",
              "      <td>376</td>\n",
              "    </tr>\n",
              "    <tr>\n",
              "      <th>...</th>\n",
              "      <td>...</td>\n",
              "      <td>...</td>\n",
              "    </tr>\n",
              "    <tr>\n",
              "      <th>48</th>\n",
              "      <td>Swimwear set</td>\n",
              "      <td>1</td>\n",
              "    </tr>\n",
              "    <tr>\n",
              "      <th>15</th>\n",
              "      <td>Costumes</td>\n",
              "      <td>1</td>\n",
              "    </tr>\n",
              "    <tr>\n",
              "      <th>29</th>\n",
              "      <td>Braces</td>\n",
              "      <td>1</td>\n",
              "    </tr>\n",
              "    <tr>\n",
              "      <th>30</th>\n",
              "      <td>Nipple covers</td>\n",
              "      <td>1</td>\n",
              "    </tr>\n",
              "    <tr>\n",
              "      <th>56</th>\n",
              "      <td>Outdoor overall</td>\n",
              "      <td>1</td>\n",
              "    </tr>\n",
              "  </tbody>\n",
              "</table>\n",
              "<p>80 rows × 2 columns</p>\n",
              "</div>"
            ],
            "text/plain": [
              "               Type  Count\n",
              "17         Trousers    942\n",
              "3           Sweater    613\n",
              "10            Dress    561\n",
              "20              Top    418\n",
              "16          T-shirt    376\n",
              "..              ...    ...\n",
              "48     Swimwear set      1\n",
              "15         Costumes      1\n",
              "29           Braces      1\n",
              "30    Nipple covers      1\n",
              "56  Outdoor overall      1\n",
              "\n",
              "[80 rows x 2 columns]"
            ]
          },
          "execution_count": 1324,
          "metadata": {},
          "output_type": "execute_result"
        }
      ],
      "source": [
        "from collections import Counter\n",
        "product_type_name = Counter(articles[\"product_type_name\"])\n",
        "prod_type = pd.DataFrame([product_type_name]).T.reset_index()\n",
        "prod_type.columns = (\"Type\",\"Count\")\n",
        "prod_type = prod_type.sort_values(by=\"Count\", ascending = False)\n",
        "prod_type"
      ]
    },
    {
      "cell_type": "markdown",
      "id": "1b44a6af",
      "metadata": {
        "id": "1b44a6af"
      },
      "source": [
        "Visual representation :"
      ]
    },
    {
      "cell_type": "code",
      "execution_count": null,
      "id": "8b421c9b",
      "metadata": {
        "id": "8b421c9b",
        "outputId": "8d5ae9dc-6378-42fb-fe2c-73dfdb23ccaa"
      },
      "outputs": [
        {
          "data": {
            "image/png": "[encoded data removed]",
            "text/plain": [
              "<Figure size 1368x648 with 1 Axes>"
            ]
          },
          "metadata": {
            "needs_background": "light"
          },
          "output_type": "display_data"
        }
      ],
      "source": [
        "plt.figure(figsize=(19,9))\n",
        "sns.barplot(x='Type', y='Count', data=prod_type)\n",
        "plt.xticks(rotation=90)\n",
        "plt.show()"
      ]
    },
    {
      "cell_type": "markdown",
      "id": "fa74f25c",
      "metadata": {
        "id": "fa74f25c"
      },
      "source": [
        "### PRODUCT GROUPS"
      ]
    },
    {
      "cell_type": "markdown",
      "id": "6d16bd87",
      "metadata": {
        "id": "6d16bd87"
      },
      "source": [
        "Having 80 different types of products can be useful but in order to make data more interpretable we divide articles according to their product group. We see that the more relevant group with more articles in the dataset is 'Garment Upper body' with 2727."
      ]
    },
    {
      "cell_type": "code",
      "execution_count": null,
      "id": "d8c05457",
      "metadata": {
        "id": "d8c05457",
        "outputId": "cc72ed50-9255-43dc-ad4b-1f0f7e4593db"
      },
      "outputs": [
        {
          "data": {
            "text/html": [
              "<div>\n",
              "<style scoped>\n",
              "    .dataframe tbody tr th:only-of-type {\n",
              "        vertical-align: middle;\n",
              "    }\n",
              "\n",
              "    .dataframe tbody tr th {\n",
              "        vertical-align: top;\n",
              "    }\n",
              "\n",
              "    .dataframe thead th {\n",
              "        text-align: right;\n",
              "    }\n",
              "</style>\n",
              "<table border=\"1\" class=\"dataframe\">\n",
              "  <thead>\n",
              "    <tr style=\"text-align: right;\">\n",
              "      <th></th>\n",
              "      <th>Group</th>\n",
              "      <th>Count</th>\n",
              "    </tr>\n",
              "  </thead>\n",
              "  <tbody>\n",
              "    <tr>\n",
              "      <th>3</th>\n",
              "      <td>Garment Upper body</td>\n",
              "      <td>2727</td>\n",
              "    </tr>\n",
              "    <tr>\n",
              "      <th>1</th>\n",
              "      <td>Garment Lower body</td>\n",
              "      <td>1388</td>\n",
              "    </tr>\n",
              "    <tr>\n",
              "      <th>6</th>\n",
              "      <td>Garment Full body</td>\n",
              "      <td>615</td>\n",
              "    </tr>\n",
              "    <tr>\n",
              "      <th>4</th>\n",
              "      <td>Underwear</td>\n",
              "      <td>543</td>\n",
              "    </tr>\n",
              "    <tr>\n",
              "      <th>5</th>\n",
              "      <td>Accessories</td>\n",
              "      <td>378</td>\n",
              "    </tr>\n",
              "    <tr>\n",
              "      <th>0</th>\n",
              "      <td>Socks &amp; Tights</td>\n",
              "      <td>244</td>\n",
              "    </tr>\n",
              "    <tr>\n",
              "      <th>8</th>\n",
              "      <td>Swimwear</td>\n",
              "      <td>228</td>\n",
              "    </tr>\n",
              "    <tr>\n",
              "      <th>7</th>\n",
              "      <td>Shoes</td>\n",
              "      <td>133</td>\n",
              "    </tr>\n",
              "    <tr>\n",
              "      <th>9</th>\n",
              "      <td>Nightwear</td>\n",
              "      <td>60</td>\n",
              "    </tr>\n",
              "    <tr>\n",
              "      <th>2</th>\n",
              "      <td>Items</td>\n",
              "      <td>10</td>\n",
              "    </tr>\n",
              "    <tr>\n",
              "      <th>10</th>\n",
              "      <td>Bags</td>\n",
              "      <td>2</td>\n",
              "    </tr>\n",
              "  </tbody>\n",
              "</table>\n",
              "</div>"
            ],
            "text/plain": [
              "                 Group  Count\n",
              "3   Garment Upper body   2727\n",
              "1   Garment Lower body   1388\n",
              "6    Garment Full body    615\n",
              "4            Underwear    543\n",
              "5          Accessories    378\n",
              "0       Socks & Tights    244\n",
              "8             Swimwear    228\n",
              "7                Shoes    133\n",
              "9            Nightwear     60\n",
              "2                Items     10\n",
              "10                Bags      2"
            ]
          },
          "execution_count": 1326,
          "metadata": {},
          "output_type": "execute_result"
        }
      ],
      "source": [
        "product_group_name = Counter(articles[\"product_group_name\"])\n",
        "prod_group = pd.DataFrame([product_group_name]).T.reset_index()\n",
        "prod_group.columns = (\"Group\",\"Count\")\n",
        "prod_group = prod_group.sort_values(by=\"Count\", ascending = False)\n",
        "prod_group"
      ]
    },
    {
      "cell_type": "markdown",
      "id": "06a425d4",
      "metadata": {
        "id": "06a425d4"
      },
      "source": [
        "We plot the results and immediately notice how this time we have a simpler representation of the articles since we have only 11 groups in which they can be divided."
      ]
    },
    {
      "cell_type": "code",
      "execution_count": null,
      "id": "4409d3d8",
      "metadata": {
        "id": "4409d3d8",
        "outputId": "de02c60c-1381-47b5-f4f1-3ced54b39b1d"
      },
      "outputs": [
        {
          "data": {
            "image/png": "[encoded data removed]",
            "text/plain": [
              "<Figure size 1080x360 with 1 Axes>"
            ]
          },
          "metadata": {
            "needs_background": "light"
          },
          "output_type": "display_data"
        }
      ],
      "source": [
        "plt.figure(figsize=(15,5))\n",
        "sns.barplot(x='Group', y='Count', data=prod_group)\n",
        "plt.xticks(rotation=45)\n",
        "plt.show()"
      ]
    },
    {
      "cell_type": "markdown",
      "id": "60559d32",
      "metadata": {
        "id": "60559d32"
      },
      "source": [
        "### COLOUR"
      ]
    },
    {
      "cell_type": "markdown",
      "id": "8ee66a9a",
      "metadata": {
        "id": "8ee66a9a"
      },
      "source": [
        "In the original dataset colours of the articles are described by several attributes, without taking in consideration integer data types the colour is described by: 'colour_group_name','perceived_colour_value_name' and 'perceived_colour_master_name'. Looking at the plots it was easy for us to notice how the attribute that can intepret better data is 'perceived_colour_master_name'(16 values) as 'colour_group_name' and 'perceived_colour_value_name' either have too much values or not so many."
      ]
    },
    {
      "cell_type": "code",
      "execution_count": null,
      "id": "d645b36d",
      "metadata": {
        "id": "d645b36d",
        "outputId": "56a9e7b6-65bc-43cd-93b7-acfeb9aaced5"
      },
      "outputs": [
        {
          "data": {
            "image/png": "[encoded data removed]",
            "text/plain": [
              "<Figure size 1080x360 with 1 Axes>"
            ]
          },
          "metadata": {
            "needs_background": "light"
          },
          "output_type": "display_data"
        }
      ],
      "source": [
        "colour_group_name = Counter(articles[\"colour_group_name\"])\n",
        "colour_group = pd.DataFrame([colour_group_name]).T.reset_index()\n",
        "colour_group.columns = (\"Colour\",\"Count\")\n",
        "colour_group = colour_group.sort_values(by=\"Count\", ascending = False)\n",
        "plt.figure(figsize=(15,5))\n",
        "sns.barplot(x='Colour', y='Count', data=colour_group)\n",
        "plt.xticks(rotation=68)\n",
        "plt.show()"
      ]
    },
    {
      "cell_type": "code",
      "execution_count": null,
      "id": "fcf1914b",
      "metadata": {
        "id": "fcf1914b",
        "outputId": "b18a58ba-4c48-478a-dd2b-0cec0d61c773"
      },
      "outputs": [
        {
          "data": {
            "image/png": "[encoded data removed]",
            "text/plain": [
              "<Figure size 720x360 with 1 Axes>"
            ]
          },
          "metadata": {
            "needs_background": "light"
          },
          "output_type": "display_data"
        }
      ],
      "source": [
        "perceived_colour_value_name = Counter(articles[\"perceived_colour_value_name\"])\n",
        "perceived_colour = pd.DataFrame([perceived_colour_value_name]).T.reset_index()\n",
        "perceived_colour.columns = (\"Perceived Colour\",\"Count\")\n",
        "perceived_colour = perceived_colour.sort_values(by=\"Count\", ascending = False)\n",
        "plt.figure(figsize=(10,5))\n",
        "sns.barplot(x='Perceived Colour', y='Count', data=perceived_colour)\n",
        "plt.xticks(rotation=45)\n",
        "plt.show()"
      ]
    },
    {
      "cell_type": "markdown",
      "id": "e82a5129",
      "metadata": {
        "id": "e82a5129"
      },
      "source": [
        "The vast majority of articles are black."
      ]
    },
    {
      "cell_type": "code",
      "execution_count": null,
      "id": "9fd6a65c",
      "metadata": {
        "id": "9fd6a65c",
        "outputId": "5da55765-c80a-468d-cff2-7d81ec652d15"
      },
      "outputs": [
        {
          "data": {
            "image/png": "[encoded data removed]",
            "text/plain": [
              "<Figure size 720x360 with 1 Axes>"
            ]
          },
          "metadata": {
            "needs_background": "light"
          },
          "output_type": "display_data"
        }
      ],
      "source": [
        "perceived_colour_master_name = Counter(articles[\"perceived_colour_master_name\"])\n",
        "master = pd.DataFrame([perceived_colour_master_name]).T.reset_index()\n",
        "master.columns = (\"Master\",\"Count\")\n",
        "master = master.sort_values(by=\"Count\", ascending = False)\n",
        "plt.figure(figsize=(10,5))\n",
        "sns.barplot(x='Master', y='Count', data=master)\n",
        "plt.xticks(rotation=45)\n",
        "plt.show()"
      ]
    },
    {
      "cell_type": "markdown",
      "id": "88206b63",
      "metadata": {
        "id": "88206b63"
      },
      "source": [
        "### DEPARTMENT"
      ]
    },
    {
      "cell_type": "markdown",
      "id": "59248d9f",
      "metadata": {
        "id": "59248d9f"
      },
      "source": [
        "We continue dividing articles according to their features, in this case the department with more articles is 'Jersey', although 138 departments are not so useful to categorize data."
      ]
    },
    {
      "cell_type": "code",
      "execution_count": null,
      "id": "c22f3ede",
      "metadata": {
        "id": "c22f3ede",
        "outputId": "f3940d4d-aba7-4c0f-d88e-cca2990bc959"
      },
      "outputs": [
        {
          "data": {
            "image/png": "[encoded data removed]",
            "text/plain": [
              "<Figure size 1440x720 with 1 Axes>"
            ]
          },
          "metadata": {
            "needs_background": "light"
          },
          "output_type": "display_data"
        }
      ],
      "source": [
        "department_name = Counter(articles[\"department_name\"])\n",
        "department = pd.DataFrame([department_name]).T.reset_index()\n",
        "department.columns = (\"Department\",\"Count\")\n",
        "department = department.sort_values(by=\"Count\", ascending = False)\n",
        "plt.figure(figsize=(20,10))\n",
        "sns.barplot(x='Department', y='Count', data=department)\n",
        "plt.xticks(rotation=90)\n",
        "plt.show()"
      ]
    },
    {
      "cell_type": "markdown",
      "id": "b7e86637",
      "metadata": {
        "id": "b7e86637"
      },
      "source": [
        "### INDEX"
      ]
    },
    {
      "cell_type": "markdown",
      "id": "ec110992",
      "metadata": {
        "id": "ec110992"
      },
      "source": [
        "Articles are divided in 'index_name' and 'index_group_name' which are quite the same, they both have few values and for this reason they're not so perfect to build our recommender system but they are useful in the visualization of data. \n",
        "The index with the highest number of articles is 'Ladieswear'."
      ]
    },
    {
      "cell_type": "code",
      "execution_count": null,
      "id": "5c8d0593",
      "metadata": {
        "id": "5c8d0593",
        "outputId": "e69254d6-6411-4d06-c1e1-35e3c2f5da8a"
      },
      "outputs": [
        {
          "data": {
            "image/png": "[encoded data removed]",
            "text/plain": [
              "<Figure size 1080x360 with 1 Axes>"
            ]
          },
          "metadata": {
            "needs_background": "light"
          },
          "output_type": "display_data"
        }
      ],
      "source": [
        "index_name = Counter(articles[\"index_name\"])\n",
        "index = pd.DataFrame([index_name]).T.reset_index()\n",
        "index.columns = (\"Index\",\"Count\")\n",
        "index = index.sort_values(by=\"Count\", ascending = False)\n",
        "plt.figure(figsize=(15,5))\n",
        "sns.barplot(x='Index', y='Count', data=index)\n",
        "plt.xticks(rotation=45)\n",
        "plt.show()"
      ]
    },
    {
      "cell_type": "code",
      "execution_count": null,
      "id": "84a1d7ae",
      "metadata": {
        "id": "84a1d7ae",
        "outputId": "ddd420ee-7b32-4224-8444-ea8e960816ed"
      },
      "outputs": [
        {
          "data": {
            "image/png": "[encoded data removed]",
            "text/plain": [
              "<Figure size 720x360 with 1 Axes>"
            ]
          },
          "metadata": {
            "needs_background": "light"
          },
          "output_type": "display_data"
        }
      ],
      "source": [
        "index_group_name = Counter(articles[\"index_group_name\"])\n",
        "index_group = pd.DataFrame([index_group_name]).T.reset_index()\n",
        "index_group.columns = (\"Index Group\",\"Count\")\n",
        "index_group = index_group.sort_values(by=\"Count\", ascending = False)\n",
        "plt.figure(figsize=(10,5))\n",
        "sns.barplot(x='Index Group', y='Count', data=index_group)\n",
        "plt.xticks(rotation=0)\n",
        "plt.show()"
      ]
    },
    {
      "cell_type": "markdown",
      "id": "fb462651",
      "metadata": {
        "id": "fb462651"
      },
      "source": [
        "### SECTION"
      ]
    },
    {
      "cell_type": "markdown",
      "id": "08583c93",
      "metadata": {
        "id": "08583c93"
      },
      "source": [
        "We have 42 sections in which we divide articles, in this case we plot only the 5 sections with the highest number of articles, the section with the most articles is 'Womens Everyday Collection' with 856."
      ]
    },
    {
      "cell_type": "code",
      "execution_count": null,
      "id": "8a42b371",
      "metadata": {
        "id": "8a42b371",
        "outputId": "b626c24f-6316-437f-bc87-35e0a20c1571"
      },
      "outputs": [
        {
          "data": {
            "text/html": [
              "<div>\n",
              "<style scoped>\n",
              "    .dataframe tbody tr th:only-of-type {\n",
              "        vertical-align: middle;\n",
              "    }\n",
              "\n",
              "    .dataframe tbody tr th {\n",
              "        vertical-align: top;\n",
              "    }\n",
              "\n",
              "    .dataframe thead th {\n",
              "        text-align: right;\n",
              "    }\n",
              "</style>\n",
              "<table border=\"1\" class=\"dataframe\">\n",
              "  <thead>\n",
              "    <tr style=\"text-align: right;\">\n",
              "      <th></th>\n",
              "      <th>Section</th>\n",
              "      <th>Count</th>\n",
              "    </tr>\n",
              "  </thead>\n",
              "  <tbody>\n",
              "    <tr>\n",
              "      <th>19</th>\n",
              "      <td>Womens Everyday Collection</td>\n",
              "      <td>856</td>\n",
              "    </tr>\n",
              "    <tr>\n",
              "      <th>22</th>\n",
              "      <td>Divided Collection</td>\n",
              "      <td>763</td>\n",
              "    </tr>\n",
              "    <tr>\n",
              "      <th>26</th>\n",
              "      <td>Womens Tailoring</td>\n",
              "      <td>514</td>\n",
              "    </tr>\n",
              "    <tr>\n",
              "      <th>3</th>\n",
              "      <td>Womens Lingerie</td>\n",
              "      <td>460</td>\n",
              "    </tr>\n",
              "    <tr>\n",
              "      <th>0</th>\n",
              "      <td>Womens Nightwear, Socks &amp; Tigh</td>\n",
              "      <td>338</td>\n",
              "    </tr>\n",
              "  </tbody>\n",
              "</table>\n",
              "</div>"
            ],
            "text/plain": [
              "                           Section  Count\n",
              "19      Womens Everyday Collection    856\n",
              "22              Divided Collection    763\n",
              "26                Womens Tailoring    514\n",
              "3                  Womens Lingerie    460\n",
              "0   Womens Nightwear, Socks & Tigh    338"
            ]
          },
          "execution_count": 1338,
          "metadata": {},
          "output_type": "execute_result"
        }
      ],
      "source": [
        "section_name = Counter(articles[\"section_name\"])\n",
        "section = pd.DataFrame([section_name]).T.reset_index()\n",
        "section.columns = (\"Section\",\"Count\")\n",
        "section = section.sort_values(by=\"Count\", ascending = False)\n",
        "section.head()"
      ]
    },
    {
      "cell_type": "code",
      "execution_count": null,
      "id": "b971dcea",
      "metadata": {
        "id": "b971dcea",
        "outputId": "38d86b0a-76bc-4c02-ff25-6f028dc20d5d"
      },
      "outputs": [
        {
          "data": {
            "image/png": "[encoded data removed]",
            "text/plain": [
              "<Figure size 1440x360 with 1 Axes>"
            ]
          },
          "metadata": {
            "needs_background": "light"
          },
          "output_type": "display_data"
        }
      ],
      "source": [
        "plt.figure(figsize=(20,5))\n",
        "sns.barplot(x='Section', y='Count', data=section)\n",
        "plt.xticks(rotation=75)\n",
        "plt.show()"
      ]
    },
    {
      "cell_type": "markdown",
      "id": "ffb00a5b",
      "metadata": {
        "id": "ffb00a5b"
      },
      "source": [
        "### GARMENT"
      ]
    },
    {
      "cell_type": "markdown",
      "id": "0bdee3ad",
      "metadata": {
        "id": "0bdee3ad"
      },
      "source": [
        "Probably better to group data resepect to 'section' that has too many values. For this reason we decided to pick it to build our model."
      ]
    },
    {
      "cell_type": "code",
      "execution_count": null,
      "id": "686d3f3c",
      "metadata": {
        "id": "686d3f3c",
        "outputId": "38caa4ee-2846-4228-f59e-f26e437bfc66"
      },
      "outputs": [
        {
          "data": {
            "image/png": "[encoded data removed]",
            "text/plain": [
              "<Figure size 720x360 with 1 Axes>"
            ]
          },
          "metadata": {
            "needs_background": "light"
          },
          "output_type": "display_data"
        }
      ],
      "source": [
        "garment_group_name = Counter(articles[\"garment_group_name\"])\n",
        "garment_group = pd.DataFrame([garment_group_name]).T.reset_index()\n",
        "garment_group.columns = (\"Garment Group\",\"Count\")\n",
        "garment_group = garment_group.sort_values(by=\"Count\", ascending = False)\n",
        "plt.figure(figsize=(10,5))\n",
        "sns.barplot(x='Garment Group', y='Count', data=garment_group)\n",
        "plt.xticks(rotation=60)\n",
        "plt.show()"
      ]
    },
    {
      "cell_type": "markdown",
      "id": "07f9a922",
      "metadata": {
        "id": "07f9a922"
      },
      "source": [
        "We've finished creating the dataframe for each feature that describes articles in our dataset and we can now decide which of them to take in consideration for our recommender system. We started with the articles' dataset because we only need this to create our first recommender system which is going to be the Content-Based Filtering. This means that we don't need to analyse the other 2 files beacuse we only need articles' features in order to build it."
      ]
    },
    {
      "cell_type": "markdown",
      "id": "4d134beb",
      "metadata": {
        "id": "4d134beb"
      },
      "source": [
        "## CONTENT-BASED FILTERING RECOMMENDER SYSTEM"
      ]
    },
    {
      "cell_type": "markdown",
      "id": "4df747ef",
      "metadata": {
        "id": "4df747ef"
      },
      "source": [
        "In order to build a content-based filtering recommender, we need to set up our dataset so that rows represent articles and columns represent the features we're interested in."
      ]
    },
    {
      "cell_type": "markdown",
      "id": "662e6f1d",
      "metadata": {
        "id": "662e6f1d"
      },
      "source": [
        "First we need to manipulate the product_type_name column so that each product type is represented as a binary feature. '1' indicates that the article falls under that type, while '0' means doesn't."
      ]
    },
    {
      "cell_type": "code",
      "execution_count": null,
      "id": "7847c9b5",
      "metadata": {
        "id": "7847c9b5",
        "outputId": "382b1e1b-302f-4470-8ea5-e3146390b908"
      },
      "outputs": [
        {
          "data": {
            "text/html": [
              "<div>\n",
              "<style scoped>\n",
              "    .dataframe tbody tr th:only-of-type {\n",
              "        vertical-align: middle;\n",
              "    }\n",
              "\n",
              "    .dataframe tbody tr th {\n",
              "        vertical-align: top;\n",
              "    }\n",
              "\n",
              "    .dataframe thead th {\n",
              "        text-align: right;\n",
              "    }\n",
              "</style>\n",
              "<table border=\"1\" class=\"dataframe\">\n",
              "  <thead>\n",
              "    <tr style=\"text-align: right;\">\n",
              "      <th></th>\n",
              "      <th>Underwear Tights</th>\n",
              "      <th>Leggings/Tights</th>\n",
              "      <th>Umbrella</th>\n",
              "      <th>Sweater</th>\n",
              "      <th>Bra</th>\n",
              "      <th>Socks</th>\n",
              "      <th>Belt</th>\n",
              "      <th>Hair clip</th>\n",
              "      <th>Hair string</th>\n",
              "      <th>Skirt</th>\n",
              "      <th>...</th>\n",
              "      <th>Wallet</th>\n",
              "      <th>Sandals</th>\n",
              "      <th>Garment Set</th>\n",
              "      <th>Outdoor Waistcoat</th>\n",
              "      <th>Heels</th>\n",
              "      <th>Other shoe</th>\n",
              "      <th>Hairband</th>\n",
              "      <th>Flat shoes</th>\n",
              "      <th>Dog wear</th>\n",
              "      <th>Bracelet</th>\n",
              "    </tr>\n",
              "  </thead>\n",
              "  <tbody>\n",
              "    <tr>\n",
              "      <th>0</th>\n",
              "      <td>1</td>\n",
              "      <td>0</td>\n",
              "      <td>0</td>\n",
              "      <td>0</td>\n",
              "      <td>0</td>\n",
              "      <td>0</td>\n",
              "      <td>0</td>\n",
              "      <td>0</td>\n",
              "      <td>0</td>\n",
              "      <td>0</td>\n",
              "      <td>...</td>\n",
              "      <td>0</td>\n",
              "      <td>0</td>\n",
              "      <td>0</td>\n",
              "      <td>0</td>\n",
              "      <td>0</td>\n",
              "      <td>0</td>\n",
              "      <td>0</td>\n",
              "      <td>0</td>\n",
              "      <td>0</td>\n",
              "      <td>0</td>\n",
              "    </tr>\n",
              "    <tr>\n",
              "      <th>1</th>\n",
              "      <td>0</td>\n",
              "      <td>1</td>\n",
              "      <td>0</td>\n",
              "      <td>0</td>\n",
              "      <td>0</td>\n",
              "      <td>0</td>\n",
              "      <td>0</td>\n",
              "      <td>0</td>\n",
              "      <td>0</td>\n",
              "      <td>0</td>\n",
              "      <td>...</td>\n",
              "      <td>0</td>\n",
              "      <td>0</td>\n",
              "      <td>0</td>\n",
              "      <td>0</td>\n",
              "      <td>0</td>\n",
              "      <td>0</td>\n",
              "      <td>0</td>\n",
              "      <td>0</td>\n",
              "      <td>0</td>\n",
              "      <td>0</td>\n",
              "    </tr>\n",
              "    <tr>\n",
              "      <th>2</th>\n",
              "      <td>1</td>\n",
              "      <td>0</td>\n",
              "      <td>0</td>\n",
              "      <td>0</td>\n",
              "      <td>0</td>\n",
              "      <td>0</td>\n",
              "      <td>0</td>\n",
              "      <td>0</td>\n",
              "      <td>0</td>\n",
              "      <td>0</td>\n",
              "      <td>...</td>\n",
              "      <td>0</td>\n",
              "      <td>0</td>\n",
              "      <td>0</td>\n",
              "      <td>0</td>\n",
              "      <td>0</td>\n",
              "      <td>0</td>\n",
              "      <td>0</td>\n",
              "      <td>0</td>\n",
              "      <td>0</td>\n",
              "      <td>0</td>\n",
              "    </tr>\n",
              "    <tr>\n",
              "      <th>3</th>\n",
              "      <td>1</td>\n",
              "      <td>0</td>\n",
              "      <td>0</td>\n",
              "      <td>0</td>\n",
              "      <td>0</td>\n",
              "      <td>0</td>\n",
              "      <td>0</td>\n",
              "      <td>0</td>\n",
              "      <td>0</td>\n",
              "      <td>0</td>\n",
              "      <td>...</td>\n",
              "      <td>0</td>\n",
              "      <td>0</td>\n",
              "      <td>0</td>\n",
              "      <td>0</td>\n",
              "      <td>0</td>\n",
              "      <td>0</td>\n",
              "      <td>0</td>\n",
              "      <td>0</td>\n",
              "      <td>0</td>\n",
              "      <td>0</td>\n",
              "    </tr>\n",
              "    <tr>\n",
              "      <th>4</th>\n",
              "      <td>0</td>\n",
              "      <td>1</td>\n",
              "      <td>0</td>\n",
              "      <td>0</td>\n",
              "      <td>0</td>\n",
              "      <td>0</td>\n",
              "      <td>0</td>\n",
              "      <td>0</td>\n",
              "      <td>0</td>\n",
              "      <td>0</td>\n",
              "      <td>...</td>\n",
              "      <td>0</td>\n",
              "      <td>0</td>\n",
              "      <td>0</td>\n",
              "      <td>0</td>\n",
              "      <td>0</td>\n",
              "      <td>0</td>\n",
              "      <td>0</td>\n",
              "      <td>0</td>\n",
              "      <td>0</td>\n",
              "      <td>0</td>\n",
              "    </tr>\n",
              "  </tbody>\n",
              "</table>\n",
              "<p>5 rows × 80 columns</p>\n",
              "</div>"
            ],
            "text/plain": [
              "   Underwear Tights  Leggings/Tights  Umbrella  Sweater  Bra  Socks  Belt  \\\n",
              "0                 1                0         0        0    0      0     0   \n",
              "1                 0                1         0        0    0      0     0   \n",
              "2                 1                0         0        0    0      0     0   \n",
              "3                 1                0         0        0    0      0     0   \n",
              "4                 0                1         0        0    0      0     0   \n",
              "\n",
              "   Hair clip  Hair string  Skirt  ...  Wallet  Sandals  Garment Set  \\\n",
              "0          0            0      0  ...       0        0            0   \n",
              "1          0            0      0  ...       0        0            0   \n",
              "2          0            0      0  ...       0        0            0   \n",
              "3          0            0      0  ...       0        0            0   \n",
              "4          0            0      0  ...       0        0            0   \n",
              "\n",
              "   Outdoor Waistcoat  Heels  Other shoe  Hairband  Flat shoes  Dog wear  \\\n",
              "0                  0      0           0         0           0         0   \n",
              "1                  0      0           0         0           0         0   \n",
              "2                  0      0           0         0           0         0   \n",
              "3                  0      0           0         0           0         0   \n",
              "4                  0      0           0         0           0         0   \n",
              "\n",
              "   Bracelet  \n",
              "0         0  \n",
              "1         0  \n",
              "2         0  \n",
              "3         0  \n",
              "4         0  \n",
              "\n",
              "[5 rows x 80 columns]"
            ]
          },
          "execution_count": 1341,
          "metadata": {},
          "output_type": "execute_result"
        }
      ],
      "source": [
        "product_type_name = Counter(articles[\"product_type_name\"])\n",
        "prod_type = list(product_type_name.keys())\n",
        "for p in prod_type:\n",
        "    articles[p] = articles['product_type_name'].transform(lambda x: int(p in x))\n",
        "articles[prod_type].head()"
      ]
    },
    {
      "cell_type": "markdown",
      "id": "ddd90b88",
      "metadata": {
        "id": "ddd90b88"
      },
      "source": [
        "We do the same thing for 'product_group_name', 'perceived_colour_master_name' and 'garment_group_name'."
      ]
    },
    {
      "cell_type": "code",
      "execution_count": null,
      "id": "b57c8399",
      "metadata": {
        "id": "b57c8399",
        "outputId": "ab5a3243-f2a7-4a6c-af79-e67d67a01bf4"
      },
      "outputs": [
        {
          "data": {
            "text/html": [
              "<div>\n",
              "<style scoped>\n",
              "    .dataframe tbody tr th:only-of-type {\n",
              "        vertical-align: middle;\n",
              "    }\n",
              "\n",
              "    .dataframe tbody tr th {\n",
              "        vertical-align: top;\n",
              "    }\n",
              "\n",
              "    .dataframe thead th {\n",
              "        text-align: right;\n",
              "    }\n",
              "</style>\n",
              "<table border=\"1\" class=\"dataframe\">\n",
              "  <thead>\n",
              "    <tr style=\"text-align: right;\">\n",
              "      <th></th>\n",
              "      <th>Socks &amp; Tights</th>\n",
              "      <th>Garment Lower body</th>\n",
              "      <th>Items</th>\n",
              "      <th>Garment Upper body</th>\n",
              "      <th>Underwear</th>\n",
              "      <th>Accessories</th>\n",
              "      <th>Garment Full body</th>\n",
              "      <th>Shoes</th>\n",
              "      <th>Swimwear</th>\n",
              "      <th>Nightwear</th>\n",
              "      <th>Bags</th>\n",
              "    </tr>\n",
              "  </thead>\n",
              "  <tbody>\n",
              "    <tr>\n",
              "      <th>0</th>\n",
              "      <td>0</td>\n",
              "      <td>0</td>\n",
              "      <td>0</td>\n",
              "      <td>0</td>\n",
              "      <td>0</td>\n",
              "      <td>0</td>\n",
              "      <td>0</td>\n",
              "      <td>0</td>\n",
              "      <td>0</td>\n",
              "      <td>0</td>\n",
              "      <td>0</td>\n",
              "    </tr>\n",
              "    <tr>\n",
              "      <th>1</th>\n",
              "      <td>0</td>\n",
              "      <td>0</td>\n",
              "      <td>0</td>\n",
              "      <td>0</td>\n",
              "      <td>0</td>\n",
              "      <td>0</td>\n",
              "      <td>0</td>\n",
              "      <td>0</td>\n",
              "      <td>0</td>\n",
              "      <td>0</td>\n",
              "      <td>0</td>\n",
              "    </tr>\n",
              "    <tr>\n",
              "      <th>2</th>\n",
              "      <td>0</td>\n",
              "      <td>0</td>\n",
              "      <td>0</td>\n",
              "      <td>0</td>\n",
              "      <td>0</td>\n",
              "      <td>0</td>\n",
              "      <td>0</td>\n",
              "      <td>0</td>\n",
              "      <td>0</td>\n",
              "      <td>0</td>\n",
              "      <td>0</td>\n",
              "    </tr>\n",
              "    <tr>\n",
              "      <th>3</th>\n",
              "      <td>0</td>\n",
              "      <td>0</td>\n",
              "      <td>0</td>\n",
              "      <td>0</td>\n",
              "      <td>0</td>\n",
              "      <td>0</td>\n",
              "      <td>0</td>\n",
              "      <td>0</td>\n",
              "      <td>0</td>\n",
              "      <td>0</td>\n",
              "      <td>0</td>\n",
              "    </tr>\n",
              "    <tr>\n",
              "      <th>4</th>\n",
              "      <td>0</td>\n",
              "      <td>0</td>\n",
              "      <td>0</td>\n",
              "      <td>0</td>\n",
              "      <td>0</td>\n",
              "      <td>0</td>\n",
              "      <td>0</td>\n",
              "      <td>0</td>\n",
              "      <td>0</td>\n",
              "      <td>0</td>\n",
              "      <td>0</td>\n",
              "    </tr>\n",
              "  </tbody>\n",
              "</table>\n",
              "</div>"
            ],
            "text/plain": [
              "   Socks & Tights  Garment Lower body  Items  Garment Upper body  Underwear  \\\n",
              "0               0                   0      0                   0          0   \n",
              "1               0                   0      0                   0          0   \n",
              "2               0                   0      0                   0          0   \n",
              "3               0                   0      0                   0          0   \n",
              "4               0                   0      0                   0          0   \n",
              "\n",
              "   Accessories  Garment Full body  Shoes  Swimwear  Nightwear  Bags  \n",
              "0            0                  0      0         0          0     0  \n",
              "1            0                  0      0         0          0     0  \n",
              "2            0                  0      0         0          0     0  \n",
              "3            0                  0      0         0          0     0  \n",
              "4            0                  0      0         0          0     0  "
            ]
          },
          "execution_count": 1342,
          "metadata": {},
          "output_type": "execute_result"
        }
      ],
      "source": [
        "product_group_name = Counter(articles[\"product_group_name\"])\n",
        "prod_group = list(product_group_name.keys())\n",
        "for g in prod_group:\n",
        "    articles[g] = articles['product_group_name'].transform(lambda x: int(p in x))\n",
        "articles[prod_group].head()"
      ]
    },
    {
      "cell_type": "code",
      "execution_count": null,
      "id": "60da5a77",
      "metadata": {
        "id": "60da5a77",
        "outputId": "2c882e8b-ba96-4163-fe46-c54b46cbcc79"
      },
      "outputs": [
        {
          "data": {
            "text/html": [
              "<div>\n",
              "<style scoped>\n",
              "    .dataframe tbody tr th:only-of-type {\n",
              "        vertical-align: middle;\n",
              "    }\n",
              "\n",
              "    .dataframe tbody tr th {\n",
              "        vertical-align: top;\n",
              "    }\n",
              "\n",
              "    .dataframe thead th {\n",
              "        text-align: right;\n",
              "    }\n",
              "</style>\n",
              "<table border=\"1\" class=\"dataframe\">\n",
              "  <thead>\n",
              "    <tr style=\"text-align: right;\">\n",
              "      <th></th>\n",
              "      <th>Black</th>\n",
              "      <th>Blue</th>\n",
              "      <th>Grey</th>\n",
              "      <th>Beige</th>\n",
              "      <th>White</th>\n",
              "      <th>Brown</th>\n",
              "      <th>Mole</th>\n",
              "      <th>Khaki green</th>\n",
              "      <th>Red</th>\n",
              "      <th>Metal</th>\n",
              "      <th>Lilac Purple</th>\n",
              "      <th>Yellow</th>\n",
              "      <th>Pink</th>\n",
              "      <th>Green</th>\n",
              "      <th>Orange</th>\n",
              "      <th>Turquoise</th>\n",
              "    </tr>\n",
              "  </thead>\n",
              "  <tbody>\n",
              "    <tr>\n",
              "      <th>0</th>\n",
              "      <td>1</td>\n",
              "      <td>0</td>\n",
              "      <td>0</td>\n",
              "      <td>0</td>\n",
              "      <td>0</td>\n",
              "      <td>0</td>\n",
              "      <td>0</td>\n",
              "      <td>0</td>\n",
              "      <td>0</td>\n",
              "      <td>0</td>\n",
              "      <td>0</td>\n",
              "      <td>0</td>\n",
              "      <td>0</td>\n",
              "      <td>0</td>\n",
              "      <td>0</td>\n",
              "      <td>0</td>\n",
              "    </tr>\n",
              "    <tr>\n",
              "      <th>1</th>\n",
              "      <td>1</td>\n",
              "      <td>0</td>\n",
              "      <td>0</td>\n",
              "      <td>0</td>\n",
              "      <td>0</td>\n",
              "      <td>0</td>\n",
              "      <td>0</td>\n",
              "      <td>0</td>\n",
              "      <td>0</td>\n",
              "      <td>0</td>\n",
              "      <td>0</td>\n",
              "      <td>0</td>\n",
              "      <td>0</td>\n",
              "      <td>0</td>\n",
              "      <td>0</td>\n",
              "      <td>0</td>\n",
              "    </tr>\n",
              "    <tr>\n",
              "      <th>2</th>\n",
              "      <td>1</td>\n",
              "      <td>0</td>\n",
              "      <td>0</td>\n",
              "      <td>0</td>\n",
              "      <td>0</td>\n",
              "      <td>0</td>\n",
              "      <td>0</td>\n",
              "      <td>0</td>\n",
              "      <td>0</td>\n",
              "      <td>0</td>\n",
              "      <td>0</td>\n",
              "      <td>0</td>\n",
              "      <td>0</td>\n",
              "      <td>0</td>\n",
              "      <td>0</td>\n",
              "      <td>0</td>\n",
              "    </tr>\n",
              "    <tr>\n",
              "      <th>3</th>\n",
              "      <td>1</td>\n",
              "      <td>0</td>\n",
              "      <td>0</td>\n",
              "      <td>0</td>\n",
              "      <td>0</td>\n",
              "      <td>0</td>\n",
              "      <td>0</td>\n",
              "      <td>0</td>\n",
              "      <td>0</td>\n",
              "      <td>0</td>\n",
              "      <td>0</td>\n",
              "      <td>0</td>\n",
              "      <td>0</td>\n",
              "      <td>0</td>\n",
              "      <td>0</td>\n",
              "      <td>0</td>\n",
              "    </tr>\n",
              "    <tr>\n",
              "      <th>4</th>\n",
              "      <td>1</td>\n",
              "      <td>0</td>\n",
              "      <td>0</td>\n",
              "      <td>0</td>\n",
              "      <td>0</td>\n",
              "      <td>0</td>\n",
              "      <td>0</td>\n",
              "      <td>0</td>\n",
              "      <td>0</td>\n",
              "      <td>0</td>\n",
              "      <td>0</td>\n",
              "      <td>0</td>\n",
              "      <td>0</td>\n",
              "      <td>0</td>\n",
              "      <td>0</td>\n",
              "      <td>0</td>\n",
              "    </tr>\n",
              "  </tbody>\n",
              "</table>\n",
              "</div>"
            ],
            "text/plain": [
              "   Black  Blue  Grey  Beige  White  Brown  Mole  Khaki green  Red  Metal  \\\n",
              "0      1     0     0      0      0      0     0            0    0      0   \n",
              "1      1     0     0      0      0      0     0            0    0      0   \n",
              "2      1     0     0      0      0      0     0            0    0      0   \n",
              "3      1     0     0      0      0      0     0            0    0      0   \n",
              "4      1     0     0      0      0      0     0            0    0      0   \n",
              "\n",
              "   Lilac Purple  Yellow  Pink  Green  Orange  Turquoise  \n",
              "0             0       0     0      0       0          0  \n",
              "1             0       0     0      0       0          0  \n",
              "2             0       0     0      0       0          0  \n",
              "3             0       0     0      0       0          0  \n",
              "4             0       0     0      0       0          0  "
            ]
          },
          "execution_count": 1343,
          "metadata": {},
          "output_type": "execute_result"
        }
      ],
      "source": [
        "perceived_colour_master_name = Counter(articles[\"perceived_colour_master_name\"])\n",
        "perceived_colour = list(perceived_colour_master_name.keys())\n",
        "for c in perceived_colour:\n",
        "    articles[c] = articles[\"perceived_colour_master_name\"].transform(lambda x: int(c in x))\n",
        "articles[perceived_colour].head()"
      ]
    },
    {
      "cell_type": "code",
      "execution_count": null,
      "id": "501cf6e1",
      "metadata": {
        "id": "501cf6e1",
        "outputId": "f443bb17-ee9d-4dcd-ae87-934447f7839a"
      },
      "outputs": [
        {
          "data": {
            "text/html": [
              "<div>\n",
              "<style scoped>\n",
              "    .dataframe tbody tr th:only-of-type {\n",
              "        vertical-align: middle;\n",
              "    }\n",
              "\n",
              "    .dataframe tbody tr th {\n",
              "        vertical-align: top;\n",
              "    }\n",
              "\n",
              "    .dataframe thead th {\n",
              "        text-align: right;\n",
              "    }\n",
              "</style>\n",
              "<table border=\"1\" class=\"dataframe\">\n",
              "  <thead>\n",
              "    <tr style=\"text-align: right;\">\n",
              "      <th></th>\n",
              "      <th>Socks and Tights</th>\n",
              "      <th>Accessories</th>\n",
              "      <th>Jersey Fancy</th>\n",
              "      <th>Under-, Nightwear</th>\n",
              "      <th>Jersey Basic</th>\n",
              "      <th>Outdoor</th>\n",
              "      <th>Trousers</th>\n",
              "      <th>Trousers Denim</th>\n",
              "      <th>Shoes</th>\n",
              "      <th>Swimwear</th>\n",
              "      <th>Shirts</th>\n",
              "      <th>Blouses</th>\n",
              "      <th>Knitwear</th>\n",
              "      <th>Dresses Ladies</th>\n",
              "      <th>Dressed</th>\n",
              "      <th>Shorts</th>\n",
              "      <th>Special Offers</th>\n",
              "      <th>Skirts</th>\n",
              "      <th>Woven/Jersey/Knitted mix Baby</th>\n",
              "      <th>Dresses/Skirts girls</th>\n",
              "    </tr>\n",
              "  </thead>\n",
              "  <tbody>\n",
              "    <tr>\n",
              "      <th>0</th>\n",
              "      <td>0</td>\n",
              "      <td>0</td>\n",
              "      <td>0</td>\n",
              "      <td>0</td>\n",
              "      <td>0</td>\n",
              "      <td>0</td>\n",
              "      <td>0</td>\n",
              "      <td>0</td>\n",
              "      <td>0</td>\n",
              "      <td>0</td>\n",
              "      <td>0</td>\n",
              "      <td>0</td>\n",
              "      <td>0</td>\n",
              "      <td>0</td>\n",
              "      <td>0</td>\n",
              "      <td>0</td>\n",
              "      <td>0</td>\n",
              "      <td>0</td>\n",
              "      <td>0</td>\n",
              "      <td>0</td>\n",
              "    </tr>\n",
              "    <tr>\n",
              "      <th>1</th>\n",
              "      <td>0</td>\n",
              "      <td>0</td>\n",
              "      <td>0</td>\n",
              "      <td>0</td>\n",
              "      <td>0</td>\n",
              "      <td>0</td>\n",
              "      <td>0</td>\n",
              "      <td>0</td>\n",
              "      <td>0</td>\n",
              "      <td>0</td>\n",
              "      <td>0</td>\n",
              "      <td>0</td>\n",
              "      <td>0</td>\n",
              "      <td>0</td>\n",
              "      <td>0</td>\n",
              "      <td>0</td>\n",
              "      <td>0</td>\n",
              "      <td>0</td>\n",
              "      <td>0</td>\n",
              "      <td>0</td>\n",
              "    </tr>\n",
              "    <tr>\n",
              "      <th>2</th>\n",
              "      <td>0</td>\n",
              "      <td>0</td>\n",
              "      <td>0</td>\n",
              "      <td>0</td>\n",
              "      <td>0</td>\n",
              "      <td>0</td>\n",
              "      <td>0</td>\n",
              "      <td>0</td>\n",
              "      <td>0</td>\n",
              "      <td>0</td>\n",
              "      <td>0</td>\n",
              "      <td>0</td>\n",
              "      <td>0</td>\n",
              "      <td>0</td>\n",
              "      <td>0</td>\n",
              "      <td>0</td>\n",
              "      <td>0</td>\n",
              "      <td>0</td>\n",
              "      <td>0</td>\n",
              "      <td>0</td>\n",
              "    </tr>\n",
              "    <tr>\n",
              "      <th>3</th>\n",
              "      <td>0</td>\n",
              "      <td>0</td>\n",
              "      <td>0</td>\n",
              "      <td>0</td>\n",
              "      <td>0</td>\n",
              "      <td>0</td>\n",
              "      <td>0</td>\n",
              "      <td>0</td>\n",
              "      <td>0</td>\n",
              "      <td>0</td>\n",
              "      <td>0</td>\n",
              "      <td>0</td>\n",
              "      <td>0</td>\n",
              "      <td>0</td>\n",
              "      <td>0</td>\n",
              "      <td>0</td>\n",
              "      <td>0</td>\n",
              "      <td>0</td>\n",
              "      <td>0</td>\n",
              "      <td>0</td>\n",
              "    </tr>\n",
              "    <tr>\n",
              "      <th>4</th>\n",
              "      <td>0</td>\n",
              "      <td>0</td>\n",
              "      <td>0</td>\n",
              "      <td>0</td>\n",
              "      <td>0</td>\n",
              "      <td>0</td>\n",
              "      <td>0</td>\n",
              "      <td>0</td>\n",
              "      <td>0</td>\n",
              "      <td>0</td>\n",
              "      <td>0</td>\n",
              "      <td>0</td>\n",
              "      <td>0</td>\n",
              "      <td>0</td>\n",
              "      <td>0</td>\n",
              "      <td>0</td>\n",
              "      <td>0</td>\n",
              "      <td>0</td>\n",
              "      <td>0</td>\n",
              "      <td>0</td>\n",
              "    </tr>\n",
              "  </tbody>\n",
              "</table>\n",
              "</div>"
            ],
            "text/plain": [
              "   Socks and Tights  Accessories  Jersey Fancy  Under-, Nightwear  \\\n",
              "0                 0            0             0                  0   \n",
              "1                 0            0             0                  0   \n",
              "2                 0            0             0                  0   \n",
              "3                 0            0             0                  0   \n",
              "4                 0            0             0                  0   \n",
              "\n",
              "   Jersey Basic  Outdoor  Trousers  Trousers Denim  Shoes  Swimwear  Shirts  \\\n",
              "0             0        0         0               0      0         0       0   \n",
              "1             0        0         0               0      0         0       0   \n",
              "2             0        0         0               0      0         0       0   \n",
              "3             0        0         0               0      0         0       0   \n",
              "4             0        0         0               0      0         0       0   \n",
              "\n",
              "   Blouses  Knitwear  Dresses Ladies  Dressed  Shorts  Special Offers  Skirts  \\\n",
              "0        0         0               0        0       0               0       0   \n",
              "1        0         0               0        0       0               0       0   \n",
              "2        0         0               0        0       0               0       0   \n",
              "3        0         0               0        0       0               0       0   \n",
              "4        0         0               0        0       0               0       0   \n",
              "\n",
              "   Woven/Jersey/Knitted mix Baby  Dresses/Skirts girls  \n",
              "0                              0                     0  \n",
              "1                              0                     0  \n",
              "2                              0                     0  \n",
              "3                              0                     0  \n",
              "4                              0                     0  "
            ]
          },
          "execution_count": 1344,
          "metadata": {},
          "output_type": "execute_result"
        }
      ],
      "source": [
        "garment_group_name = Counter(articles[\"garment_group_name\"])\n",
        "garment = list(garment_group_name.keys())\n",
        "for g in garment:\n",
        "    articles[g] = articles[\"garment_group_name\"].transform(lambda x: int(s in x))\n",
        "articles[garment].head()"
      ]
    },
    {
      "cell_type": "markdown",
      "id": "0fb726b4",
      "metadata": {
        "id": "0fb726b4"
      },
      "source": [
        "We can merge all these features in a unique dataframe 'article_features'."
      ]
    },
    {
      "cell_type": "code",
      "execution_count": null,
      "id": "3a5c0125",
      "metadata": {
        "id": "3a5c0125",
        "outputId": "7a55c68e-8a4c-4508-8031-c45e24c98c88"
      },
      "outputs": [
        {
          "data": {
            "text/html": [
              "<div>\n",
              "<style scoped>\n",
              "    .dataframe tbody tr th:only-of-type {\n",
              "        vertical-align: middle;\n",
              "    }\n",
              "\n",
              "    .dataframe tbody tr th {\n",
              "        vertical-align: top;\n",
              "    }\n",
              "\n",
              "    .dataframe thead th {\n",
              "        text-align: right;\n",
              "    }\n",
              "</style>\n",
              "<table border=\"1\" class=\"dataframe\">\n",
              "  <thead>\n",
              "    <tr style=\"text-align: right;\">\n",
              "      <th></th>\n",
              "      <th>Underwear Tights</th>\n",
              "      <th>Leggings/Tights</th>\n",
              "      <th>Umbrella</th>\n",
              "      <th>Sweater</th>\n",
              "      <th>Bra</th>\n",
              "      <th>Socks</th>\n",
              "      <th>Belt</th>\n",
              "      <th>Hair clip</th>\n",
              "      <th>Hair string</th>\n",
              "      <th>Skirt</th>\n",
              "      <th>...</th>\n",
              "      <th>Shirts</th>\n",
              "      <th>Blouses</th>\n",
              "      <th>Knitwear</th>\n",
              "      <th>Dresses Ladies</th>\n",
              "      <th>Dressed</th>\n",
              "      <th>Shorts</th>\n",
              "      <th>Special Offers</th>\n",
              "      <th>Skirts</th>\n",
              "      <th>Woven/Jersey/Knitted mix Baby</th>\n",
              "      <th>Dresses/Skirts girls</th>\n",
              "    </tr>\n",
              "  </thead>\n",
              "  <tbody>\n",
              "    <tr>\n",
              "      <th>0</th>\n",
              "      <td>1</td>\n",
              "      <td>0</td>\n",
              "      <td>0</td>\n",
              "      <td>0</td>\n",
              "      <td>0</td>\n",
              "      <td>0</td>\n",
              "      <td>0</td>\n",
              "      <td>0</td>\n",
              "      <td>0</td>\n",
              "      <td>0</td>\n",
              "      <td>...</td>\n",
              "      <td>0</td>\n",
              "      <td>0</td>\n",
              "      <td>0</td>\n",
              "      <td>0</td>\n",
              "      <td>0</td>\n",
              "      <td>0</td>\n",
              "      <td>0</td>\n",
              "      <td>0</td>\n",
              "      <td>0</td>\n",
              "      <td>0</td>\n",
              "    </tr>\n",
              "    <tr>\n",
              "      <th>1</th>\n",
              "      <td>0</td>\n",
              "      <td>1</td>\n",
              "      <td>0</td>\n",
              "      <td>0</td>\n",
              "      <td>0</td>\n",
              "      <td>0</td>\n",
              "      <td>0</td>\n",
              "      <td>0</td>\n",
              "      <td>0</td>\n",
              "      <td>0</td>\n",
              "      <td>...</td>\n",
              "      <td>0</td>\n",
              "      <td>0</td>\n",
              "      <td>0</td>\n",
              "      <td>0</td>\n",
              "      <td>0</td>\n",
              "      <td>0</td>\n",
              "      <td>0</td>\n",
              "      <td>0</td>\n",
              "      <td>0</td>\n",
              "      <td>0</td>\n",
              "    </tr>\n",
              "    <tr>\n",
              "      <th>2</th>\n",
              "      <td>1</td>\n",
              "      <td>0</td>\n",
              "      <td>0</td>\n",
              "      <td>0</td>\n",
              "      <td>0</td>\n",
              "      <td>0</td>\n",
              "      <td>0</td>\n",
              "      <td>0</td>\n",
              "      <td>0</td>\n",
              "      <td>0</td>\n",
              "      <td>...</td>\n",
              "      <td>0</td>\n",
              "      <td>0</td>\n",
              "      <td>0</td>\n",
              "      <td>0</td>\n",
              "      <td>0</td>\n",
              "      <td>0</td>\n",
              "      <td>0</td>\n",
              "      <td>0</td>\n",
              "      <td>0</td>\n",
              "      <td>0</td>\n",
              "    </tr>\n",
              "    <tr>\n",
              "      <th>3</th>\n",
              "      <td>1</td>\n",
              "      <td>0</td>\n",
              "      <td>0</td>\n",
              "      <td>0</td>\n",
              "      <td>0</td>\n",
              "      <td>0</td>\n",
              "      <td>0</td>\n",
              "      <td>0</td>\n",
              "      <td>0</td>\n",
              "      <td>0</td>\n",
              "      <td>...</td>\n",
              "      <td>0</td>\n",
              "      <td>0</td>\n",
              "      <td>0</td>\n",
              "      <td>0</td>\n",
              "      <td>0</td>\n",
              "      <td>0</td>\n",
              "      <td>0</td>\n",
              "      <td>0</td>\n",
              "      <td>0</td>\n",
              "      <td>0</td>\n",
              "    </tr>\n",
              "    <tr>\n",
              "      <th>4</th>\n",
              "      <td>0</td>\n",
              "      <td>1</td>\n",
              "      <td>0</td>\n",
              "      <td>0</td>\n",
              "      <td>0</td>\n",
              "      <td>0</td>\n",
              "      <td>0</td>\n",
              "      <td>0</td>\n",
              "      <td>0</td>\n",
              "      <td>0</td>\n",
              "      <td>...</td>\n",
              "      <td>0</td>\n",
              "      <td>0</td>\n",
              "      <td>0</td>\n",
              "      <td>0</td>\n",
              "      <td>0</td>\n",
              "      <td>0</td>\n",
              "      <td>0</td>\n",
              "      <td>0</td>\n",
              "      <td>0</td>\n",
              "      <td>0</td>\n",
              "    </tr>\n",
              "  </tbody>\n",
              "</table>\n",
              "<p>5 rows × 127 columns</p>\n",
              "</div>"
            ],
            "text/plain": [
              "   Underwear Tights  Leggings/Tights  Umbrella  Sweater  Bra  Socks  Belt  \\\n",
              "0                 1                0         0        0    0      0     0   \n",
              "1                 0                1         0        0    0      0     0   \n",
              "2                 1                0         0        0    0      0     0   \n",
              "3                 1                0         0        0    0      0     0   \n",
              "4                 0                1         0        0    0      0     0   \n",
              "\n",
              "   Hair clip  Hair string  Skirt  ...  Shirts  Blouses  Knitwear  \\\n",
              "0          0            0      0  ...       0        0         0   \n",
              "1          0            0      0  ...       0        0         0   \n",
              "2          0            0      0  ...       0        0         0   \n",
              "3          0            0      0  ...       0        0         0   \n",
              "4          0            0      0  ...       0        0         0   \n",
              "\n",
              "   Dresses Ladies  Dressed  Shorts  Special Offers  Skirts  \\\n",
              "0               0        0       0               0       0   \n",
              "1               0        0       0               0       0   \n",
              "2               0        0       0               0       0   \n",
              "3               0        0       0               0       0   \n",
              "4               0        0       0               0       0   \n",
              "\n",
              "   Woven/Jersey/Knitted mix Baby  Dresses/Skirts girls  \n",
              "0                              0                     0  \n",
              "1                              0                     0  \n",
              "2                              0                     0  \n",
              "3                              0                     0  \n",
              "4                              0                     0  \n",
              "\n",
              "[5 rows x 127 columns]"
            ]
          },
          "execution_count": 1345,
          "metadata": {},
          "output_type": "execute_result"
        }
      ],
      "source": [
        "article_features = pd.concat([articles[prod_type],articles[prod_group],articles[perceived_colour],articles[garment]],axis=1)\n",
        "article_features.head()"
      ]
    },
    {
      "cell_type": "markdown",
      "id": "e3fe072a",
      "metadata": {
        "id": "e3fe072a"
      },
      "source": [
        "Finally we can use a similarity metric called cosine similarity to build our recommender system."
      ]
    },
    {
      "cell_type": "markdown",
      "id": "57b4453b",
      "metadata": {
        "id": "57b4453b"
      },
      "source": [
        "Cosine similarity looks at the cosine angle between two vectors. The smaller the cosine angle, the higher the degree of similarity. The cosine similarity matrix has shape n_articles x n_articles (6328 x 6328). "
      ]
    },
    {
      "cell_type": "markdown",
      "id": "6b25b1ad",
      "metadata": {
        "id": "6b25b1ad"
      },
      "source": [
        "With this cosine similarity matrix, we'll be able to extract articles that are most similar to the article of interest."
      ]
    },
    {
      "cell_type": "code",
      "execution_count": null,
      "id": "943a31f2",
      "metadata": {
        "id": "943a31f2",
        "outputId": "3fb95aea-12ce-4819-bc22-19a713df918e"
      },
      "outputs": [
        {
          "name": "stdout",
          "output_type": "stream",
          "text": [
            "Dimensions of our article features cosine similarity matrix: (6328, 6328)\n"
          ]
        }
      ],
      "source": [
        "from sklearn.metrics.pairwise import cosine_similarity\n",
        "cosine_sim = cosine_similarity(article_features, article_features)\n",
        "print(f\"Dimensions of our article features cosine similarity matrix: {cosine_sim.shape}\")"
      ]
    },
    {
      "cell_type": "markdown",
      "id": "2d34482a",
      "metadata": {
        "id": "2d34482a"
      },
      "source": [
        "When we're going to recommend articles to our customer, our recommender system is going to give information about the article of interest and the articles recommended. For this reason we're going to need this dictionaries that simply match the article_id to its prod_name, prod_type_name, prod_group_name, perceived_colour, garment, except for article_id_dict that matches each prod_name to its article_id."
      ]
    },
    {
      "cell_type": "code",
      "execution_count": null,
      "id": "377331fb",
      "metadata": {
        "id": "377331fb"
      },
      "outputs": [],
      "source": [
        "article_id_dict = {}\n",
        "prod_name_dict = {}\n",
        "prod_type_name_dict = {}\n",
        "prod_group_name_dict = {}\n",
        "perceived_colour_dict = {}\n",
        "section_dict = {}\n",
        "garment_dict = {}\n",
        "for i,row in articles.iterrows():\n",
        "    article_id_dict[row[\"prod_name\"]] = row[\"article_id\"]\n",
        "    prod_name_dict[row[\"article_id\"]]=row[\"prod_name\"]\n",
        "    prod_type_name_dict[row[\"article_id\"]]=row[\"product_type_name\"]\n",
        "    prod_group_name_dict[row[\"article_id\"]]=row[\"product_group_name\"]\n",
        "    perceived_colour_dict[row[\"article_id\"]]=row[\"perceived_colour_master_name\"]\n",
        "    section_dict[row[\"article_id\"]]=row[\"section_name\"]\n",
        "    garment_dict[row[\"article_id\"]]=row[\"garment_group_name\"]\n"
      ]
    },
    {
      "cell_type": "markdown",
      "id": "601ee41b",
      "metadata": {
        "id": "601ee41b"
      },
      "source": [
        "We then create a function that takes as input the article id and the number of similar items we desire to recommend. "
      ]
    },
    {
      "cell_type": "markdown",
      "id": "2dc88c37",
      "metadata": {
        "id": "2dc88c37"
      },
      "source": [
        "We take the row of the similarity matrix associated to our article and we sort the elements in decreasing order. Finally we can just take the items we are interested to."
      ]
    },
    {
      "cell_type": "code",
      "execution_count": null,
      "id": "27ee30c5",
      "metadata": {
        "id": "27ee30c5"
      },
      "outputs": [],
      "source": [
        "def get_content_based_recommendations(art_id,n:int):\n",
        "    id = articles[articles[\"article_id\"] == art_id].index\n",
        "    sim_scores = np.argsort(cosine_sim[id])[0]\n",
        "    sim_scores = sim_scores[::-1][1:n+1]\n",
        "    \n",
        "    if n<1:\n",
        "        print(\"Please select at least one article to be recommended\")\n",
        "    if n==1:\n",
        "        ind = sim_scores[0]\n",
        "        main = articles[\"prod_name\"].iloc[ind]\n",
        "        art_recom_id = article_id_dict[main]\n",
        "        print(f\"Here there is some information regarding {prod_name_dict[art_id]}:\\n\")\n",
        "        print(f\"Colour: {perceived_colour_dict[art_id]}, Type: {prod_type_name_dict[art_id]}, Garment: {garment_dict[art_id]}, ID: {art_id} \\n\")\n",
        "        print(f\"Here you find the main recommendation for it: {main} \\n\")\n",
        "        print(f\"Here there is some information regarding {main} \\n\")\n",
        "        print(f\"Colour: {perceived_colour_dict[art_recom_id]}, Type: {prod_type_name_dict[art_recom_id]}, Garment: {garment_dict[art_recom_id]}, ID: {art_recom_id} \\n\")\n",
        "    if n>1:\n",
        "        top_rec = list(articles[\"prod_name\"].iloc[[i for i in sim_scores]])\n",
        "        print(f\"Here there is some information regarding {prod_name_dict[art_id]}:\\n\")\n",
        "        print(f\"Colour: {perceived_colour_dict[art_id]}, Type: {prod_type_name_dict[art_id]}, Garment: {garment_dict[art_id]}, ID: {art_id} \\n\")\n",
        "        print(f\"\\n Here you find the top {n} articles recommended for: {prod_name_dict[art_id]}\\n\")\n",
        "        print(articles[\"prod_name\"].iloc[[i for i in sim_scores]])\n",
        "        for i in top_rec:\n",
        "            art_recom_id = article_id_dict[i]\n",
        "            print(f\"Here there is some information regarding {i} \\n\")\n",
        "            print(f\"Colour: {perceived_colour_dict[art_recom_id]}, Type: {prod_type_name_dict[art_recom_id]}, Garment: {garment_dict[art_recom_id]}, ID: {art_recom_id} \\n\")\n",
        "            "
      ]
    },
    {
      "cell_type": "code",
      "execution_count": null,
      "id": "1eed2920",
      "metadata": {
        "id": "1eed2920",
        "outputId": "ec31575c-7d69-4e9d-e1a8-0e640939842c"
      },
      "outputs": [
        {
          "name": "stdout",
          "output_type": "stream",
          "text": [
            "Here there is some information regarding Austin basic leather hip belt:\n",
            "\n",
            "Colour: Brown, Type: Belt, Garment: Accessories, ID: 25 \n",
            "\n",
            "\n",
            " Here you find the top 10 articles recommended for: Austin basic leather hip belt\n",
            "\n",
            "4149    Morris elastic waist\n",
            "5320          Swirl hip belt\n",
            "5318         Rome PU elastic\n",
            "5119     Jones elastic waist\n",
            "1401      Big Ringo hip belt\n",
            "3396            Denver waist\n",
            "792      Topher Leather Belt\n",
            "1739        VIVECKA belt (W)\n",
            "3216      Ryan elastic waist\n",
            "5461          Alcatraz waist\n",
            "Name: prod_name, dtype: object\n",
            "Here there is some information regarding Morris elastic waist \n",
            "\n",
            "Colour: Black, Type: Belt, Garment: Accessories, ID: 4149 \n",
            "\n",
            "Here there is some information regarding Swirl hip belt \n",
            "\n",
            "Colour: Black, Type: Belt, Garment: Accessories, ID: 5320 \n",
            "\n",
            "Here there is some information regarding Rome PU elastic \n",
            "\n",
            "Colour: Black, Type: Belt, Garment: Accessories, ID: 5318 \n",
            "\n",
            "Here there is some information regarding Jones elastic waist \n",
            "\n",
            "Colour: Beige, Type: Belt, Garment: Accessories, ID: 5121 \n",
            "\n",
            "Here there is some information regarding Big Ringo hip belt \n",
            "\n",
            "Colour: Black, Type: Belt, Garment: Accessories, ID: 1401 \n",
            "\n",
            "Here there is some information regarding Denver waist \n",
            "\n",
            "Colour: Black, Type: Belt, Garment: Accessories, ID: 3396 \n",
            "\n",
            "Here there is some information regarding Topher Leather Belt \n",
            "\n",
            "Colour: Black, Type: Belt, Garment: Accessories, ID: 792 \n",
            "\n",
            "Here there is some information regarding VIVECKA belt (W) \n",
            "\n",
            "Colour: Black, Type: Belt, Garment: Accessories, ID: 1739 \n",
            "\n",
            "Here there is some information regarding Ryan elastic waist \n",
            "\n",
            "Colour: Black, Type: Belt, Garment: Accessories, ID: 3216 \n",
            "\n",
            "Here there is some information regarding Alcatraz waist \n",
            "\n",
            "Colour: Black, Type: Belt, Garment: Accessories, ID: 5461 \n",
            "\n"
          ]
        }
      ],
      "source": [
        "art_id = 25\n",
        "get_content_based_recommendations(art_id,10)"
      ]
    },
    {
      "cell_type": "markdown",
      "id": "88669530",
      "metadata": {
        "id": "88669530"
      },
      "source": [
        "Next recommender system we would like to build is going to be Collaborative filtering which is user-based, this means that we need first to analyse the other 2 files. We import the dataset about customers."
      ]
    },
    {
      "cell_type": "markdown",
      "id": "a66bc436",
      "metadata": {
        "id": "a66bc436"
      },
      "source": [
        "## CUSTOMERS"
      ]
    },
    {
      "cell_type": "markdown",
      "id": "a1d74a44",
      "metadata": {
        "id": "a1d74a44"
      },
      "source": [
        "1) Import the dataset, print the first 5 rows, take a look at the shape and the data types of its columns. As we can notice this dataset is simpler than the first one, we only have the unique customer identifier, then we know if he/she is subscribed to the newsletter ('1'=yes, '0'=no) and if is part of the special club member ('1'=yes, '0'=no), finally we know the age."
      ]
    },
    {
      "cell_type": "code",
      "execution_count": 8,
      "id": "7227ee8c",
      "metadata": {
        "colab": {
          "base_uri": "https://localhost:8080/",
          "height": 206
        },
        "id": "7227ee8c",
        "outputId": "d956b784-e2fd-4877-f628-76cf5cf9020f"
      },
      "outputs": [
        {
          "output_type": "execute_result",
          "data": {
            "text/plain": [
              "   customer_id  fashion_news  club_member   age\n",
              "0            0             1            1  44.0\n",
              "1            1             1            1  33.0\n",
              "2            2             0            0  29.0\n",
              "3            3             0            0  21.0\n",
              "4            4             0            0  23.0"
            ],
            "text/html": [
              "\n",
              "  <div id=\"df-6f9bc4a5-d392-4dbc-81f4-076b0e351165\">\n",
              "    <div class=\"colab-df-container\">\n",
              "      <div>\n",
              "<style scoped>\n",
              "    .dataframe tbody tr th:only-of-type {\n",
              "        vertical-align: middle;\n",
              "    }\n",
              "\n",
              "    .dataframe tbody tr th {\n",
              "        vertical-align: top;\n",
              "    }\n",
              "\n",
              "    .dataframe thead th {\n",
              "        text-align: right;\n",
              "    }\n",
              "</style>\n",
              "<table border=\"1\" class=\"dataframe\">\n",
              "  <thead>\n",
              "    <tr style=\"text-align: right;\">\n",
              "      <th></th>\n",
              "      <th>customer_id</th>\n",
              "      <th>fashion_news</th>\n",
              "      <th>club_member</th>\n",
              "      <th>age</th>\n",
              "    </tr>\n",
              "  </thead>\n",
              "  <tbody>\n",
              "    <tr>\n",
              "      <th>0</th>\n",
              "      <td>0</td>\n",
              "      <td>1</td>\n",
              "      <td>1</td>\n",
              "      <td>44.0</td>\n",
              "    </tr>\n",
              "    <tr>\n",
              "      <th>1</th>\n",
              "      <td>1</td>\n",
              "      <td>1</td>\n",
              "      <td>1</td>\n",
              "      <td>33.0</td>\n",
              "    </tr>\n",
              "    <tr>\n",
              "      <th>2</th>\n",
              "      <td>2</td>\n",
              "      <td>0</td>\n",
              "      <td>0</td>\n",
              "      <td>29.0</td>\n",
              "    </tr>\n",
              "    <tr>\n",
              "      <th>3</th>\n",
              "      <td>3</td>\n",
              "      <td>0</td>\n",
              "      <td>0</td>\n",
              "      <td>21.0</td>\n",
              "    </tr>\n",
              "    <tr>\n",
              "      <th>4</th>\n",
              "      <td>4</td>\n",
              "      <td>0</td>\n",
              "      <td>0</td>\n",
              "      <td>23.0</td>\n",
              "    </tr>\n",
              "  </tbody>\n",
              "</table>\n",
              "</div>\n",
              "      <button class=\"colab-df-convert\" onclick=\"convertToInteractive('df-6f9bc4a5-d392-4dbc-81f4-076b0e351165')\"\n",
              "              title=\"Convert this dataframe to an interactive table.\"\n",
              "              style=\"display:none;\">\n",
              "        \n",
              "  <svg xmlns=\"http://www.w3.org/2000/svg\" height=\"24px\"viewBox=\"0 0 24 24\"\n",
              "       width=\"24px\">\n",
              "    <path d=\"M0 0h24v24H0V0z\" fill=\"none\"/>\n",
              "    <path d=\"M18.56 5.44l.94 2.06.94-2.06 2.06-.94-2.06-.94-.94-2.06-.94 2.06-2.06.94zm-11 1L8.5 8.5l.94-2.06 2.06-.94-2.06-.94L8.5 2.5l-.94 2.06-2.06.94zm10 10l.94 2.06.94-2.06 2.06-.94-2.06-.94-.94-2.06-.94 2.06-2.06.94z\"/><path d=\"M17.41 7.96l-1.37-1.37c-.4-.4-.92-.59-1.43-.59-.52 0-1.04.2-1.43.59L10.3 9.45l-7.72 7.72c-.78.78-.78 2.05 0 2.83L4 21.41c.39.39.9.59 1.41.59.51 0 1.02-.2 1.41-.59l7.78-7.78 2.81-2.81c.8-.78.8-2.07 0-2.86zM5.41 20L4 18.59l7.72-7.72 1.47 1.35L5.41 20z\"/>\n",
              "  </svg>\n",
              "      </button>\n",
              "      \n",
              "  <style>\n",
              "    .colab-df-container {\n",
              "      display:flex;\n",
              "      flex-wrap:wrap;\n",
              "      gap: 12px;\n",
              "    }\n",
              "\n",
              "    .colab-df-convert {\n",
              "      background-color: #E8F0FE;\n",
              "      border: none;\n",
              "      border-radius: 50%;\n",
              "      cursor: pointer;\n",
              "      display: none;\n",
              "      fill: #1967D2;\n",
              "      height: 32px;\n",
              "      padding: 0 0 0 0;\n",
              "      width: 32px;\n",
              "    }\n",
              "\n",
              "    .colab-df-convert:hover {\n",
              "      background-color: #E2EBFA;\n",
              "      box-shadow: 0px 1px 2px rgba(60, 64, 67, 0.3), 0px 1px 3px 1px rgba(60, 64, 67, 0.15);\n",
              "      fill: #174EA6;\n",
              "    }\n",
              "\n",
              "    [theme=dark] .colab-df-convert {\n",
              "      background-color: #3B4455;\n",
              "      fill: #D2E3FC;\n",
              "    }\n",
              "\n",
              "    [theme=dark] .colab-df-convert:hover {\n",
              "      background-color: #434B5C;\n",
              "      box-shadow: 0px 1px 3px 1px rgba(0, 0, 0, 0.15);\n",
              "      filter: drop-shadow(0px 1px 2px rgba(0, 0, 0, 0.3));\n",
              "      fill: #FFFFFF;\n",
              "    }\n",
              "  </style>\n",
              "\n",
              "      <script>\n",
              "        const buttonEl =\n",
              "          document.querySelector('#df-6f9bc4a5-d392-4dbc-81f4-076b0e351165 button.colab-df-convert');\n",
              "        buttonEl.style.display =\n",
              "          google.colab.kernel.accessAllowed ? 'block' : 'none';\n",
              "\n",
              "        async function convertToInteractive(key) {\n",
              "          const element = document.querySelector('#df-6f9bc4a5-d392-4dbc-81f4-076b0e351165');\n",
              "          const dataTable =\n",
              "            await google.colab.kernel.invokeFunction('convertToInteractive',\n",
              "                                                     [key], {});\n",
              "          if (!dataTable) return;\n",
              "\n",
              "          const docLinkHtml = 'Like what you see? Visit the ' +\n",
              "            '<a target=\"_blank\" href=https://colab.research.google.com/notebooks/data_table.ipynb>data table notebook</a>'\n",
              "            + ' to learn more about interactive tables.';\n",
              "          element.innerHTML = '';\n",
              "          dataTable['output_type'] = 'display_data';\n",
              "          await google.colab.output.renderOutput(dataTable, element);\n",
              "          const docLink = document.createElement('div');\n",
              "          docLink.innerHTML = docLinkHtml;\n",
              "          element.appendChild(docLink);\n",
              "        }\n",
              "      </script>\n",
              "    </div>\n",
              "  </div>\n",
              "  "
            ]
          },
          "metadata": {},
          "execution_count": 8
        }
      ],
      "source": [
        "df_customers = pd.read_csv(\"recsys_customers.csv\")\n",
        "df_customers.head()"
      ]
    },
    {
      "cell_type": "code",
      "execution_count": null,
      "id": "59b446bc",
      "metadata": {
        "id": "59b446bc",
        "outputId": "671bac3c-17d5-49c8-a72b-a011fc2f92fa"
      },
      "outputs": [
        {
          "data": {
            "text/plain": [
              "(41253, 4)"
            ]
          },
          "execution_count": 1357,
          "metadata": {},
          "output_type": "execute_result"
        }
      ],
      "source": [
        "df_customers.shape"
      ]
    },
    {
      "cell_type": "code",
      "execution_count": null,
      "id": "ec18e616",
      "metadata": {
        "id": "ec18e616",
        "outputId": "624e511d-fc8f-4575-b95e-f90eef705e94"
      },
      "outputs": [
        {
          "data": {
            "text/plain": [
              "customer_id       int64\n",
              "fashion_news      int64\n",
              "club_member       int64\n",
              "age             float64\n",
              "dtype: object"
            ]
          },
          "execution_count": 1358,
          "metadata": {},
          "output_type": "execute_result"
        }
      ],
      "source": [
        "df_customers.dtypes"
      ]
    },
    {
      "cell_type": "markdown",
      "id": "005e1ba8",
      "metadata": {
        "id": "005e1ba8"
      },
      "source": [
        "As before we look for NaN values in the dataset and this time we find out that 133 customers have NaN values for the age."
      ]
    },
    {
      "cell_type": "code",
      "execution_count": null,
      "id": "3fbc54f4",
      "metadata": {
        "id": "3fbc54f4",
        "outputId": "90894457-d6d7-4749-c121-779ca98f192f"
      },
      "outputs": [
        {
          "data": {
            "text/plain": [
              "customer_id       0\n",
              "fashion_news      0\n",
              "club_member       0\n",
              "age             133\n",
              "dtype: int64"
            ]
          },
          "execution_count": 1359,
          "metadata": {},
          "output_type": "execute_result"
        }
      ],
      "source": [
        "df_customers.isnull().sum()"
      ]
    },
    {
      "cell_type": "markdown",
      "id": "82cc7676",
      "metadata": {
        "id": "82cc7676"
      },
      "source": [
        "To replace NaN values in the 'age' column, we subdivide the dataset into 4 customer segments and we check how NaN values are distributed among the segments, then compute the **mode** age for each one and replace null with it. The segments will be the following:\n",
        "- NOT subscribed to the newsletter & NOT member of the club\n",
        "- NOT subscribed to the newsletter & member of the club\n",
        "- subscribed to the newsletter & NOT member of the club\n",
        "- subscribed to the newsletter & member of the club\n",
        "\n",
        "NaN values are only in the segments of customers that are either subscribed to both the newsletter and the club or to none of them."
      ]
    },
    {
      "cell_type": "code",
      "execution_count": null,
      "id": "01d83642",
      "metadata": {
        "id": "01d83642",
        "outputId": "804bf033-798b-4d50-e9ca-f32125899657"
      },
      "outputs": [
        {
          "name": "stdout",
          "output_type": "stream",
          "text": [
            "Null in segment 00: 103\n",
            "Null in segment 01: 0\n",
            "Null in segment 10: 0\n",
            "Null in segment 11: 30\n"
          ]
        }
      ],
      "source": [
        "segment00 = df_customers.loc[(df_customers.fashion_news == 0) & (df_customers.club_member == 0) & (df_customers.isnull().any(axis=1))]\n",
        "segment01 = df_customers.loc[(df_customers.fashion_news == 0) & (df_customers.club_member == 1) & (df_customers.isnull().any(axis=1))]\n",
        "segment10 = df_customers.loc[(df_customers.fashion_news == 1) & (df_customers.club_member == 0) & (df_customers.isnull().any(axis=1))]\n",
        "segment11 = df_customers.loc[(df_customers.fashion_news == 1) & (df_customers.club_member == 1) & (df_customers.isnull().any(axis=1))]\n",
        "\n",
        "print(\"Null in segment 00:\",len(segment00))\n",
        "print(\"Null in segment 01:\",len(segment01))\n",
        "print(\"Null in segment 10:\",len(segment10))\n",
        "print(\"Null in segment 11:\",len(segment11))"
      ]
    },
    {
      "cell_type": "markdown",
      "id": "7740f8eb",
      "metadata": {
        "id": "7740f8eb"
      },
      "source": [
        "After we compute the mode for the segments that present NaN values. We find that the mode for customers that are not subscribed to the newsletter and not member of club is 26, while the mode of customers subscribed to both is 24."
      ]
    },
    {
      "cell_type": "code",
      "execution_count": null,
      "id": "54e2d754",
      "metadata": {
        "id": "54e2d754",
        "outputId": "c9f5acc3-9554-44d3-a248-78f4b2e091fb"
      },
      "outputs": [
        {
          "name": "stdout",
          "output_type": "stream",
          "text": [
            "Segment 00 median: 0    26.0\n",
            "dtype: float64\n",
            "Segment 11 median: 0    24.0\n",
            "dtype: float64\n"
          ]
        }
      ],
      "source": [
        "normal_segment00 = df_customers.loc[(df_customers.fashion_news == 0) & (df_customers.club_member == 0)]\n",
        "normal_segment11 = df_customers.loc[(df_customers.fashion_news == 1) & (df_customers.club_member == 1)]\n",
        "normal_segment00_mode = round(normal_segment00.age.mode())\n",
        "normal_segment11_mode = round(normal_segment11.age.mode())\n",
        "print(f'Segment 00 median: {normal_segment00_mode}')\n",
        "print(f'Segment 11 median: {normal_segment11_mode}')"
      ]
    },
    {
      "cell_type": "markdown",
      "id": "c015b3b5",
      "metadata": {
        "id": "c015b3b5"
      },
      "source": [
        "Since we need to keep those customers in the dataset without cutting them, we just substitute the NaN values of segment00 with 26 and the NaN values of segment11 with 24. In this way we have preserved data by filling NaN values with the most common values for age."
      ]
    },
    {
      "cell_type": "code",
      "execution_count": null,
      "id": "bec94151",
      "metadata": {
        "id": "bec94151",
        "outputId": "a4da4a41-5c7d-4282-bdf4-be09c68f4998"
      },
      "outputs": [
        {
          "name": "stderr",
          "output_type": "stream",
          "text": [
            "/opt/anaconda3/lib/python3.8/site-packages/pandas/core/indexing.py:1637: SettingWithCopyWarning: \n",
            "A value is trying to be set on a copy of a slice from a DataFrame\n",
            "\n",
            "See the caveats in the documentation: https://pandas.pydata.org/pandas-docs/stable/user_guide/indexing.html#returning-a-view-versus-a-copy\n",
            "  self._setitem_single_block(indexer, value, name)\n",
            "/opt/anaconda3/lib/python3.8/site-packages/pandas/core/indexing.py:1637: SettingWithCopyWarning: \n",
            "A value is trying to be set on a copy of a slice from a DataFrame\n",
            "\n",
            "See the caveats in the documentation: https://pandas.pydata.org/pandas-docs/stable/user_guide/indexing.html#returning-a-view-versus-a-copy\n",
            "  self._setitem_single_block(indexer, value, name)\n"
          ]
        }
      ],
      "source": [
        "df_customers.age.loc[(df_customers.fashion_news == 0) & (df_customers.club_member == 0) & (df_customers.isnull().any(axis=1))] = 26\n",
        "df_customers.age.loc[(df_customers.fashion_news == 1) & (df_customers.club_member == 1) & (df_customers.isnull().any(axis=1))] = 24\n"
      ]
    },
    {
      "cell_type": "markdown",
      "id": "ca9fc176",
      "metadata": {
        "id": "ca9fc176"
      },
      "source": [
        "We check if it has worked and fortunately there are no other NaN values."
      ]
    },
    {
      "cell_type": "code",
      "execution_count": null,
      "id": "df454dc7",
      "metadata": {
        "id": "df454dc7",
        "outputId": "bb02f807-d0cd-4057-ac57-9eaadba947b0"
      },
      "outputs": [
        {
          "data": {
            "text/plain": [
              "customer_id     0\n",
              "fashion_news    0\n",
              "club_member     0\n",
              "age             0\n",
              "dtype: int64"
            ]
          },
          "execution_count": 1364,
          "metadata": {},
          "output_type": "execute_result"
        }
      ],
      "source": [
        "df_customers.isnull().sum()"
      ]
    },
    {
      "cell_type": "markdown",
      "id": "10568450",
      "metadata": {
        "id": "10568450"
      },
      "source": [
        "### AGE"
      ]
    },
    {
      "cell_type": "markdown",
      "id": "beb3b78d",
      "metadata": {
        "id": "beb3b78d"
      },
      "source": [
        "Through the function dtypes we discovered that the data type of column 'age' is float and we want to convert it into integer."
      ]
    },
    {
      "cell_type": "code",
      "execution_count": null,
      "id": "574ad74d",
      "metadata": {
        "id": "574ad74d",
        "outputId": "3f15b83f-97a8-4678-cf35-c9090a88cfc9"
      },
      "outputs": [
        {
          "data": {
            "text/html": [
              "<div>\n",
              "<style scoped>\n",
              "    .dataframe tbody tr th:only-of-type {\n",
              "        vertical-align: middle;\n",
              "    }\n",
              "\n",
              "    .dataframe tbody tr th {\n",
              "        vertical-align: top;\n",
              "    }\n",
              "\n",
              "    .dataframe thead th {\n",
              "        text-align: right;\n",
              "    }\n",
              "</style>\n",
              "<table border=\"1\" class=\"dataframe\">\n",
              "  <thead>\n",
              "    <tr style=\"text-align: right;\">\n",
              "      <th></th>\n",
              "      <th>customer_id</th>\n",
              "      <th>fashion_news</th>\n",
              "      <th>club_member</th>\n",
              "      <th>age</th>\n",
              "    </tr>\n",
              "  </thead>\n",
              "  <tbody>\n",
              "    <tr>\n",
              "      <th>0</th>\n",
              "      <td>0</td>\n",
              "      <td>1</td>\n",
              "      <td>1</td>\n",
              "      <td>44</td>\n",
              "    </tr>\n",
              "    <tr>\n",
              "      <th>1</th>\n",
              "      <td>1</td>\n",
              "      <td>1</td>\n",
              "      <td>1</td>\n",
              "      <td>33</td>\n",
              "    </tr>\n",
              "    <tr>\n",
              "      <th>2</th>\n",
              "      <td>2</td>\n",
              "      <td>0</td>\n",
              "      <td>0</td>\n",
              "      <td>29</td>\n",
              "    </tr>\n",
              "    <tr>\n",
              "      <th>3</th>\n",
              "      <td>3</td>\n",
              "      <td>0</td>\n",
              "      <td>0</td>\n",
              "      <td>21</td>\n",
              "    </tr>\n",
              "    <tr>\n",
              "      <th>4</th>\n",
              "      <td>4</td>\n",
              "      <td>0</td>\n",
              "      <td>0</td>\n",
              "      <td>23</td>\n",
              "    </tr>\n",
              "  </tbody>\n",
              "</table>\n",
              "</div>"
            ],
            "text/plain": [
              "   customer_id  fashion_news  club_member  age\n",
              "0            0             1            1   44\n",
              "1            1             1            1   33\n",
              "2            2             0            0   29\n",
              "3            3             0            0   21\n",
              "4            4             0            0   23"
            ]
          },
          "execution_count": 1365,
          "metadata": {},
          "output_type": "execute_result"
        }
      ],
      "source": [
        "df_customers[\"age\"] = df_customers[\"age\"].apply(lambda x: int(x))\n",
        "df_customers.head()"
      ]
    },
    {
      "cell_type": "markdown",
      "id": "0e94bdb3",
      "metadata": {
        "id": "0e94bdb3"
      },
      "source": [
        "Our dataset contains informations about lots of customers and we want to group them according to their age, although we have lots of different ages. As we can see using the function describe( ) the minimum age recorded is 16 while the maximum age recorded is 91 and a really interesting fact is that 75% of the customers has less than 46 years. "
      ]
    },
    {
      "cell_type": "code",
      "execution_count": null,
      "id": "9b4bf143",
      "metadata": {
        "id": "9b4bf143",
        "outputId": "33b19003-84b0-4579-a698-b4a02addddd1"
      },
      "outputs": [
        {
          "data": {
            "text/plain": [
              "count    41253.000000\n",
              "mean        35.289191\n",
              "std         12.657879\n",
              "min         16.000000\n",
              "25%         25.000000\n",
              "50%         31.000000\n",
              "75%         46.000000\n",
              "max         91.000000\n",
              "Name: age, dtype: float64"
            ]
          },
          "execution_count": 1366,
          "metadata": {},
          "output_type": "execute_result"
        }
      ],
      "source": [
        "df_customers[\"age\"].describe()"
      ]
    },
    {
      "cell_type": "markdown",
      "id": "377b590f",
      "metadata": {
        "id": "377b590f"
      },
      "source": [
        "As we also have done before we use Counter to count how many customers have a specified age, we create a dataframe for it 'age' and plot the results. First thing we notice is that, although the maximum age recorded is 91, there are very few customers which have more than 70 years."
      ]
    },
    {
      "cell_type": "code",
      "execution_count": null,
      "id": "1d786d5c",
      "metadata": {
        "id": "1d786d5c",
        "outputId": "ff326739-3b56-479b-aa7b-a0570ef7d828"
      },
      "outputs": [
        {
          "data": {
            "image/png": "[encoded data removed]",
            "text/plain": [
              "<Figure size 1440x720 with 1 Axes>"
            ]
          },
          "metadata": {
            "needs_background": "light"
          },
          "output_type": "display_data"
        }
      ],
      "source": [
        "age_count = Counter(df_customers[\"age\"])\n",
        "age = pd.DataFrame([age_count]).T.reset_index()\n",
        "age.columns = (\"Age\",\"Count\")\n",
        "age = age.sort_values( by=\"Age\",ascending = True)\n",
        "plt.figure(figsize=(20,10))\n",
        "sns.barplot(x='Age', y='Count', data=age)\n",
        "plt.xticks(rotation=0)\n",
        "plt.show()"
      ]
    },
    {
      "cell_type": "markdown",
      "id": "513cf1e5",
      "metadata": {
        "id": "513cf1e5"
      },
      "source": [
        "Something that can be useful when we want to categorize customers is to assign to each of them an age group under which he/she falls. This would make our data more interpretable and less caothic and would totally helps us building the user-based recommender system. \n",
        "\n",
        "We proceed in this way creating age ranges of more or less 10 years until we reach 65 (since there are few customers we simply assign the group '65+'). Afterwards we add the new column age_group to the dataset."
      ]
    },
    {
      "cell_type": "code",
      "execution_count": null,
      "id": "164bdea1",
      "metadata": {
        "id": "164bdea1",
        "outputId": "848b34dd-5e1d-4b44-a5d5-af014d25ede1"
      },
      "outputs": [
        {
          "data": {
            "text/html": [
              "<div>\n",
              "<style scoped>\n",
              "    .dataframe tbody tr th:only-of-type {\n",
              "        vertical-align: middle;\n",
              "    }\n",
              "\n",
              "    .dataframe tbody tr th {\n",
              "        vertical-align: top;\n",
              "    }\n",
              "\n",
              "    .dataframe thead th {\n",
              "        text-align: right;\n",
              "    }\n",
              "</style>\n",
              "<table border=\"1\" class=\"dataframe\">\n",
              "  <thead>\n",
              "    <tr style=\"text-align: right;\">\n",
              "      <th></th>\n",
              "      <th>customer_id</th>\n",
              "      <th>fashion_news</th>\n",
              "      <th>club_member</th>\n",
              "      <th>age</th>\n",
              "      <th>age_group</th>\n",
              "    </tr>\n",
              "  </thead>\n",
              "  <tbody>\n",
              "    <tr>\n",
              "      <th>0</th>\n",
              "      <td>0</td>\n",
              "      <td>1</td>\n",
              "      <td>1</td>\n",
              "      <td>44</td>\n",
              "      <td>35-44</td>\n",
              "    </tr>\n",
              "    <tr>\n",
              "      <th>1</th>\n",
              "      <td>1</td>\n",
              "      <td>1</td>\n",
              "      <td>1</td>\n",
              "      <td>33</td>\n",
              "      <td>25-34</td>\n",
              "    </tr>\n",
              "    <tr>\n",
              "      <th>2</th>\n",
              "      <td>2</td>\n",
              "      <td>0</td>\n",
              "      <td>0</td>\n",
              "      <td>29</td>\n",
              "      <td>25-34</td>\n",
              "    </tr>\n",
              "    <tr>\n",
              "      <th>3</th>\n",
              "      <td>3</td>\n",
              "      <td>0</td>\n",
              "      <td>0</td>\n",
              "      <td>21</td>\n",
              "      <td>15-24</td>\n",
              "    </tr>\n",
              "    <tr>\n",
              "      <th>4</th>\n",
              "      <td>4</td>\n",
              "      <td>0</td>\n",
              "      <td>0</td>\n",
              "      <td>23</td>\n",
              "      <td>15-24</td>\n",
              "    </tr>\n",
              "    <tr>\n",
              "      <th>...</th>\n",
              "      <td>...</td>\n",
              "      <td>...</td>\n",
              "      <td>...</td>\n",
              "      <td>...</td>\n",
              "      <td>...</td>\n",
              "    </tr>\n",
              "    <tr>\n",
              "      <th>41248</th>\n",
              "      <td>41248</td>\n",
              "      <td>1</td>\n",
              "      <td>1</td>\n",
              "      <td>33</td>\n",
              "      <td>25-34</td>\n",
              "    </tr>\n",
              "    <tr>\n",
              "      <th>41249</th>\n",
              "      <td>41249</td>\n",
              "      <td>0</td>\n",
              "      <td>0</td>\n",
              "      <td>25</td>\n",
              "      <td>15-24</td>\n",
              "    </tr>\n",
              "    <tr>\n",
              "      <th>41250</th>\n",
              "      <td>41250</td>\n",
              "      <td>1</td>\n",
              "      <td>1</td>\n",
              "      <td>20</td>\n",
              "      <td>15-24</td>\n",
              "    </tr>\n",
              "    <tr>\n",
              "      <th>41251</th>\n",
              "      <td>41251</td>\n",
              "      <td>1</td>\n",
              "      <td>1</td>\n",
              "      <td>29</td>\n",
              "      <td>25-34</td>\n",
              "    </tr>\n",
              "    <tr>\n",
              "      <th>41252</th>\n",
              "      <td>41252</td>\n",
              "      <td>0</td>\n",
              "      <td>0</td>\n",
              "      <td>24</td>\n",
              "      <td>15-24</td>\n",
              "    </tr>\n",
              "  </tbody>\n",
              "</table>\n",
              "<p>41253 rows × 5 columns</p>\n",
              "</div>"
            ],
            "text/plain": [
              "       customer_id  fashion_news  club_member  age age_group\n",
              "0                0             1            1   44     35-44\n",
              "1                1             1            1   33     25-34\n",
              "2                2             0            0   29     25-34\n",
              "3                3             0            0   21     15-24\n",
              "4                4             0            0   23     15-24\n",
              "...            ...           ...          ...  ...       ...\n",
              "41248        41248             1            1   33     25-34\n",
              "41249        41249             0            0   25     15-24\n",
              "41250        41250             1            1   20     15-24\n",
              "41251        41251             1            1   29     25-34\n",
              "41252        41252             0            0   24     15-24\n",
              "\n",
              "[41253 rows x 5 columns]"
            ]
          },
          "execution_count": 1368,
          "metadata": {},
          "output_type": "execute_result"
        }
      ],
      "source": [
        "bins = [15,25,35,45,55,65,92]\n",
        "groups = [\"15-24\",\"25-34\",\"35-44\",\"45-54\",\"55-64\",\"65+\"]\n",
        "df_customers[\"age_group\"]=pd.cut(df_customers.age,bins,labels=groups, include_lowest=True)\n",
        "df_customers"
      ]
    },
    {
      "cell_type": "markdown",
      "id": "7ecab186",
      "metadata": {
        "id": "7ecab186"
      },
      "source": [
        "In order to understand better the distribution of age groups we use Counter to count how many times that age_group appears and create a dataframe for it. "
      ]
    },
    {
      "cell_type": "code",
      "execution_count": null,
      "id": "ceba89a7",
      "metadata": {
        "id": "ceba89a7",
        "outputId": "9388e9c0-3984-4114-f0c0-1c67ab8e588f"
      },
      "outputs": [
        {
          "data": {
            "text/html": [
              "<div>\n",
              "<style scoped>\n",
              "    .dataframe tbody tr th:only-of-type {\n",
              "        vertical-align: middle;\n",
              "    }\n",
              "\n",
              "    .dataframe tbody tr th {\n",
              "        vertical-align: top;\n",
              "    }\n",
              "\n",
              "    .dataframe thead th {\n",
              "        text-align: right;\n",
              "    }\n",
              "</style>\n",
              "<table border=\"1\" class=\"dataframe\">\n",
              "  <thead>\n",
              "    <tr style=\"text-align: right;\">\n",
              "      <th></th>\n",
              "      <th>Age Group</th>\n",
              "      <th>Count</th>\n",
              "    </tr>\n",
              "  </thead>\n",
              "  <tbody>\n",
              "    <tr>\n",
              "      <th>2</th>\n",
              "      <td>15-24</td>\n",
              "      <td>11076</td>\n",
              "    </tr>\n",
              "    <tr>\n",
              "      <th>1</th>\n",
              "      <td>25-34</td>\n",
              "      <td>14272</td>\n",
              "    </tr>\n",
              "    <tr>\n",
              "      <th>0</th>\n",
              "      <td>35-44</td>\n",
              "      <td>5088</td>\n",
              "    </tr>\n",
              "    <tr>\n",
              "      <th>3</th>\n",
              "      <td>45-54</td>\n",
              "      <td>7517</td>\n",
              "    </tr>\n",
              "    <tr>\n",
              "      <th>4</th>\n",
              "      <td>55-64</td>\n",
              "      <td>2791</td>\n",
              "    </tr>\n",
              "    <tr>\n",
              "      <th>5</th>\n",
              "      <td>65+</td>\n",
              "      <td>509</td>\n",
              "    </tr>\n",
              "  </tbody>\n",
              "</table>\n",
              "</div>"
            ],
            "text/plain": [
              "  Age Group  Count\n",
              "2     15-24  11076\n",
              "1     25-34  14272\n",
              "0     35-44   5088\n",
              "3     45-54   7517\n",
              "4     55-64   2791\n",
              "5       65+    509"
            ]
          },
          "execution_count": 1369,
          "metadata": {},
          "output_type": "execute_result"
        }
      ],
      "source": [
        "group = Counter(df_customers[\"age_group\"])\n",
        "age_groups = pd.DataFrame([group]).T.reset_index()\n",
        "age_groups.columns = (\"Age Group\",\"Count\")\n",
        "age_groups = age_groups.sort_values(by=\"Age Group\",ascending=True)\n",
        "age_groups"
      ]
    },
    {
      "cell_type": "markdown",
      "id": "31125550",
      "metadata": {
        "id": "31125550"
      },
      "source": [
        "We plot our results and notice that the groups with the highest number of customers are '15-24' and '25-34', this means lots of young customers respect to old ones."
      ]
    },
    {
      "cell_type": "code",
      "execution_count": null,
      "id": "59e949a5",
      "metadata": {
        "id": "59e949a5",
        "outputId": "81d4fa90-28ae-4aac-bd5e-d3ae5825a340"
      },
      "outputs": [
        {
          "data": {
            "image/png": "[encoded data removed]",
            "text/plain": [
              "<Figure size 1080x360 with 1 Axes>"
            ]
          },
          "metadata": {
            "needs_background": "light"
          },
          "output_type": "display_data"
        }
      ],
      "source": [
        "plt.figure(figsize=(15,5))\n",
        "sns.barplot(x='Age Group', y='Count', data=age_groups)\n",
        "plt.xticks(rotation=0)\n",
        "plt.show()"
      ]
    },
    {
      "cell_type": "markdown",
      "id": "ba8848b6",
      "metadata": {
        "id": "ba8848b6"
      },
      "source": [
        "### FASHION NEWS"
      ]
    },
    {
      "cell_type": "markdown",
      "id": "5f9fbf9e",
      "metadata": {
        "id": "5f9fbf9e"
      },
      "source": [
        "We want now to concentrate on the fashion_news feature, to have a better understanding of how many customers are subscribed we use Counter, create a dataframe and plot it. We find out that there are more customers that are not subscribed than the ones that are subscribed. "
      ]
    },
    {
      "cell_type": "code",
      "execution_count": null,
      "id": "89c96b71",
      "metadata": {
        "id": "89c96b71",
        "outputId": "ed7fde6e-8ccc-47ec-d4d2-2f13c958e771"
      },
      "outputs": [
        {
          "data": {
            "text/plain": [
              "Counter({1: 18213, 0: 23040})"
            ]
          },
          "execution_count": 1371,
          "metadata": {},
          "output_type": "execute_result"
        }
      ],
      "source": [
        "fashion_news = Counter(df_customers[\"fashion_news\"])\n",
        "fashion_news"
      ]
    },
    {
      "cell_type": "code",
      "execution_count": null,
      "id": "d1d355ad",
      "metadata": {
        "id": "d1d355ad",
        "outputId": "795e2dfd-77ab-42f4-a8eb-cb7bc17186bc"
      },
      "outputs": [
        {
          "data": {
            "image/png": "[encoded data removed]",
            "text/plain": [
              "<Figure size 1080x360 with 1 Axes>"
            ]
          },
          "metadata": {
            "needs_background": "light"
          },
          "output_type": "display_data"
        }
      ],
      "source": [
        "df_fashion_news = pd.DataFrame([fashion_news]).T.reset_index()\n",
        "df_fashion_news.columns = (\"(1=yes, 0=no)\",\"Count\")\n",
        "df_fashion_news\n",
        "plt.figure(figsize=(15,5))\n",
        "sns.barplot(x='(1=yes, 0=no)', y='Count', data=df_fashion_news)\n",
        "plt.xticks(rotation=0)\n",
        "plt.show()"
      ]
    },
    {
      "cell_type": "markdown",
      "id": "974231c2",
      "metadata": {
        "id": "974231c2"
      },
      "source": [
        "We then try to understand if the fact to be subscribed or not is connected somehow to the age_group, so we create a dataframe in which for each age group we see the number of customers subscribed and number of customers that are not."
      ]
    },
    {
      "cell_type": "code",
      "execution_count": null,
      "id": "ad0a8bd9",
      "metadata": {
        "id": "ad0a8bd9",
        "outputId": "fbb5e1d3-3e39-45d7-c013-5348998b4017"
      },
      "outputs": [
        {
          "data": {
            "text/html": [
              "<div>\n",
              "<style scoped>\n",
              "    .dataframe tbody tr th:only-of-type {\n",
              "        vertical-align: middle;\n",
              "    }\n",
              "\n",
              "    .dataframe tbody tr th {\n",
              "        vertical-align: top;\n",
              "    }\n",
              "\n",
              "    .dataframe thead th {\n",
              "        text-align: right;\n",
              "    }\n",
              "</style>\n",
              "<table border=\"1\" class=\"dataframe\">\n",
              "  <thead>\n",
              "    <tr style=\"text-align: right;\">\n",
              "      <th></th>\n",
              "      <th>age_group</th>\n",
              "      <th>fashion_news</th>\n",
              "      <th>count</th>\n",
              "    </tr>\n",
              "  </thead>\n",
              "  <tbody>\n",
              "    <tr>\n",
              "      <th>0</th>\n",
              "      <td>15-24</td>\n",
              "      <td>0</td>\n",
              "      <td>6045</td>\n",
              "    </tr>\n",
              "    <tr>\n",
              "      <th>1</th>\n",
              "      <td>15-24</td>\n",
              "      <td>1</td>\n",
              "      <td>5031</td>\n",
              "    </tr>\n",
              "    <tr>\n",
              "      <th>2</th>\n",
              "      <td>25-34</td>\n",
              "      <td>0</td>\n",
              "      <td>8804</td>\n",
              "    </tr>\n",
              "    <tr>\n",
              "      <th>3</th>\n",
              "      <td>25-34</td>\n",
              "      <td>1</td>\n",
              "      <td>5468</td>\n",
              "    </tr>\n",
              "    <tr>\n",
              "      <th>4</th>\n",
              "      <td>35-44</td>\n",
              "      <td>0</td>\n",
              "      <td>2762</td>\n",
              "    </tr>\n",
              "    <tr>\n",
              "      <th>5</th>\n",
              "      <td>35-44</td>\n",
              "      <td>1</td>\n",
              "      <td>2326</td>\n",
              "    </tr>\n",
              "    <tr>\n",
              "      <th>6</th>\n",
              "      <td>45-54</td>\n",
              "      <td>0</td>\n",
              "      <td>3902</td>\n",
              "    </tr>\n",
              "    <tr>\n",
              "      <th>7</th>\n",
              "      <td>45-54</td>\n",
              "      <td>1</td>\n",
              "      <td>3615</td>\n",
              "    </tr>\n",
              "    <tr>\n",
              "      <th>8</th>\n",
              "      <td>55-64</td>\n",
              "      <td>0</td>\n",
              "      <td>1313</td>\n",
              "    </tr>\n",
              "    <tr>\n",
              "      <th>9</th>\n",
              "      <td>55-64</td>\n",
              "      <td>1</td>\n",
              "      <td>1478</td>\n",
              "    </tr>\n",
              "    <tr>\n",
              "      <th>10</th>\n",
              "      <td>65+</td>\n",
              "      <td>0</td>\n",
              "      <td>214</td>\n",
              "    </tr>\n",
              "    <tr>\n",
              "      <th>11</th>\n",
              "      <td>65+</td>\n",
              "      <td>1</td>\n",
              "      <td>295</td>\n",
              "    </tr>\n",
              "  </tbody>\n",
              "</table>\n",
              "</div>"
            ],
            "text/plain": [
              "   age_group  fashion_news  count\n",
              "0      15-24             0   6045\n",
              "1      15-24             1   5031\n",
              "2      25-34             0   8804\n",
              "3      25-34             1   5468\n",
              "4      35-44             0   2762\n",
              "5      35-44             1   2326\n",
              "6      45-54             0   3902\n",
              "7      45-54             1   3615\n",
              "8      55-64             0   1313\n",
              "9      55-64             1   1478\n",
              "10       65+             0    214\n",
              "11       65+             1    295"
            ]
          },
          "execution_count": 1373,
          "metadata": {},
          "output_type": "execute_result"
        }
      ],
      "source": [
        "fashion_general = df_customers.groupby([\"age_group\",\"fashion_news\"]).count().reset_index()\n",
        "fashion_general = fashion_general.drop(columns=[\"club_member\",\"age\"])\n",
        "fashion_general.columns = (\"age_group\",\"fashion_news\",\"count\")\n",
        "fashion_general"
      ]
    },
    {
      "cell_type": "markdown",
      "id": "a9007b3b",
      "metadata": {
        "id": "a9007b3b"
      },
      "source": [
        "We plot it to have a visual representation and see how between people with more than 55 years the tendency is to be subscribed to fashion news, while between young customers there is an higher percentage of people not subscribed."
      ]
    },
    {
      "cell_type": "code",
      "execution_count": null,
      "id": "679b5e63",
      "metadata": {
        "id": "679b5e63",
        "outputId": "a4e829f4-e830-48e6-a7cf-087797acccc7"
      },
      "outputs": [
        {
          "data": {
            "image/png": "[encoded data removed]",
            "text/plain": [
              "<Figure size 1080x360 with 1 Axes>"
            ]
          },
          "metadata": {
            "needs_background": "light"
          },
          "output_type": "display_data"
        }
      ],
      "source": [
        "plt.figure(figsize=(15,5))\n",
        "sns.barplot(x='age_group', y='count',hue=\"fashion_news\", data=fashion_general)\n",
        "plt.xticks(rotation=0)\n",
        "plt.show()"
      ]
    },
    {
      "cell_type": "markdown",
      "id": "3e1d4a9f",
      "metadata": {
        "id": "3e1d4a9f"
      },
      "source": [
        "### CLUB MEMBERSHIP"
      ]
    },
    {
      "cell_type": "markdown",
      "id": "e46b4061",
      "metadata": {
        "id": "e46b4061"
      },
      "source": [
        "We repeat the same passages for the Club Membership where more or less we obtain the same results, with more people that are not part of the special club member."
      ]
    },
    {
      "cell_type": "code",
      "execution_count": null,
      "id": "d1cd2b4b",
      "metadata": {
        "id": "d1cd2b4b",
        "outputId": "beb824ca-4250-4ef2-c72c-ec3e8b21c7e1"
      },
      "outputs": [
        {
          "data": {
            "text/plain": [
              "Counter({1: 17975, 0: 23278})"
            ]
          },
          "execution_count": 1375,
          "metadata": {},
          "output_type": "execute_result"
        }
      ],
      "source": [
        "club_member = Counter(df_customers[\"club_member\"])\n",
        "club_member"
      ]
    },
    {
      "cell_type": "code",
      "execution_count": null,
      "id": "97aa6bf9",
      "metadata": {
        "id": "97aa6bf9",
        "outputId": "533417cd-2d8b-4b60-d7fa-5978679f7318"
      },
      "outputs": [
        {
          "data": {
            "text/html": [
              "<div>\n",
              "<style scoped>\n",
              "    .dataframe tbody tr th:only-of-type {\n",
              "        vertical-align: middle;\n",
              "    }\n",
              "\n",
              "    .dataframe tbody tr th {\n",
              "        vertical-align: top;\n",
              "    }\n",
              "\n",
              "    .dataframe thead th {\n",
              "        text-align: right;\n",
              "    }\n",
              "</style>\n",
              "<table border=\"1\" class=\"dataframe\">\n",
              "  <thead>\n",
              "    <tr style=\"text-align: right;\">\n",
              "      <th></th>\n",
              "      <th>(1=yes,0=no)</th>\n",
              "      <th>Count</th>\n",
              "    </tr>\n",
              "  </thead>\n",
              "  <tbody>\n",
              "    <tr>\n",
              "      <th>0</th>\n",
              "      <td>1</td>\n",
              "      <td>17975</td>\n",
              "    </tr>\n",
              "    <tr>\n",
              "      <th>1</th>\n",
              "      <td>0</td>\n",
              "      <td>23278</td>\n",
              "    </tr>\n",
              "  </tbody>\n",
              "</table>\n",
              "</div>"
            ],
            "text/plain": [
              "   (1=yes,0=no)  Count\n",
              "0             1  17975\n",
              "1             0  23278"
            ]
          },
          "execution_count": 1376,
          "metadata": {},
          "output_type": "execute_result"
        }
      ],
      "source": [
        "club_membership = pd.DataFrame([club_member]).T.reset_index()\n",
        "club_membership.columns = (\"(1=yes,0=no)\",\"Count\")\n",
        "club_membership"
      ]
    },
    {
      "cell_type": "code",
      "execution_count": null,
      "id": "27da2f55",
      "metadata": {
        "id": "27da2f55",
        "outputId": "c0e3046a-ec46-45c1-e1c6-6608d05e1bb0"
      },
      "outputs": [
        {
          "data": {
            "image/png": "[encoded data removed]",
            "text/plain": [
              "<Figure size 1080x360 with 1 Axes>"
            ]
          },
          "metadata": {
            "needs_background": "light"
          },
          "output_type": "display_data"
        }
      ],
      "source": [
        "plt.figure(figsize=(15,5))\n",
        "sns.barplot(x='(1=yes,0=no)', y='Count', data=club_membership)\n",
        "plt.xticks(rotation=0)\n",
        "plt.show()"
      ]
    },
    {
      "cell_type": "code",
      "execution_count": null,
      "id": "b33f9177",
      "metadata": {
        "id": "b33f9177",
        "outputId": "796ba5f2-60ed-4c04-b1e0-3d5b6097214e"
      },
      "outputs": [
        {
          "data": {
            "text/html": [
              "<div>\n",
              "<style scoped>\n",
              "    .dataframe tbody tr th:only-of-type {\n",
              "        vertical-align: middle;\n",
              "    }\n",
              "\n",
              "    .dataframe tbody tr th {\n",
              "        vertical-align: top;\n",
              "    }\n",
              "\n",
              "    .dataframe thead th {\n",
              "        text-align: right;\n",
              "    }\n",
              "</style>\n",
              "<table border=\"1\" class=\"dataframe\">\n",
              "  <thead>\n",
              "    <tr style=\"text-align: right;\">\n",
              "      <th></th>\n",
              "      <th>age_group</th>\n",
              "      <th>club_member</th>\n",
              "      <th>Count</th>\n",
              "    </tr>\n",
              "  </thead>\n",
              "  <tbody>\n",
              "    <tr>\n",
              "      <th>0</th>\n",
              "      <td>15-24</td>\n",
              "      <td>0</td>\n",
              "      <td>6139</td>\n",
              "    </tr>\n",
              "    <tr>\n",
              "      <th>1</th>\n",
              "      <td>15-24</td>\n",
              "      <td>1</td>\n",
              "      <td>4937</td>\n",
              "    </tr>\n",
              "    <tr>\n",
              "      <th>2</th>\n",
              "      <td>25-34</td>\n",
              "      <td>0</td>\n",
              "      <td>8875</td>\n",
              "    </tr>\n",
              "    <tr>\n",
              "      <th>3</th>\n",
              "      <td>25-34</td>\n",
              "      <td>1</td>\n",
              "      <td>5397</td>\n",
              "    </tr>\n",
              "    <tr>\n",
              "      <th>4</th>\n",
              "      <td>35-44</td>\n",
              "      <td>0</td>\n",
              "      <td>2789</td>\n",
              "    </tr>\n",
              "    <tr>\n",
              "      <th>5</th>\n",
              "      <td>35-44</td>\n",
              "      <td>1</td>\n",
              "      <td>2299</td>\n",
              "    </tr>\n",
              "    <tr>\n",
              "      <th>6</th>\n",
              "      <td>45-54</td>\n",
              "      <td>0</td>\n",
              "      <td>3933</td>\n",
              "    </tr>\n",
              "    <tr>\n",
              "      <th>7</th>\n",
              "      <td>45-54</td>\n",
              "      <td>1</td>\n",
              "      <td>3584</td>\n",
              "    </tr>\n",
              "    <tr>\n",
              "      <th>8</th>\n",
              "      <td>55-64</td>\n",
              "      <td>0</td>\n",
              "      <td>1328</td>\n",
              "    </tr>\n",
              "    <tr>\n",
              "      <th>9</th>\n",
              "      <td>55-64</td>\n",
              "      <td>1</td>\n",
              "      <td>1463</td>\n",
              "    </tr>\n",
              "    <tr>\n",
              "      <th>10</th>\n",
              "      <td>65+</td>\n",
              "      <td>0</td>\n",
              "      <td>214</td>\n",
              "    </tr>\n",
              "    <tr>\n",
              "      <th>11</th>\n",
              "      <td>65+</td>\n",
              "      <td>1</td>\n",
              "      <td>295</td>\n",
              "    </tr>\n",
              "  </tbody>\n",
              "</table>\n",
              "</div>"
            ],
            "text/plain": [
              "   age_group  club_member  Count\n",
              "0      15-24            0   6139\n",
              "1      15-24            1   4937\n",
              "2      25-34            0   8875\n",
              "3      25-34            1   5397\n",
              "4      35-44            0   2789\n",
              "5      35-44            1   2299\n",
              "6      45-54            0   3933\n",
              "7      45-54            1   3584\n",
              "8      55-64            0   1328\n",
              "9      55-64            1   1463\n",
              "10       65+            0    214\n",
              "11       65+            1    295"
            ]
          },
          "execution_count": 1378,
          "metadata": {},
          "output_type": "execute_result"
        }
      ],
      "source": [
        "df_club_member = df_customers.groupby([\"age_group\",\"club_member\"]).count().reset_index()\n",
        "df_club_member = df_club_member.drop(columns=[\"fashion_news\",\"age\"])\n",
        "df_club_member.columns = (\"age_group\",\"club_member\",\"Count\")\n",
        "df_club_member"
      ]
    },
    {
      "cell_type": "markdown",
      "id": "8edf951c",
      "metadata": {
        "id": "8edf951c"
      },
      "source": [
        "Also here people with more than 55 years is more probable that are going to be part of the special club member. "
      ]
    },
    {
      "cell_type": "code",
      "execution_count": null,
      "id": "0d7d048e",
      "metadata": {
        "id": "0d7d048e",
        "outputId": "0a8b6c90-c65b-4464-a073-a41348a7479a"
      },
      "outputs": [
        {
          "data": {
            "image/png": "[encoded data removed]",
            "text/plain": [
              "<Figure size 1080x360 with 1 Axes>"
            ]
          },
          "metadata": {
            "needs_background": "light"
          },
          "output_type": "display_data"
        }
      ],
      "source": [
        "plt.figure(figsize=(15,5))\n",
        "sns.barplot(x='age_group', y='Count',hue=\"club_member\", data=df_club_member)\n",
        "plt.xticks(rotation=0)\n",
        "plt.show()"
      ]
    },
    {
      "cell_type": "markdown",
      "id": "7227d3a5",
      "metadata": {
        "id": "7227d3a5"
      },
      "source": [
        "## TRANSACTIONS"
      ]
    },
    {
      "cell_type": "markdown",
      "id": "9e145325",
      "metadata": {
        "id": "9e145325"
      },
      "source": [
        "We import the last dataset which is the one concerning transactions. For each transaction we know when has been executed, from who and for what. Also here we print the first 5 rows and give a look at its shape. "
      ]
    },
    {
      "cell_type": "code",
      "execution_count": 7,
      "id": "04b26d26",
      "metadata": {
        "colab": {
          "base_uri": "https://localhost:8080/",
          "height": 206
        },
        "id": "04b26d26",
        "outputId": "2ece0936-f89e-4322-cac6-6dd7dd03b21b"
      },
      "outputs": [
        {
          "output_type": "execute_result",
          "data": {
            "text/plain": [
              "        t_dat  customer_id  article_id\n",
              "0  2020-09-02            7         599\n",
              "1  2020-09-02            7        2600\n",
              "2  2020-09-02            7        2063\n",
              "3  2020-09-02            7        5188\n",
              "4  2020-09-02           17        5111"
            ],
            "text/html": [
              "\n",
              "  <div id=\"df-be517367-3f62-4872-a10a-2f1b57a20b97\">\n",
              "    <div class=\"colab-df-container\">\n",
              "      <div>\n",
              "<style scoped>\n",
              "    .dataframe tbody tr th:only-of-type {\n",
              "        vertical-align: middle;\n",
              "    }\n",
              "\n",
              "    .dataframe tbody tr th {\n",
              "        vertical-align: top;\n",
              "    }\n",
              "\n",
              "    .dataframe thead th {\n",
              "        text-align: right;\n",
              "    }\n",
              "</style>\n",
              "<table border=\"1\" class=\"dataframe\">\n",
              "  <thead>\n",
              "    <tr style=\"text-align: right;\">\n",
              "      <th></th>\n",
              "      <th>t_dat</th>\n",
              "      <th>customer_id</th>\n",
              "      <th>article_id</th>\n",
              "    </tr>\n",
              "  </thead>\n",
              "  <tbody>\n",
              "    <tr>\n",
              "      <th>0</th>\n",
              "      <td>2020-09-02</td>\n",
              "      <td>7</td>\n",
              "      <td>599</td>\n",
              "    </tr>\n",
              "    <tr>\n",
              "      <th>1</th>\n",
              "      <td>2020-09-02</td>\n",
              "      <td>7</td>\n",
              "      <td>2600</td>\n",
              "    </tr>\n",
              "    <tr>\n",
              "      <th>2</th>\n",
              "      <td>2020-09-02</td>\n",
              "      <td>7</td>\n",
              "      <td>2063</td>\n",
              "    </tr>\n",
              "    <tr>\n",
              "      <th>3</th>\n",
              "      <td>2020-09-02</td>\n",
              "      <td>7</td>\n",
              "      <td>5188</td>\n",
              "    </tr>\n",
              "    <tr>\n",
              "      <th>4</th>\n",
              "      <td>2020-09-02</td>\n",
              "      <td>17</td>\n",
              "      <td>5111</td>\n",
              "    </tr>\n",
              "  </tbody>\n",
              "</table>\n",
              "</div>\n",
              "      <button class=\"colab-df-convert\" onclick=\"convertToInteractive('df-be517367-3f62-4872-a10a-2f1b57a20b97')\"\n",
              "              title=\"Convert this dataframe to an interactive table.\"\n",
              "              style=\"display:none;\">\n",
              "        \n",
              "  <svg xmlns=\"http://www.w3.org/2000/svg\" height=\"24px\"viewBox=\"0 0 24 24\"\n",
              "       width=\"24px\">\n",
              "    <path d=\"M0 0h24v24H0V0z\" fill=\"none\"/>\n",
              "    <path d=\"M18.56 5.44l.94 2.06.94-2.06 2.06-.94-2.06-.94-.94-2.06-.94 2.06-2.06.94zm-11 1L8.5 8.5l.94-2.06 2.06-.94-2.06-.94L8.5 2.5l-.94 2.06-2.06.94zm10 10l.94 2.06.94-2.06 2.06-.94-2.06-.94-.94-2.06-.94 2.06-2.06.94z\"/><path d=\"M17.41 7.96l-1.37-1.37c-.4-.4-.92-.59-1.43-.59-.52 0-1.04.2-1.43.59L10.3 9.45l-7.72 7.72c-.78.78-.78 2.05 0 2.83L4 21.41c.39.39.9.59 1.41.59.51 0 1.02-.2 1.41-.59l7.78-7.78 2.81-2.81c.8-.78.8-2.07 0-2.86zM5.41 20L4 18.59l7.72-7.72 1.47 1.35L5.41 20z\"/>\n",
              "  </svg>\n",
              "      </button>\n",
              "      \n",
              "  <style>\n",
              "    .colab-df-container {\n",
              "      display:flex;\n",
              "      flex-wrap:wrap;\n",
              "      gap: 12px;\n",
              "    }\n",
              "\n",
              "    .colab-df-convert {\n",
              "      background-color: #E8F0FE;\n",
              "      border: none;\n",
              "      border-radius: 50%;\n",
              "      cursor: pointer;\n",
              "      display: none;\n",
              "      fill: #1967D2;\n",
              "      height: 32px;\n",
              "      padding: 0 0 0 0;\n",
              "      width: 32px;\n",
              "    }\n",
              "\n",
              "    .colab-df-convert:hover {\n",
              "      background-color: #E2EBFA;\n",
              "      box-shadow: 0px 1px 2px rgba(60, 64, 67, 0.3), 0px 1px 3px 1px rgba(60, 64, 67, 0.15);\n",
              "      fill: #174EA6;\n",
              "    }\n",
              "\n",
              "    [theme=dark] .colab-df-convert {\n",
              "      background-color: #3B4455;\n",
              "      fill: #D2E3FC;\n",
              "    }\n",
              "\n",
              "    [theme=dark] .colab-df-convert:hover {\n",
              "      background-color: #434B5C;\n",
              "      box-shadow: 0px 1px 3px 1px rgba(0, 0, 0, 0.15);\n",
              "      filter: drop-shadow(0px 1px 2px rgba(0, 0, 0, 0.3));\n",
              "      fill: #FFFFFF;\n",
              "    }\n",
              "  </style>\n",
              "\n",
              "      <script>\n",
              "        const buttonEl =\n",
              "          document.querySelector('#df-be517367-3f62-4872-a10a-2f1b57a20b97 button.colab-df-convert');\n",
              "        buttonEl.style.display =\n",
              "          google.colab.kernel.accessAllowed ? 'block' : 'none';\n",
              "\n",
              "        async function convertToInteractive(key) {\n",
              "          const element = document.querySelector('#df-be517367-3f62-4872-a10a-2f1b57a20b97');\n",
              "          const dataTable =\n",
              "            await google.colab.kernel.invokeFunction('convertToInteractive',\n",
              "                                                     [key], {});\n",
              "          if (!dataTable) return;\n",
              "\n",
              "          const docLinkHtml = 'Like what you see? Visit the ' +\n",
              "            '<a target=\"_blank\" href=https://colab.research.google.com/notebooks/data_table.ipynb>data table notebook</a>'\n",
              "            + ' to learn more about interactive tables.';\n",
              "          element.innerHTML = '';\n",
              "          dataTable['output_type'] = 'display_data';\n",
              "          await google.colab.output.renderOutput(dataTable, element);\n",
              "          const docLink = document.createElement('div');\n",
              "          docLink.innerHTML = docLinkHtml;\n",
              "          element.appendChild(docLink);\n",
              "        }\n",
              "      </script>\n",
              "    </div>\n",
              "  </div>\n",
              "  "
            ]
          },
          "metadata": {},
          "execution_count": 7
        }
      ],
      "source": [
        "df_transactions = pd.read_csv(\"recsys_transactions.csv\")\n",
        "df_transactions.head()"
      ]
    },
    {
      "cell_type": "code",
      "execution_count": null,
      "id": "9835a6f8",
      "metadata": {
        "id": "9835a6f8",
        "outputId": "dcc21a6f-d603-4d43-c637-5bb1a1588948"
      },
      "outputs": [
        {
          "data": {
            "text/plain": [
              "(369113, 3)"
            ]
          },
          "execution_count": 1381,
          "metadata": {},
          "output_type": "execute_result"
        }
      ],
      "source": [
        "df_transactions.shape"
      ]
    },
    {
      "cell_type": "markdown",
      "id": "0ce2a0df",
      "metadata": {
        "id": "0ce2a0df"
      },
      "source": [
        "We look for NaN values and we're lucky not to find them."
      ]
    },
    {
      "cell_type": "code",
      "execution_count": null,
      "id": "37363296",
      "metadata": {
        "id": "37363296",
        "outputId": "d1cfc078-c29c-474f-c9e8-041658220fea"
      },
      "outputs": [
        {
          "data": {
            "text/plain": [
              "t_dat          0\n",
              "customer_id    0\n",
              "article_id     0\n",
              "dtype: int64"
            ]
          },
          "execution_count": 1382,
          "metadata": {},
          "output_type": "execute_result"
        }
      ],
      "source": [
        "df_transactions.isnull().sum()"
      ]
    },
    {
      "cell_type": "markdown",
      "id": "0f9bfcfe",
      "metadata": {
        "id": "0f9bfcfe"
      },
      "source": [
        "By the way one important thing is that this dataset is connected to the other ones, so for example can contain transactions of articles that  we have deleted before beacuse of the 'Unknwon' values. For this reason we create a copy of it called 'transactions' in which we exclude the articles we have deleted before and look at its shape."
      ]
    },
    {
      "cell_type": "code",
      "execution_count": null,
      "id": "76d2ee5b",
      "metadata": {
        "id": "76d2ee5b",
        "outputId": "b8467e51-502e-48e6-e2f8-0314bea21fe3"
      },
      "outputs": [
        {
          "data": {
            "text/plain": [
              "(357535, 3)"
            ]
          },
          "execution_count": 1383,
          "metadata": {},
          "output_type": "execute_result"
        }
      ],
      "source": [
        "articles2 = list(articles[\"article_id\"])\n",
        "transactions = df_transactions.query(\"article_id in @articles2\")\n",
        "transactions.shape"
      ]
    },
    {
      "cell_type": "markdown",
      "id": "fe8b84c4",
      "metadata": {
        "id": "fe8b84c4"
      },
      "source": [
        "A relevant step in EDA could be to look at the number of unique customers, articles and the average transactions made by customers or the ones per article. "
      ]
    },
    {
      "cell_type": "code",
      "execution_count": null,
      "id": "e5209e6c",
      "metadata": {
        "id": "e5209e6c",
        "outputId": "c57ca126-e94f-4328-a322-f37ff1bdedd6"
      },
      "outputs": [
        {
          "name": "stdout",
          "output_type": "stream",
          "text": [
            "Number of transactions: 357535\n",
            "Number of unique articles: 6328\n",
            "Number of unique customers: 41238\n",
            "Average number of transactions per customer: 8.67\n",
            "Average number of transactions per article: 56.5\n"
          ]
        }
      ],
      "source": [
        "n_transactions = len(transactions)\n",
        "n_articles = transactions['article_id'].nunique()\n",
        "n_customers = transactions['customer_id'].nunique()\n",
        "\n",
        "print(f\"Number of transactions: {n_transactions}\")\n",
        "print(f\"Number of unique articles: {n_articles}\")\n",
        "print(f\"Number of unique customers: {n_customers}\")\n",
        "print(f\"Average number of transactions per customer: {round(n_transactions/n_customers, 2)}\")\n",
        "print(f\"Average number of transactions per article: {round(n_transactions/n_articles, 2)}\")"
      ]
    },
    {
      "cell_type": "markdown",
      "id": "eeda3a50",
      "metadata": {
        "id": "eeda3a50"
      },
      "source": [
        "## Dates"
      ]
    },
    {
      "cell_type": "markdown",
      "id": "60687261",
      "metadata": {
        "id": "60687261"
      },
      "source": [
        "We count how many transactions are done in each single day and discover that 2020-09-09 has been the day with more transactions executed. Through the visual representation we can see the distribution over the different days."
      ]
    },
    {
      "cell_type": "code",
      "execution_count": null,
      "id": "e1c20d3b",
      "metadata": {
        "id": "e1c20d3b",
        "outputId": "e09a1db6-92b4-4df0-f98b-034cb5692eb0"
      },
      "outputs": [
        {
          "data": {
            "text/html": [
              "<div>\n",
              "<style scoped>\n",
              "    .dataframe tbody tr th:only-of-type {\n",
              "        vertical-align: middle;\n",
              "    }\n",
              "\n",
              "    .dataframe tbody tr th {\n",
              "        vertical-align: top;\n",
              "    }\n",
              "\n",
              "    .dataframe thead th {\n",
              "        text-align: right;\n",
              "    }\n",
              "</style>\n",
              "<table border=\"1\" class=\"dataframe\">\n",
              "  <thead>\n",
              "    <tr style=\"text-align: right;\">\n",
              "      <th></th>\n",
              "      <th>data</th>\n",
              "      <th>Count</th>\n",
              "    </tr>\n",
              "  </thead>\n",
              "  <tbody>\n",
              "    <tr>\n",
              "      <th>0</th>\n",
              "      <td>2020-09-02</td>\n",
              "      <td>13464</td>\n",
              "    </tr>\n",
              "    <tr>\n",
              "      <th>1</th>\n",
              "      <td>2020-09-03</td>\n",
              "      <td>17985</td>\n",
              "    </tr>\n",
              "    <tr>\n",
              "      <th>2</th>\n",
              "      <td>2020-09-04</td>\n",
              "      <td>16247</td>\n",
              "    </tr>\n",
              "    <tr>\n",
              "      <th>3</th>\n",
              "      <td>2020-09-05</td>\n",
              "      <td>18511</td>\n",
              "    </tr>\n",
              "    <tr>\n",
              "      <th>4</th>\n",
              "      <td>2020-09-06</td>\n",
              "      <td>16419</td>\n",
              "    </tr>\n",
              "    <tr>\n",
              "      <th>5</th>\n",
              "      <td>2020-09-07</td>\n",
              "      <td>18910</td>\n",
              "    </tr>\n",
              "    <tr>\n",
              "      <th>6</th>\n",
              "      <td>2020-09-08</td>\n",
              "      <td>18035</td>\n",
              "    </tr>\n",
              "    <tr>\n",
              "      <th>7</th>\n",
              "      <td>2020-09-09</td>\n",
              "      <td>20600</td>\n",
              "    </tr>\n",
              "    <tr>\n",
              "      <th>8</th>\n",
              "      <td>2020-09-10</td>\n",
              "      <td>19029</td>\n",
              "    </tr>\n",
              "    <tr>\n",
              "      <th>9</th>\n",
              "      <td>2020-09-11</td>\n",
              "      <td>17590</td>\n",
              "    </tr>\n",
              "    <tr>\n",
              "      <th>10</th>\n",
              "      <td>2020-09-12</td>\n",
              "      <td>18324</td>\n",
              "    </tr>\n",
              "    <tr>\n",
              "      <th>11</th>\n",
              "      <td>2020-09-13</td>\n",
              "      <td>20514</td>\n",
              "    </tr>\n",
              "    <tr>\n",
              "      <th>12</th>\n",
              "      <td>2020-09-14</td>\n",
              "      <td>15094</td>\n",
              "    </tr>\n",
              "    <tr>\n",
              "      <th>13</th>\n",
              "      <td>2020-09-15</td>\n",
              "      <td>12763</td>\n",
              "    </tr>\n",
              "    <tr>\n",
              "      <th>14</th>\n",
              "      <td>2020-09-16</td>\n",
              "      <td>12911</td>\n",
              "    </tr>\n",
              "    <tr>\n",
              "      <th>15</th>\n",
              "      <td>2020-09-17</td>\n",
              "      <td>19711</td>\n",
              "    </tr>\n",
              "    <tr>\n",
              "      <th>16</th>\n",
              "      <td>2020-09-18</td>\n",
              "      <td>18361</td>\n",
              "    </tr>\n",
              "    <tr>\n",
              "      <th>17</th>\n",
              "      <td>2020-09-19</td>\n",
              "      <td>16532</td>\n",
              "    </tr>\n",
              "    <tr>\n",
              "      <th>18</th>\n",
              "      <td>2020-09-20</td>\n",
              "      <td>15597</td>\n",
              "    </tr>\n",
              "    <tr>\n",
              "      <th>19</th>\n",
              "      <td>2020-09-21</td>\n",
              "      <td>15537</td>\n",
              "    </tr>\n",
              "    <tr>\n",
              "      <th>20</th>\n",
              "      <td>2020-09-22</td>\n",
              "      <td>15401</td>\n",
              "    </tr>\n",
              "  </tbody>\n",
              "</table>\n",
              "</div>"
            ],
            "text/plain": [
              "          data  Count\n",
              "0   2020-09-02  13464\n",
              "1   2020-09-03  17985\n",
              "2   2020-09-04  16247\n",
              "3   2020-09-05  18511\n",
              "4   2020-09-06  16419\n",
              "5   2020-09-07  18910\n",
              "6   2020-09-08  18035\n",
              "7   2020-09-09  20600\n",
              "8   2020-09-10  19029\n",
              "9   2020-09-11  17590\n",
              "10  2020-09-12  18324\n",
              "11  2020-09-13  20514\n",
              "12  2020-09-14  15094\n",
              "13  2020-09-15  12763\n",
              "14  2020-09-16  12911\n",
              "15  2020-09-17  19711\n",
              "16  2020-09-18  18361\n",
              "17  2020-09-19  16532\n",
              "18  2020-09-20  15597\n",
              "19  2020-09-21  15537\n",
              "20  2020-09-22  15401"
            ]
          },
          "execution_count": 1385,
          "metadata": {},
          "output_type": "execute_result"
        }
      ],
      "source": [
        "t_dat = Counter(transactions[\"t_dat\"])\n",
        "df_t_dat = pd.DataFrame([t_dat]).T.reset_index()\n",
        "df_t_dat.columns = (\"data\",\"Count\")\n",
        "df_t_dat = df_t_dat.sort_values(by=\"data\",ascending=True)\n",
        "df_t_dat"
      ]
    },
    {
      "cell_type": "code",
      "execution_count": null,
      "id": "7366319e",
      "metadata": {
        "id": "7366319e",
        "outputId": "1cf30ac5-16f5-4901-ae3b-33fb2b10e430"
      },
      "outputs": [
        {
          "data": {
            "image/png": "[encoded data removed]",
            "text/plain": [
              "<Figure size 1080x360 with 1 Axes>"
            ]
          },
          "metadata": {
            "needs_background": "light"
          },
          "output_type": "display_data"
        }
      ],
      "source": [
        "plt.figure(figsize=(15,5))\n",
        "sns.barplot(x='data', y='Count', data=df_t_dat)\n",
        "plt.xticks(rotation=45)\n",
        "plt.show()"
      ]
    },
    {
      "cell_type": "markdown",
      "id": "8f30ae88",
      "metadata": {
        "id": "8f30ae88"
      },
      "source": [
        "## Transactions per customer"
      ]
    },
    {
      "cell_type": "markdown",
      "id": "b2d9538e",
      "metadata": {
        "id": "b2d9538e"
      },
      "source": [
        "We want first of all a dataframe wich states for each customer the number of transactions for each article."
      ]
    },
    {
      "cell_type": "code",
      "execution_count": null,
      "id": "2b222598",
      "metadata": {
        "id": "2b222598",
        "outputId": "565afa6c-e330-40ab-f27d-f7d4b7c9ff67"
      },
      "outputs": [
        {
          "data": {
            "text/html": [
              "<div>\n",
              "<style scoped>\n",
              "    .dataframe tbody tr th:only-of-type {\n",
              "        vertical-align: middle;\n",
              "    }\n",
              "\n",
              "    .dataframe tbody tr th {\n",
              "        vertical-align: top;\n",
              "    }\n",
              "\n",
              "    .dataframe thead th {\n",
              "        text-align: right;\n",
              "    }\n",
              "</style>\n",
              "<table border=\"1\" class=\"dataframe\">\n",
              "  <thead>\n",
              "    <tr style=\"text-align: right;\">\n",
              "      <th></th>\n",
              "      <th>customer_id</th>\n",
              "      <th>article_id</th>\n",
              "      <th>transactions</th>\n",
              "    </tr>\n",
              "  </thead>\n",
              "  <tbody>\n",
              "    <tr>\n",
              "      <th>0</th>\n",
              "      <td>0</td>\n",
              "      <td>463</td>\n",
              "      <td>1</td>\n",
              "    </tr>\n",
              "    <tr>\n",
              "      <th>1</th>\n",
              "      <td>0</td>\n",
              "      <td>5571</td>\n",
              "      <td>1</td>\n",
              "    </tr>\n",
              "    <tr>\n",
              "      <th>2</th>\n",
              "      <td>0</td>\n",
              "      <td>6120</td>\n",
              "      <td>1</td>\n",
              "    </tr>\n",
              "    <tr>\n",
              "      <th>3</th>\n",
              "      <td>1</td>\n",
              "      <td>617</td>\n",
              "      <td>1</td>\n",
              "    </tr>\n",
              "    <tr>\n",
              "      <th>4</th>\n",
              "      <td>1</td>\n",
              "      <td>680</td>\n",
              "      <td>1</td>\n",
              "    </tr>\n",
              "    <tr>\n",
              "      <th>...</th>\n",
              "      <td>...</td>\n",
              "      <td>...</td>\n",
              "      <td>...</td>\n",
              "    </tr>\n",
              "    <tr>\n",
              "      <th>297146</th>\n",
              "      <td>41252</td>\n",
              "      <td>350</td>\n",
              "      <td>1</td>\n",
              "    </tr>\n",
              "    <tr>\n",
              "      <th>297147</th>\n",
              "      <td>41252</td>\n",
              "      <td>1184</td>\n",
              "      <td>1</td>\n",
              "    </tr>\n",
              "    <tr>\n",
              "      <th>297148</th>\n",
              "      <td>41252</td>\n",
              "      <td>1340</td>\n",
              "      <td>1</td>\n",
              "    </tr>\n",
              "    <tr>\n",
              "      <th>297149</th>\n",
              "      <td>41252</td>\n",
              "      <td>1974</td>\n",
              "      <td>1</td>\n",
              "    </tr>\n",
              "    <tr>\n",
              "      <th>297150</th>\n",
              "      <td>41252</td>\n",
              "      <td>2166</td>\n",
              "      <td>1</td>\n",
              "    </tr>\n",
              "  </tbody>\n",
              "</table>\n",
              "<p>297151 rows × 3 columns</p>\n",
              "</div>"
            ],
            "text/plain": [
              "        customer_id  article_id  transactions\n",
              "0                 0         463             1\n",
              "1                 0        5571             1\n",
              "2                 0        6120             1\n",
              "3                 1         617             1\n",
              "4                 1         680             1\n",
              "...             ...         ...           ...\n",
              "297146        41252         350             1\n",
              "297147        41252        1184             1\n",
              "297148        41252        1340             1\n",
              "297149        41252        1974             1\n",
              "297150        41252        2166             1\n",
              "\n",
              "[297151 rows x 3 columns]"
            ]
          },
          "execution_count": 1387,
          "metadata": {},
          "output_type": "execute_result"
        }
      ],
      "source": [
        "customer_transactions = transactions.groupby([\"customer_id\",\"article_id\"]).count().reset_index()\n",
        "customer_transactions.columns = (\"customer_id\",\"article_id\",\"transactions\")\n",
        "customer_transactions"
      ]
    },
    {
      "cell_type": "markdown",
      "id": "89f17f03",
      "metadata": {
        "id": "89f17f03"
      },
      "source": [
        "We need now a dataframe which states for each user the number of transactions made and we proceed using Counter and creating the dataframe for it."
      ]
    },
    {
      "cell_type": "code",
      "execution_count": null,
      "id": "a264cc74",
      "metadata": {
        "id": "a264cc74",
        "outputId": "3b5d4d77-1804-4521-846c-0af496e9b89a"
      },
      "outputs": [
        {
          "data": {
            "text/html": [
              "<div>\n",
              "<style scoped>\n",
              "    .dataframe tbody tr th:only-of-type {\n",
              "        vertical-align: middle;\n",
              "    }\n",
              "\n",
              "    .dataframe tbody tr th {\n",
              "        vertical-align: top;\n",
              "    }\n",
              "\n",
              "    .dataframe thead th {\n",
              "        text-align: right;\n",
              "    }\n",
              "</style>\n",
              "<table border=\"1\" class=\"dataframe\">\n",
              "  <thead>\n",
              "    <tr style=\"text-align: right;\">\n",
              "      <th></th>\n",
              "      <th>customer_id</th>\n",
              "      <th>transactions</th>\n",
              "    </tr>\n",
              "  </thead>\n",
              "  <tbody>\n",
              "    <tr>\n",
              "      <th>0</th>\n",
              "      <td>0</td>\n",
              "      <td>3</td>\n",
              "    </tr>\n",
              "    <tr>\n",
              "      <th>1</th>\n",
              "      <td>1</td>\n",
              "      <td>7</td>\n",
              "    </tr>\n",
              "    <tr>\n",
              "      <th>2</th>\n",
              "      <td>2</td>\n",
              "      <td>9</td>\n",
              "    </tr>\n",
              "    <tr>\n",
              "      <th>3</th>\n",
              "      <td>3</td>\n",
              "      <td>7</td>\n",
              "    </tr>\n",
              "    <tr>\n",
              "      <th>4</th>\n",
              "      <td>4</td>\n",
              "      <td>16</td>\n",
              "    </tr>\n",
              "  </tbody>\n",
              "</table>\n",
              "</div>"
            ],
            "text/plain": [
              "   customer_id  transactions\n",
              "0            0             3\n",
              "1            1             7\n",
              "2            2             9\n",
              "3            3             7\n",
              "4            4            16"
            ]
          },
          "execution_count": 1388,
          "metadata": {},
          "output_type": "execute_result"
        }
      ],
      "source": [
        "customer_id = Counter(transactions[\"customer_id\"])\n",
        "customer = pd.DataFrame([customer_id]).T.reset_index()\n",
        "customer.columns = (\"customer_id\",\"transactions\")\n",
        "customer = customer.sort_values(by=\"customer_id\",ascending = True).reset_index()\n",
        "customer = customer.drop(columns=\"index\")\n",
        "customer.head()"
      ]
    },
    {
      "cell_type": "markdown",
      "id": "85a49439",
      "metadata": {
        "id": "85a49439"
      },
      "source": [
        "As before with the age group we decide to assign each customer to a transaction group according to the number of transactions made in order to get better insights from data. Afterwards we modify the dataset of customers in order to combine informations."
      ]
    },
    {
      "cell_type": "code",
      "execution_count": null,
      "id": "f8ecb28e",
      "metadata": {
        "id": "f8ecb28e",
        "outputId": "eb79a3c8-c59b-42aa-e299-39c622b27de3"
      },
      "outputs": [
        {
          "data": {
            "text/html": [
              "<div>\n",
              "<style scoped>\n",
              "    .dataframe tbody tr th:only-of-type {\n",
              "        vertical-align: middle;\n",
              "    }\n",
              "\n",
              "    .dataframe tbody tr th {\n",
              "        vertical-align: top;\n",
              "    }\n",
              "\n",
              "    .dataframe thead th {\n",
              "        text-align: right;\n",
              "    }\n",
              "</style>\n",
              "<table border=\"1\" class=\"dataframe\">\n",
              "  <thead>\n",
              "    <tr style=\"text-align: right;\">\n",
              "      <th></th>\n",
              "      <th>customer_id</th>\n",
              "      <th>transactions</th>\n",
              "      <th>transaction_group</th>\n",
              "      <th>fashion_news</th>\n",
              "      <th>club_member</th>\n",
              "      <th>age_group</th>\n",
              "    </tr>\n",
              "  </thead>\n",
              "  <tbody>\n",
              "    <tr>\n",
              "      <th>0</th>\n",
              "      <td>0</td>\n",
              "      <td>3</td>\n",
              "      <td>1-5</td>\n",
              "      <td>1</td>\n",
              "      <td>1</td>\n",
              "      <td>35-44</td>\n",
              "    </tr>\n",
              "    <tr>\n",
              "      <th>1</th>\n",
              "      <td>1</td>\n",
              "      <td>7</td>\n",
              "      <td>6-10</td>\n",
              "      <td>1</td>\n",
              "      <td>1</td>\n",
              "      <td>25-34</td>\n",
              "    </tr>\n",
              "    <tr>\n",
              "      <th>2</th>\n",
              "      <td>2</td>\n",
              "      <td>9</td>\n",
              "      <td>6-10</td>\n",
              "      <td>0</td>\n",
              "      <td>0</td>\n",
              "      <td>25-34</td>\n",
              "    </tr>\n",
              "    <tr>\n",
              "      <th>3</th>\n",
              "      <td>3</td>\n",
              "      <td>7</td>\n",
              "      <td>6-10</td>\n",
              "      <td>0</td>\n",
              "      <td>0</td>\n",
              "      <td>15-24</td>\n",
              "    </tr>\n",
              "    <tr>\n",
              "      <th>4</th>\n",
              "      <td>4</td>\n",
              "      <td>16</td>\n",
              "      <td>11-18</td>\n",
              "      <td>0</td>\n",
              "      <td>0</td>\n",
              "      <td>15-24</td>\n",
              "    </tr>\n",
              "  </tbody>\n",
              "</table>\n",
              "</div>"
            ],
            "text/plain": [
              "   customer_id  transactions transaction_group  fashion_news  club_member  \\\n",
              "0            0             3               1-5             1            1   \n",
              "1            1             7              6-10             1            1   \n",
              "2            2             9              6-10             0            0   \n",
              "3            3             7              6-10             0            0   \n",
              "4            4            16             11-18             0            0   \n",
              "\n",
              "  age_group  \n",
              "0     35-44  \n",
              "1     25-34  \n",
              "2     25-34  \n",
              "3     15-24  \n",
              "4     15-24  "
            ]
          },
          "execution_count": 1389,
          "metadata": {},
          "output_type": "execute_result"
        }
      ],
      "source": [
        "bins = [1,6,11,19,30,104]\n",
        "transaction_group = [\"1-5\",\"6-10\",\"11-18\",\"19-30\",\"30+\"]\n",
        "customer[\"transaction_group\"] = pd.cut(customer[\"transactions\"],bins, labels = transaction_group, include_lowest = True)\n",
        "customer[\"fashion_news\"] = df_customers[\"fashion_news\"]\n",
        "customer[\"club_member\"] = df_customers[\"club_member\"]\n",
        "customer[\"age_group\"] = df_customers[\"age_group\"]\n",
        "customer.head()"
      ]
    },
    {
      "cell_type": "markdown",
      "id": "149f1cf0",
      "metadata": {
        "id": "149f1cf0"
      },
      "source": [
        "Now we're asking for each age group how transactions groups are spread and plot the results."
      ]
    },
    {
      "cell_type": "code",
      "execution_count": null,
      "id": "90f1b30d",
      "metadata": {
        "id": "90f1b30d",
        "outputId": "9120612e-dc06-4eb5-880f-f56a5674b08c"
      },
      "outputs": [
        {
          "data": {
            "text/html": [
              "<div>\n",
              "<style scoped>\n",
              "    .dataframe tbody tr th:only-of-type {\n",
              "        vertical-align: middle;\n",
              "    }\n",
              "\n",
              "    .dataframe tbody tr th {\n",
              "        vertical-align: top;\n",
              "    }\n",
              "\n",
              "    .dataframe thead th {\n",
              "        text-align: right;\n",
              "    }\n",
              "</style>\n",
              "<table border=\"1\" class=\"dataframe\">\n",
              "  <thead>\n",
              "    <tr style=\"text-align: right;\">\n",
              "      <th></th>\n",
              "      <th>age_group</th>\n",
              "      <th>transaction_group</th>\n",
              "      <th>count</th>\n",
              "    </tr>\n",
              "  </thead>\n",
              "  <tbody>\n",
              "    <tr>\n",
              "      <th>0</th>\n",
              "      <td>15-24</td>\n",
              "      <td>1-5</td>\n",
              "      <td>4519</td>\n",
              "    </tr>\n",
              "    <tr>\n",
              "      <th>1</th>\n",
              "      <td>15-24</td>\n",
              "      <td>6-10</td>\n",
              "      <td>4568</td>\n",
              "    </tr>\n",
              "    <tr>\n",
              "      <th>2</th>\n",
              "      <td>15-24</td>\n",
              "      <td>11-18</td>\n",
              "      <td>1557</td>\n",
              "    </tr>\n",
              "    <tr>\n",
              "      <th>3</th>\n",
              "      <td>15-24</td>\n",
              "      <td>19-30</td>\n",
              "      <td>341</td>\n",
              "    </tr>\n",
              "    <tr>\n",
              "      <th>4</th>\n",
              "      <td>15-24</td>\n",
              "      <td>30+</td>\n",
              "      <td>84</td>\n",
              "    </tr>\n",
              "  </tbody>\n",
              "</table>\n",
              "</div>"
            ],
            "text/plain": [
              "  age_group transaction_group  count\n",
              "0     15-24               1-5   4519\n",
              "1     15-24              6-10   4568\n",
              "2     15-24             11-18   1557\n",
              "3     15-24             19-30    341\n",
              "4     15-24               30+     84"
            ]
          },
          "execution_count": 1390,
          "metadata": {},
          "output_type": "execute_result"
        }
      ],
      "source": [
        "new = customer.groupby([\"age_group\",\"transaction_group\"]).count().reset_index()\n",
        "new = new.drop(columns=[\"transactions\",\"fashion_news\",\"club_member\"])\n",
        "new.columns = (\"age_group\",\"transaction_group\",\"count\")\n",
        "new.head()"
      ]
    },
    {
      "cell_type": "markdown",
      "id": "297d6e2f",
      "metadata": {
        "id": "297d6e2f"
      },
      "source": [
        "Another time it is easy to notice that in each age_group the transactions groups that have an higher frequency are '1-5' and '6-10'. People of more than 55 years have an higher probability of making '1-5' transactions than '6-10'. "
      ]
    },
    {
      "cell_type": "code",
      "execution_count": null,
      "id": "d5e20323",
      "metadata": {
        "id": "d5e20323",
        "outputId": "6f8e881f-0da7-4db0-dc57-063aa808caee"
      },
      "outputs": [
        {
          "data": {
            "image/png": "[encoded data removed]",
            "text/plain": [
              "<Figure size 1080x360 with 1 Axes>"
            ]
          },
          "metadata": {
            "needs_background": "light"
          },
          "output_type": "display_data"
        }
      ],
      "source": [
        "plt.figure(figsize=(15,5))\n",
        "sns.barplot(x='age_group', y='count',hue=\"transaction_group\", data=new)\n",
        "plt.xticks(rotation=0)\n",
        "plt.show()"
      ]
    },
    {
      "cell_type": "markdown",
      "id": "1fa3cee2",
      "metadata": {
        "id": "1fa3cee2"
      },
      "source": [
        "## Transactions per article"
      ]
    },
    {
      "cell_type": "markdown",
      "id": "62f60c16",
      "metadata": {
        "id": "62f60c16"
      },
      "source": [
        "We need a dataframe which states for each article the number of transactions made and we proceed using Counter and creating the dataframe for it. The article with more transactions is article 1419 with 1045 transactions. "
      ]
    },
    {
      "cell_type": "code",
      "execution_count": null,
      "id": "ab2cdfaf",
      "metadata": {
        "id": "ab2cdfaf",
        "outputId": "1b024456-5ca4-4cda-8152-0f00c1fb3e82"
      },
      "outputs": [
        {
          "data": {
            "text/html": [
              "<div>\n",
              "<style scoped>\n",
              "    .dataframe tbody tr th:only-of-type {\n",
              "        vertical-align: middle;\n",
              "    }\n",
              "\n",
              "    .dataframe tbody tr th {\n",
              "        vertical-align: top;\n",
              "    }\n",
              "\n",
              "    .dataframe thead th {\n",
              "        text-align: right;\n",
              "    }\n",
              "</style>\n",
              "<table border=\"1\" class=\"dataframe\">\n",
              "  <thead>\n",
              "    <tr style=\"text-align: right;\">\n",
              "      <th></th>\n",
              "      <th>article</th>\n",
              "      <th>count</th>\n",
              "    </tr>\n",
              "  </thead>\n",
              "  <tbody>\n",
              "    <tr>\n",
              "      <th>0</th>\n",
              "      <td>1419</td>\n",
              "      <td>1045</td>\n",
              "    </tr>\n",
              "    <tr>\n",
              "      <th>1</th>\n",
              "      <td>168</td>\n",
              "      <td>896</td>\n",
              "    </tr>\n",
              "    <tr>\n",
              "      <th>2</th>\n",
              "      <td>5831</td>\n",
              "      <td>889</td>\n",
              "    </tr>\n",
              "    <tr>\n",
              "      <th>3</th>\n",
              "      <td>6166</td>\n",
              "      <td>858</td>\n",
              "    </tr>\n",
              "    <tr>\n",
              "      <th>4</th>\n",
              "      <td>1429</td>\n",
              "      <td>815</td>\n",
              "    </tr>\n",
              "  </tbody>\n",
              "</table>\n",
              "</div>"
            ],
            "text/plain": [
              "   article  count\n",
              "0     1419   1045\n",
              "1      168    896\n",
              "2     5831    889\n",
              "3     6166    858\n",
              "4     1429    815"
            ]
          },
          "execution_count": 1392,
          "metadata": {},
          "output_type": "execute_result"
        }
      ],
      "source": [
        "article_id = Counter(df_transactions[\"article_id\"])\n",
        "article = pd.DataFrame([article_id]).T.reset_index()\n",
        "article.columns = (\"article\",\"count\")\n",
        "article = article.sort_values(by=\"count\",ascending=False).reset_index()\n",
        "article = article.drop(columns=\"index\")\n",
        "article.head()"
      ]
    },
    {
      "cell_type": "markdown",
      "id": "c7e84617",
      "metadata": {
        "id": "c7e84617"
      },
      "source": [
        "Now we are done with data exploration and we can finally build our collaborative filtering recommender system.\n",
        "\n",
        "The first step of collaborative filtering is to transform our data into a user-item matrix also known as a \"utility\" matrix. In this matrix, rows represent article_id and columns represent customer_id. There's no need of additional information."
      ]
    },
    {
      "cell_type": "markdown",
      "id": "dfbefc98",
      "metadata": {
        "id": "dfbefc98"
      },
      "source": [
        "## COLLABORATIVE FILTERING RECOMMENDER"
      ]
    },
    {
      "cell_type": "markdown",
      "id": "65ce6ab2",
      "metadata": {
        "id": "65ce6ab2"
      },
      "source": [
        "The dataset we're going to use for our recommender system is going to be 'customer_transactions'."
      ]
    },
    {
      "cell_type": "code",
      "execution_count": null,
      "id": "1e9d4a3a",
      "metadata": {
        "id": "1e9d4a3a",
        "outputId": "9243fca8-43dc-46a4-bb34-533531963d6e"
      },
      "outputs": [
        {
          "data": {
            "text/html": [
              "<div>\n",
              "<style scoped>\n",
              "    .dataframe tbody tr th:only-of-type {\n",
              "        vertical-align: middle;\n",
              "    }\n",
              "\n",
              "    .dataframe tbody tr th {\n",
              "        vertical-align: top;\n",
              "    }\n",
              "\n",
              "    .dataframe thead th {\n",
              "        text-align: right;\n",
              "    }\n",
              "</style>\n",
              "<table border=\"1\" class=\"dataframe\">\n",
              "  <thead>\n",
              "    <tr style=\"text-align: right;\">\n",
              "      <th></th>\n",
              "      <th>customer_id</th>\n",
              "      <th>article_id</th>\n",
              "      <th>transactions</th>\n",
              "    </tr>\n",
              "  </thead>\n",
              "  <tbody>\n",
              "    <tr>\n",
              "      <th>0</th>\n",
              "      <td>0</td>\n",
              "      <td>463</td>\n",
              "      <td>1</td>\n",
              "    </tr>\n",
              "    <tr>\n",
              "      <th>1</th>\n",
              "      <td>0</td>\n",
              "      <td>5571</td>\n",
              "      <td>1</td>\n",
              "    </tr>\n",
              "    <tr>\n",
              "      <th>2</th>\n",
              "      <td>0</td>\n",
              "      <td>6120</td>\n",
              "      <td>1</td>\n",
              "    </tr>\n",
              "    <tr>\n",
              "      <th>3</th>\n",
              "      <td>1</td>\n",
              "      <td>617</td>\n",
              "      <td>1</td>\n",
              "    </tr>\n",
              "    <tr>\n",
              "      <th>4</th>\n",
              "      <td>1</td>\n",
              "      <td>680</td>\n",
              "      <td>1</td>\n",
              "    </tr>\n",
              "  </tbody>\n",
              "</table>\n",
              "</div>"
            ],
            "text/plain": [
              "   customer_id  article_id  transactions\n",
              "0            0         463             1\n",
              "1            0        5571             1\n",
              "2            0        6120             1\n",
              "3            1         617             1\n",
              "4            1         680             1"
            ]
          },
          "execution_count": 1393,
          "metadata": {},
          "output_type": "execute_result"
        }
      ],
      "source": [
        "customer_transactions.head()"
      ]
    },
    {
      "cell_type": "markdown",
      "id": "e458cdb2",
      "metadata": {
        "id": "e458cdb2"
      },
      "source": [
        "We need these dictionaries because they map which row and column of the utility matrix corresponds to which article id.'article_mapper' maps article id to article index, while 'article_inv_mapper' maps article indes to article id. "
      ]
    },
    {
      "cell_type": "code",
      "execution_count": null,
      "id": "e6926c65",
      "metadata": {
        "id": "e6926c65"
      },
      "outputs": [],
      "source": [
        "N = customer_transactions['customer_id'].nunique()\n",
        "M = customer_transactions['article_id'].nunique()\n",
        "\n",
        "article_mapper = dict(zip(np.unique(customer_transactions['article_id']), list(range(M))))\n",
        "article_inv_mapper = dict(zip(list(range(M)), np.unique(customer_transactions['article_id'])))\n",
        "\n",
        "article_index = [article_mapper[i] for i in customer_transactions['article_id']]"
      ]
    },
    {
      "cell_type": "code",
      "execution_count": null,
      "id": "5db0f217",
      "metadata": {
        "id": "5db0f217"
      },
      "outputs": [],
      "source": [
        "# maps customer id to customer index\n",
        "customer_mapper = dict(zip(np.unique(customer_transactions['customer_id']), list(range(N))))\n",
        "# maps customer index to customer id\n",
        "customer_inv_mapper = dict(zip(list(range(N)), np.unique(customer_transactions['customer_id'])))\n",
        "\n",
        "customer_index = [customer_mapper[i] for i in customer_transactions['customer_id']]"
      ]
    },
    {
      "cell_type": "markdown",
      "id": "fb05096f",
      "metadata": {
        "id": "fb05096f"
      },
      "source": [
        "We're going to use the 'crs_matrix' function, which stores the data sparsely."
      ]
    },
    {
      "cell_type": "code",
      "execution_count": null,
      "id": "c08df093",
      "metadata": {
        "id": "c08df093",
        "outputId": "45d03027-f225-4953-d8cd-d5858e799d39"
      },
      "outputs": [
        {
          "data": {
            "text/plain": [
              "<6328x41238 sparse matrix of type '<class 'numpy.int64'>'\n",
              "\twith 297151 stored elements in Compressed Sparse Row format>"
            ]
          },
          "execution_count": 1396,
          "metadata": {},
          "output_type": "execute_result"
        }
      ],
      "source": [
        "from scipy.sparse import csr_matrix\n",
        "X = csr_matrix((customer_transactions[\"transactions\"], (article_index, customer_index)), shape=(M, N))\n",
        "X"
      ]
    },
    {
      "cell_type": "markdown",
      "id": "a191d602",
      "metadata": {
        "id": "a191d602"
      },
      "source": [
        "User-item matrices are typically very sparse. A general rule of thumb is that the matrix sparsity should be no lower than 0.5% to generate decent results. As we can see we have a matrix sparsity of 0.11% so we can't proceed with our system but instead we have to try to increase the sparsity."
      ]
    },
    {
      "cell_type": "code",
      "execution_count": null,
      "id": "b1925278",
      "metadata": {
        "id": "b1925278",
        "outputId": "dcb9c779-9ef2-49c4-c570-70ca97361b75"
      },
      "outputs": [
        {
          "name": "stdout",
          "output_type": "stream",
          "text": [
            "Matrix sparsity: 0.11%\n"
          ]
        }
      ],
      "source": [
        "sparsity = X.count_nonzero()/(X.shape[0]*X.shape[1])\n",
        "print(f\"Matrix sparsity: {round(sparsity*100,2)}%\")"
      ]
    },
    {
      "cell_type": "markdown",
      "id": "99796616",
      "metadata": {
        "id": "99796616"
      },
      "source": [
        "How can we do that? One way can be to reduce the number of customers taken in consideration. This beacuse in a user-based recommender system transactions made by customers are very important. They give for example information on how many articles the customer has bought and from there we can try to understand how many articles he/she is going to buy in the future. It could be helpful to delete the customers with a low number of transactions since they're not fundamental for our system."
      ]
    },
    {
      "cell_type": "markdown",
      "id": "5be6b481",
      "metadata": {
        "id": "5be6b481"
      },
      "source": [
        "To make a general idea on the number of transactions made by customer, at the beginning we found out that the average number of transactions per customer is 9, so we now try to look at the percentage of customers that made more than 24 transactions. Actually the percentage is very low, almost 2%, but we need that in order to  increase sparsity."
      ]
    },
    {
      "cell_type": "code",
      "execution_count": null,
      "id": "7914cd21",
      "metadata": {
        "id": "7914cd21",
        "outputId": "a48b85e9-22fd-4427-e2b2-a3a3b48c6d8e"
      },
      "outputs": [
        {
          "name": "stdout",
          "output_type": "stream",
          "text": [
            "Number of customers that made less or equal than 24 transactions: 40490\n",
            "\n",
            "Number of customers that made more than 24 transactions: 748\n",
            "\n",
            "Percentage of customers that made less or equal than 24 transactions: 98.19% \n",
            "\n",
            "Percentage of customers that made more than 24 transactions : 1.81% \n",
            "\n"
          ]
        }
      ],
      "source": [
        "customer_count_dict = {}\n",
        "len_ = 0\n",
        "num = 0\n",
        "sum_ = 0\n",
        "n = 24\n",
        "for i,row in customer.iterrows():\n",
        "    customer_count_dict[row[\"customer_id\"]]= row[\"transactions\"]\n",
        "for b in customer_count_dict.values():\n",
        "    len_ += 1\n",
        "    if b>n:\n",
        "        num += 1\n",
        "    else:\n",
        "        sum_ +=1\n",
        "\n",
        "print(f\"Number of customers that made less or equal than {n} transactions: {sum_}\\n\")\n",
        "print(f\"Number of customers that made more than {n} transactions: {num}\\n\")\n",
        "print(f\"Percentage of customers that made less or equal than {n} transactions: {round((sum_/len_ * 100),2)}% \\n\")\n",
        "print(f\"Percentage of customers that made more than {n} transactions : {round((num/len_ *100),2)}% \\n\")"
      ]
    },
    {
      "cell_type": "markdown",
      "id": "2393acc3",
      "metadata": {
        "id": "2393acc3"
      },
      "source": [
        "Afterwards we select from the datset 'customer' all the customers that made more than 24 transactions and create a sort of copy of 'customer_transactions' that we call 'customer2' in which we have only customers with more than 24 transactions."
      ]
    },
    {
      "cell_type": "code",
      "execution_count": null,
      "id": "1677044e",
      "metadata": {
        "id": "1677044e",
        "outputId": "8366cd0c-e113-4906-87e6-03ab389287c7"
      },
      "outputs": [
        {
          "data": {
            "text/html": [
              "<div>\n",
              "<style scoped>\n",
              "    .dataframe tbody tr th:only-of-type {\n",
              "        vertical-align: middle;\n",
              "    }\n",
              "\n",
              "    .dataframe tbody tr th {\n",
              "        vertical-align: top;\n",
              "    }\n",
              "\n",
              "    .dataframe thead th {\n",
              "        text-align: right;\n",
              "    }\n",
              "</style>\n",
              "<table border=\"1\" class=\"dataframe\">\n",
              "  <thead>\n",
              "    <tr style=\"text-align: right;\">\n",
              "      <th></th>\n",
              "      <th>customer_id</th>\n",
              "      <th>article_id</th>\n",
              "      <th>transactions</th>\n",
              "    </tr>\n",
              "  </thead>\n",
              "  <tbody>\n",
              "    <tr>\n",
              "      <th>666</th>\n",
              "      <td>97</td>\n",
              "      <td>989</td>\n",
              "      <td>1</td>\n",
              "    </tr>\n",
              "    <tr>\n",
              "      <th>667</th>\n",
              "      <td>97</td>\n",
              "      <td>1781</td>\n",
              "      <td>3</td>\n",
              "    </tr>\n",
              "    <tr>\n",
              "      <th>668</th>\n",
              "      <td>97</td>\n",
              "      <td>1906</td>\n",
              "      <td>2</td>\n",
              "    </tr>\n",
              "    <tr>\n",
              "      <th>669</th>\n",
              "      <td>97</td>\n",
              "      <td>2150</td>\n",
              "      <td>1</td>\n",
              "    </tr>\n",
              "    <tr>\n",
              "      <th>670</th>\n",
              "      <td>97</td>\n",
              "      <td>2152</td>\n",
              "      <td>2</td>\n",
              "    </tr>\n",
              "    <tr>\n",
              "      <th>...</th>\n",
              "      <td>...</td>\n",
              "      <td>...</td>\n",
              "      <td>...</td>\n",
              "    </tr>\n",
              "    <tr>\n",
              "      <th>296832</th>\n",
              "      <td>41209</td>\n",
              "      <td>4324</td>\n",
              "      <td>1</td>\n",
              "    </tr>\n",
              "    <tr>\n",
              "      <th>296833</th>\n",
              "      <td>41209</td>\n",
              "      <td>4525</td>\n",
              "      <td>2</td>\n",
              "    </tr>\n",
              "    <tr>\n",
              "      <th>296834</th>\n",
              "      <td>41209</td>\n",
              "      <td>4655</td>\n",
              "      <td>1</td>\n",
              "    </tr>\n",
              "    <tr>\n",
              "      <th>296835</th>\n",
              "      <td>41209</td>\n",
              "      <td>5773</td>\n",
              "      <td>1</td>\n",
              "    </tr>\n",
              "    <tr>\n",
              "      <th>296836</th>\n",
              "      <td>41209</td>\n",
              "      <td>5778</td>\n",
              "      <td>1</td>\n",
              "    </tr>\n",
              "  </tbody>\n",
              "</table>\n",
              "<p>16527 rows × 3 columns</p>\n",
              "</div>"
            ],
            "text/plain": [
              "        customer_id  article_id  transactions\n",
              "666              97         989             1\n",
              "667              97        1781             3\n",
              "668              97        1906             2\n",
              "669              97        2150             1\n",
              "670              97        2152             2\n",
              "...             ...         ...           ...\n",
              "296832        41209        4324             1\n",
              "296833        41209        4525             2\n",
              "296834        41209        4655             1\n",
              "296835        41209        5773             1\n",
              "296836        41209        5778             1\n",
              "\n",
              "[16527 rows x 3 columns]"
            ]
          },
          "execution_count": 1399,
          "metadata": {},
          "output_type": "execute_result"
        }
      ],
      "source": [
        "customer_new = customer[customer[\"transactions\"] > 24]\n",
        "customer_new_list = list(Counter(customer_new[\"customer_id\"]))\n",
        "customer2 = customer_transactions.query(\"customer_id in @customer_new_list\")\n",
        "customer2"
      ]
    },
    {
      "cell_type": "markdown",
      "id": "64e80046",
      "metadata": {
        "id": "64e80046"
      },
      "source": [
        "First we repeat the steps done before using the new dataset."
      ]
    },
    {
      "cell_type": "code",
      "execution_count": null,
      "id": "a0611cdf",
      "metadata": {
        "id": "a0611cdf"
      },
      "outputs": [],
      "source": [
        "N2 = customer2['customer_id'].nunique()\n",
        "M2 = customer2['article_id'].nunique()\n",
        "\n",
        "article_mapper2 = dict(zip(np.unique(customer2['article_id']), list(range(M2))))\n",
        "article_inv_mapper2 = dict(zip(list(range(M2)), np.unique(customer2['article_id'])))\n",
        "\n",
        "article_index2 = [article_mapper2[i] for i in customer2['article_id']]"
      ]
    },
    {
      "cell_type": "code",
      "execution_count": null,
      "id": "e416d81f",
      "metadata": {
        "id": "e416d81f"
      },
      "outputs": [],
      "source": [
        "# maps customer id to customer index\n",
        "customer_mapper2 = dict(zip(np.unique(customer2['customer_id']), list(range(N2))))\n",
        "# maps customer index to customer id\n",
        "customer_inv_mapper2 = dict(zip(list(range(N2)), np.unique(customer2['customer_id'])))\n",
        "\n",
        "customer_index2 = [customer_mapper2[i] for i in customer2['customer_id']]"
      ]
    },
    {
      "cell_type": "code",
      "execution_count": null,
      "id": "c2e0d65f",
      "metadata": {
        "id": "c2e0d65f",
        "outputId": "14581f51-f43d-4c8e-be82-ae88d0a17f14"
      },
      "outputs": [
        {
          "data": {
            "text/plain": [
              "<4377x748 sparse matrix of type '<class 'numpy.int64'>'\n",
              "\twith 16527 stored elements in Compressed Sparse Row format>"
            ]
          },
          "execution_count": 1402,
          "metadata": {},
          "output_type": "execute_result"
        }
      ],
      "source": [
        "from scipy.sparse import csr_matrix\n",
        "X2 = csr_matrix((customer2[\"transactions\"], (article_index2, customer_index2)), shape=(M2, N2))\n",
        "X2"
      ]
    },
    {
      "cell_type": "markdown",
      "id": "6ceabfed",
      "metadata": {
        "id": "6ceabfed"
      },
      "source": [
        "The sparsity of our matrix has now increased arriving to 0,5% which is the lowest value that allows us to continue building our model. This is the maximum result we could achieve in order to increase sparsity and not losing too much information about the initial dataset."
      ]
    },
    {
      "cell_type": "code",
      "execution_count": null,
      "id": "81a478b5",
      "metadata": {
        "id": "81a478b5",
        "outputId": "01cab517-6c90-4e95-e475-5fb68760b045"
      },
      "outputs": [
        {
          "name": "stdout",
          "output_type": "stream",
          "text": [
            "Matrix sparsity: 0.5%\n"
          ]
        }
      ],
      "source": [
        "sparsity2 = X2.count_nonzero()/(X2.shape[0]*X2.shape[1])\n",
        "print(f\"Matrix sparsity: {round(sparsity2*100,2)}%\")"
      ]
    },
    {
      "cell_type": "markdown",
      "id": "7333a5ed",
      "metadata": {
        "id": "7333a5ed"
      },
      "source": [
        "Finally we can build our recomender system using a kNN algorithm.\n",
        "We are working in a M-dimensional space where M represents the number of articles in our X2 matrix. "
      ]
    },
    {
      "cell_type": "code",
      "execution_count": null,
      "id": "7454a8e9",
      "metadata": {
        "id": "7454a8e9"
      },
      "outputs": [],
      "source": [
        "from sklearn.neighbors import NearestNeighbors\n",
        "\n",
        "def find_similar_articles(article_id, X, k, metric='cosine'):\n",
        "    neighbour_ids = []\n",
        "    article_ind = article_mapper[article_id]\n",
        "    article_vec = X[article_ind]\n",
        "    kNN = NearestNeighbors(n_neighbors=k+1, algorithm=\"brute\", metric=metric)\n",
        "    kNN.fit(X)\n",
        "    neighbour = kNN.kneighbors(article_vec, return_distance=False)[0]\n",
        "    neighbour_ids = [article_inv_mapper[n] for n in neighbour[1:]]\n",
        "    \n",
        "    prod_names = dict(zip(articles['article_id'], articles['prod_name']))\n",
        "    prod_name = prod_names[article_id]\n",
        "    \n",
        "    if k<1:\n",
        "        print(\"Please select at least one article to be recommended\")\n",
        "    if k==1:\n",
        "        ind = neighbour_ids[0]\n",
        "        main = prod_names[ind]\n",
        "        art_recom_id = article_id_dict[main]\n",
        "        print(f\"Here there is some information regarding {prod_name}:\\n\")\n",
        "        print(f\"Colour: {perceived_colour_dict[article_id]}, Type: {prod_type_name_dict[article_id]}, Garment: {garment_dict[article_id]}, ID: {article_id} \\n\")\n",
        "        print(f\"Here you find the main recommendation for it: {main} \\n\")\n",
        "        print(f\"Here there is some information regarding {main} \\n\")\n",
        "        print(f\"Colour: {perceived_colour_dict[art_recom_id]}, Type: {prod_type_name_dict[art_recom_id]}, Garment: {garment_dict[art_recom_id]}, ID: {art_recom_id} \\n\")\n",
        "    if k>1:\n",
        "        top_rec = list(articles[\"prod_name\"].iloc[[i for i in neighbour_ids]])\n",
        "        print(f\"Here there is some information regarding {prod_name}:\\n\")\n",
        "        print(f\"Colour: {perceived_colour_dict[article_id]}, Type: {prod_type_name_dict[article_id]}, Garment: {garment_dict[article_id]}, ID: {article_id} \\n\")\n",
        "        print(f\"\\n Here you find the top {k} articles recommended for: {prod_name}\\n\")\n",
        "        print(articles[\"prod_name\"].iloc[[i for i in neighbour_ids]])\n",
        "        for i in top_rec:\n",
        "            art_recom_id = article_id_dict[i]\n",
        "            print(f\"Here there is some information regarding {i} \\n\")\n",
        "            print(f\"Colour: {perceived_colour_dict[art_recom_id]}, Type: {prod_type_name_dict[art_recom_id]}, Garment: {garment_dict[art_recom_id]}, ID: {art_recom_id} \\n\")\n",
        "\n",
        "    return neighbour_ids"
      ]
    },
    {
      "cell_type": "markdown",
      "id": "0a89e670",
      "metadata": {
        "id": "0a89e670"
      },
      "source": [
        "Our function takes as input the article_id, the new user-item utility matrix that we have built, the value k which is the number of articles to recommend and finally the metric which is the distance metric for kNN calculations."
      ]
    },
    {
      "cell_type": "code",
      "execution_count": null,
      "id": "5f59614c",
      "metadata": {
        "id": "5f59614c",
        "outputId": "38f0d13d-5bc3-4ed6-ea77-0460115982b7"
      },
      "outputs": [
        {
          "name": "stdout",
          "output_type": "stream",
          "text": [
            "Here there is some information regarding Austin basic leather hip belt:\n",
            "\n",
            "Colour: Brown, Type: Belt, Garment: Accessories, ID: 25 \n",
            "\n",
            "\n",
            " Here you find the top 10 articles recommended for: Austin basic leather hip belt\n",
            "\n",
            "2021           Sascha pullover hoodie\n",
            "4082    Spice Girl Rib Brazilian 3 pk\n",
            "735                       Charlie Top\n",
            "3200                SUPREME RW tights\n",
            "2478                          Gigi HW\n",
            "136                       Jacket Slim\n",
            "3079                          Nortull\n",
            "1195           Vintage Slim Ankle H.W\n",
            "2290                  Superskinny (D)\n",
            "2908                 CL EMB SMOCK TOP\n",
            "Name: prod_name, dtype: object\n",
            "Here there is some information regarding Sascha pullover hoodie \n",
            "\n",
            "Colour: Mole, Type: Hoodie, Garment: Jersey Basic, ID: 2021 \n",
            "\n",
            "Here there is some information regarding Spice Girl Rib Brazilian 3 pk \n",
            "\n",
            "Colour: White, Type: Underwear bottom, Garment: Under-, Nightwear, ID: 4082 \n",
            "\n",
            "Here there is some information regarding Charlie Top \n",
            "\n",
            "Colour: Pink, Type: Top, Garment: Jersey Fancy, ID: 738 \n",
            "\n",
            "Here there is some information regarding SUPREME RW tights \n",
            "\n",
            "Colour: Black, Type: Leggings/Tights, Garment: Jersey Fancy, ID: 3200 \n",
            "\n",
            "Here there is some information regarding Gigi HW \n",
            "\n",
            "Colour: Khaki green, Type: Shorts, Garment: Shorts, ID: 2478 \n",
            "\n",
            "Here there is some information regarding Jacket Slim \n",
            "\n",
            "Colour: Black, Type: Jacket, Garment: Outdoor, ID: 136 \n",
            "\n",
            "Here there is some information regarding Nortull \n",
            "\n",
            "Colour: Brown, Type: Dress, Garment: Under-, Nightwear, ID: 3079 \n",
            "\n",
            "Here there is some information regarding Vintage Slim Ankle H.W \n",
            "\n",
            "Colour: Black, Type: Trousers, Garment: Trousers, ID: 1195 \n",
            "\n",
            "Here there is some information regarding Superskinny (D) \n",
            "\n",
            "Colour: Blue, Type: Trousers, Garment: Trousers, ID: 2294 \n",
            "\n",
            "Here there is some information regarding CL EMB SMOCK TOP \n",
            "\n",
            "Colour: White, Type: Dress, Garment: Jersey Fancy, ID: 2908 \n",
            "\n"
          ]
        }
      ],
      "source": [
        "article_id = 25\n",
        "similar_ids = find_similar_articles(article_id, X2, k=10, metric='cosine')"
      ]
    },
    {
      "cell_type": "markdown",
      "id": "e4f80bab",
      "metadata": {
        "id": "e4f80bab"
      },
      "source": [
        "We probably can't rely so much on this model as we have reduced the number of customers losing in this way a big part of data ."
      ]
    },
    {
      "cell_type": "code",
      "execution_count": null,
      "id": "35ace9df",
      "metadata": {
        "id": "35ace9df"
      },
      "outputs": [],
      "source": []
    },
    {
      "cell_type": "code",
      "execution_count": null,
      "id": "d3853ca7",
      "metadata": {
        "id": "d3853ca7"
      },
      "outputs": [],
      "source": []
    },
    {
      "cell_type": "markdown",
      "source": [
        "# Neural network based filtering system"
      ],
      "metadata": {
        "id": "DeJPmIr24bF9"
      },
      "id": "DeJPmIr24bF9"
    },
    {
      "cell_type": "code",
      "execution_count": 1,
      "id": "05af2faa",
      "metadata": {
        "colab": {
          "base_uri": "https://localhost:8080/"
        },
        "id": "05af2faa",
        "outputId": "aaa54673-6af9-4043-9caf-948b45f9d2f6"
      },
      "outputs": [
        {
          "output_type": "stream",
          "name": "stdout",
          "text": [
            "\u001b[?25l     \u001b[90m━━━━━━━━━━━━━━━━━━━━━━━━━━━━━━━━━━━━━━━━\u001b[0m \u001b[32m0.0/89.3 KB\u001b[0m \u001b[31m?\u001b[0m eta \u001b[36m-:--:--\u001b[0m\r\u001b[2K     \u001b[90m━━━━━━━━━━━━━━━━━━━━━━━━━━━━━━━━━━━━━━━━\u001b[0m \u001b[32m89.3/89.3 KB\u001b[0m \u001b[31m3.3 MB/s\u001b[0m eta \u001b[36m0:00:00\u001b[0m\n",
            "\u001b[?25h"
          ]
        }
      ],
      "source": [
        "!pip install -q tensorflow-recommenders"
      ]
    },
    {
      "cell_type": "code",
      "execution_count": 2,
      "id": "7b2afbe3",
      "metadata": {
        "id": "7b2afbe3"
      },
      "outputs": [],
      "source": [
        "#importing necessary libraries\n",
        "import os\n",
        "from typing import Dict, Text\n",
        "import tensorflow as tf\n",
        "import tensorflow_recommenders as tfrs"
      ]
    },
    {
      "cell_type": "code",
      "execution_count": null,
      "id": "75015421",
      "metadata": {
        "id": "75015421"
      },
      "outputs": [],
      "source": []
    },
    {
      "cell_type": "markdown",
      "id": "68a5d157",
      "metadata": {
        "id": "68a5d157"
      },
      "source": [
        "# Preparing the datasets"
      ]
    },
    {
      "cell_type": "markdown",
      "id": "b65c847b",
      "metadata": {
        "id": "b65c847b"
      },
      "source": [
        "We are going to constuct a retrieval model composed of two components:\n",
        "\n",
        "1. A query model which produces the query representation (commonly a fixed-dimensionality embedding vector) by means of query features.\n",
        "\n",
        "2. A candidate model which yields the candidate representation (an equally-sized vector) by utilizing the candidate features.\n",
        "\n",
        "The outputs from the two models are then multiplied to compute a query-candidate affinity score, with higher values indicating a more fitting match between the query and the candidate.\n",
        "\n",
        "To build and train this two-tower system, we will predict a collection of items from the list of articles that the customer has purchased previously. This implies that each product a user buys is a positive example, and each item they have not bought is an implicit negative example."
      ]
    },
    {
      "cell_type": "markdown",
      "id": "ed897ac4",
      "metadata": {
        "id": "ed897ac4"
      },
      "source": [
        "To fit and evaluate the model, we need to split it into a training and evaluation set. \n",
        "The recommended way is to split the data in chronological order, using older transactions to predict new ones."
      ]
    },
    {
      "cell_type": "code",
      "execution_count": null,
      "id": "29e528b3",
      "metadata": {
        "id": "29e528b3"
      },
      "outputs": [],
      "source": [
        "# Sort the data by the date column\n",
        "transactions = transactions.sort_values('t_dat')\n",
        "\n",
        "# Calculate the number of rows in the train set\n",
        "train_size = int(len(transactions) * 0.8)\n",
        "\n",
        "# Split the data into train and test sets\n",
        "train_set = transactions.iloc[:train_size]\n",
        "test_set = transactions.iloc[train_size:]"
      ]
    },
    {
      "cell_type": "markdown",
      "source": [
        "Transform the sets in the format needed:"
      ],
      "metadata": {
        "id": "gi-XUMA84ppG"
      },
      "id": "gi-XUMA84ppG"
    },
    {
      "cell_type": "code",
      "execution_count": null,
      "id": "adc477be",
      "metadata": {
        "colab": {
          "base_uri": "https://localhost:8080/",
          "height": 424
        },
        "id": "adc477be",
        "outputId": "f806b2c1-b787-41e0-8dff-eb6457759ad7"
      },
      "outputs": [
        {
          "data": {
            "text/html": [
              "\n",
              "  <div id=\"df-17bc9433-9e0d-4aa5-873d-838f6bea5d98\">\n",
              "    <div class=\"colab-df-container\">\n",
              "      <div>\n",
              "<style scoped>\n",
              "    .dataframe tbody tr th:only-of-type {\n",
              "        vertical-align: middle;\n",
              "    }\n",
              "\n",
              "    .dataframe tbody tr th {\n",
              "        vertical-align: top;\n",
              "    }\n",
              "\n",
              "    .dataframe thead th {\n",
              "        text-align: right;\n",
              "    }\n",
              "</style>\n",
              "<table border=\"1\" class=\"dataframe\">\n",
              "  <thead>\n",
              "    <tr style=\"text-align: right;\">\n",
              "      <th></th>\n",
              "      <th>customer_id</th>\n",
              "      <th>article_id</th>\n",
              "      <th>transactions</th>\n",
              "    </tr>\n",
              "  </thead>\n",
              "  <tbody>\n",
              "    <tr>\n",
              "      <th>0</th>\n",
              "      <td>0</td>\n",
              "      <td>463</td>\n",
              "      <td>1</td>\n",
              "    </tr>\n",
              "    <tr>\n",
              "      <th>1</th>\n",
              "      <td>0</td>\n",
              "      <td>5571</td>\n",
              "      <td>1</td>\n",
              "    </tr>\n",
              "    <tr>\n",
              "      <th>2</th>\n",
              "      <td>0</td>\n",
              "      <td>6120</td>\n",
              "      <td>1</td>\n",
              "    </tr>\n",
              "    <tr>\n",
              "      <th>3</th>\n",
              "      <td>0</td>\n",
              "      <td>6440</td>\n",
              "      <td>1</td>\n",
              "    </tr>\n",
              "    <tr>\n",
              "      <th>4</th>\n",
              "      <td>1</td>\n",
              "      <td>617</td>\n",
              "      <td>1</td>\n",
              "    </tr>\n",
              "    <tr>\n",
              "      <th>...</th>\n",
              "      <td>...</td>\n",
              "      <td>...</td>\n",
              "      <td>...</td>\n",
              "    </tr>\n",
              "    <tr>\n",
              "      <th>246817</th>\n",
              "      <td>41252</td>\n",
              "      <td>350</td>\n",
              "      <td>1</td>\n",
              "    </tr>\n",
              "    <tr>\n",
              "      <th>246818</th>\n",
              "      <td>41252</td>\n",
              "      <td>1184</td>\n",
              "      <td>1</td>\n",
              "    </tr>\n",
              "    <tr>\n",
              "      <th>246819</th>\n",
              "      <td>41252</td>\n",
              "      <td>1340</td>\n",
              "      <td>1</td>\n",
              "    </tr>\n",
              "    <tr>\n",
              "      <th>246820</th>\n",
              "      <td>41252</td>\n",
              "      <td>1974</td>\n",
              "      <td>1</td>\n",
              "    </tr>\n",
              "    <tr>\n",
              "      <th>246821</th>\n",
              "      <td>41252</td>\n",
              "      <td>2166</td>\n",
              "      <td>1</td>\n",
              "    </tr>\n",
              "  </tbody>\n",
              "</table>\n",
              "<p>246822 rows × 3 columns</p>\n",
              "</div>\n",
              "      <button class=\"colab-df-convert\" onclick=\"convertToInteractive('df-17bc9433-9e0d-4aa5-873d-838f6bea5d98')\"\n",
              "              title=\"Convert this dataframe to an interactive table.\"\n",
              "              style=\"display:none;\">\n",
              "        \n",
              "  <svg xmlns=\"http://www.w3.org/2000/svg\" height=\"24px\"viewBox=\"0 0 24 24\"\n",
              "       width=\"24px\">\n",
              "    <path d=\"M0 0h24v24H0V0z\" fill=\"none\"/>\n",
              "    <path d=\"M18.56 5.44l.94 2.06.94-2.06 2.06-.94-2.06-.94-.94-2.06-.94 2.06-2.06.94zm-11 1L8.5 8.5l.94-2.06 2.06-.94-2.06-.94L8.5 2.5l-.94 2.06-2.06.94zm10 10l.94 2.06.94-2.06 2.06-.94-2.06-.94-.94-2.06-.94 2.06-2.06.94z\"/><path d=\"M17.41 7.96l-1.37-1.37c-.4-.4-.92-.59-1.43-.59-.52 0-1.04.2-1.43.59L10.3 9.45l-7.72 7.72c-.78.78-.78 2.05 0 2.83L4 21.41c.39.39.9.59 1.41.59.51 0 1.02-.2 1.41-.59l7.78-7.78 2.81-2.81c.8-.78.8-2.07 0-2.86zM5.41 20L4 18.59l7.72-7.72 1.47 1.35L5.41 20z\"/>\n",
              "  </svg>\n",
              "      </button>\n",
              "      \n",
              "  <style>\n",
              "    .colab-df-container {\n",
              "      display:flex;\n",
              "      flex-wrap:wrap;\n",
              "      gap: 12px;\n",
              "    }\n",
              "\n",
              "    .colab-df-convert {\n",
              "      background-color: #E8F0FE;\n",
              "      border: none;\n",
              "      border-radius: 50%;\n",
              "      cursor: pointer;\n",
              "      display: none;\n",
              "      fill: #1967D2;\n",
              "      height: 32px;\n",
              "      padding: 0 0 0 0;\n",
              "      width: 32px;\n",
              "    }\n",
              "\n",
              "    .colab-df-convert:hover {\n",
              "      background-color: #E2EBFA;\n",
              "      box-shadow: 0px 1px 2px rgba(60, 64, 67, 0.3), 0px 1px 3px 1px rgba(60, 64, 67, 0.15);\n",
              "      fill: #174EA6;\n",
              "    }\n",
              "\n",
              "    [theme=dark] .colab-df-convert {\n",
              "      background-color: #3B4455;\n",
              "      fill: #D2E3FC;\n",
              "    }\n",
              "\n",
              "    [theme=dark] .colab-df-convert:hover {\n",
              "      background-color: #434B5C;\n",
              "      box-shadow: 0px 1px 3px 1px rgba(0, 0, 0, 0.15);\n",
              "      filter: drop-shadow(0px 1px 2px rgba(0, 0, 0, 0.3));\n",
              "      fill: #FFFFFF;\n",
              "    }\n",
              "  </style>\n",
              "\n",
              "      <script>\n",
              "        const buttonEl =\n",
              "          document.querySelector('#df-17bc9433-9e0d-4aa5-873d-838f6bea5d98 button.colab-df-convert');\n",
              "        buttonEl.style.display =\n",
              "          google.colab.kernel.accessAllowed ? 'block' : 'none';\n",
              "\n",
              "        async function convertToInteractive(key) {\n",
              "          const element = document.querySelector('#df-17bc9433-9e0d-4aa5-873d-838f6bea5d98');\n",
              "          const dataTable =\n",
              "            await google.colab.kernel.invokeFunction('convertToInteractive',\n",
              "                                                     [key], {});\n",
              "          if (!dataTable) return;\n",
              "\n",
              "          const docLinkHtml = 'Like what you see? Visit the ' +\n",
              "            '<a target=\"_blank\" href=https://colab.research.google.com/notebooks/data_table.ipynb>data table notebook</a>'\n",
              "            + ' to learn more about interactive tables.';\n",
              "          element.innerHTML = '';\n",
              "          dataTable['output_type'] = 'display_data';\n",
              "          await google.colab.output.renderOutput(dataTable, element);\n",
              "          const docLink = document.createElement('div');\n",
              "          docLink.innerHTML = docLinkHtml;\n",
              "          element.appendChild(docLink);\n",
              "        }\n",
              "      </script>\n",
              "    </div>\n",
              "  </div>\n",
              "  "
            ],
            "text/plain": [
              "        customer_id  article_id  transactions\n",
              "0                 0         463             1\n",
              "1                 0        5571             1\n",
              "2                 0        6120             1\n",
              "3                 0        6440             1\n",
              "4                 1         617             1\n",
              "...             ...         ...           ...\n",
              "246817        41252         350             1\n",
              "246818        41252        1184             1\n",
              "246819        41252        1340             1\n",
              "246820        41252        1974             1\n",
              "246821        41252        2166             1\n",
              "\n",
              "[246822 rows x 3 columns]"
            ]
          },
          "execution_count": 260,
          "metadata": {},
          "output_type": "execute_result"
        }
      ],
      "source": [
        "# txn is an abbreviation for transaction\n",
        "df_customer_txn_train = train_set.groupby(['customer_id', 'article_id']).count().reset_index()\n",
        "df_customer_txn_train.columns = ['customer_id', 'article_id', 'transactions']\n",
        "df_customer_txn_train"
      ]
    },
    {
      "cell_type": "code",
      "execution_count": null,
      "id": "bde62893",
      "metadata": {
        "colab": {
          "base_uri": "https://localhost:8080/",
          "height": 424
        },
        "id": "bde62893",
        "outputId": "da7019df-78a7-4089-d6a4-d88ee6ffbe1a"
      },
      "outputs": [
        {
          "data": {
            "text/html": [
              "\n",
              "  <div id=\"df-dbdd1920-dac3-468b-af20-b088ffbe2993\">\n",
              "    <div class=\"colab-df-container\">\n",
              "      <div>\n",
              "<style scoped>\n",
              "    .dataframe tbody tr th:only-of-type {\n",
              "        vertical-align: middle;\n",
              "    }\n",
              "\n",
              "    .dataframe tbody tr th {\n",
              "        vertical-align: top;\n",
              "    }\n",
              "\n",
              "    .dataframe thead th {\n",
              "        text-align: right;\n",
              "    }\n",
              "</style>\n",
              "<table border=\"1\" class=\"dataframe\">\n",
              "  <thead>\n",
              "    <tr style=\"text-align: right;\">\n",
              "      <th></th>\n",
              "      <th>customer_id</th>\n",
              "      <th>article_id</th>\n",
              "      <th>transactions</th>\n",
              "    </tr>\n",
              "  </thead>\n",
              "  <tbody>\n",
              "    <tr>\n",
              "      <th>0</th>\n",
              "      <td>1</td>\n",
              "      <td>2671</td>\n",
              "      <td>1</td>\n",
              "    </tr>\n",
              "    <tr>\n",
              "      <th>1</th>\n",
              "      <td>2</td>\n",
              "      <td>682</td>\n",
              "      <td>1</td>\n",
              "    </tr>\n",
              "    <tr>\n",
              "      <th>2</th>\n",
              "      <td>2</td>\n",
              "      <td>1955</td>\n",
              "      <td>1</td>\n",
              "    </tr>\n",
              "    <tr>\n",
              "      <th>3</th>\n",
              "      <td>4</td>\n",
              "      <td>18</td>\n",
              "      <td>1</td>\n",
              "    </tr>\n",
              "    <tr>\n",
              "      <th>4</th>\n",
              "      <td>4</td>\n",
              "      <td>168</td>\n",
              "      <td>1</td>\n",
              "    </tr>\n",
              "    <tr>\n",
              "      <th>...</th>\n",
              "      <td>...</td>\n",
              "      <td>...</td>\n",
              "      <td>...</td>\n",
              "    </tr>\n",
              "    <tr>\n",
              "      <th>62240</th>\n",
              "      <td>41243</td>\n",
              "      <td>5941</td>\n",
              "      <td>1</td>\n",
              "    </tr>\n",
              "    <tr>\n",
              "      <th>62241</th>\n",
              "      <td>41243</td>\n",
              "      <td>5970</td>\n",
              "      <td>2</td>\n",
              "    </tr>\n",
              "    <tr>\n",
              "      <th>62242</th>\n",
              "      <td>41243</td>\n",
              "      <td>6309</td>\n",
              "      <td>1</td>\n",
              "    </tr>\n",
              "    <tr>\n",
              "      <th>62243</th>\n",
              "      <td>41244</td>\n",
              "      <td>2840</td>\n",
              "      <td>1</td>\n",
              "    </tr>\n",
              "    <tr>\n",
              "      <th>62244</th>\n",
              "      <td>41251</td>\n",
              "      <td>4978</td>\n",
              "      <td>1</td>\n",
              "    </tr>\n",
              "  </tbody>\n",
              "</table>\n",
              "<p>62245 rows × 3 columns</p>\n",
              "</div>\n",
              "      <button class=\"colab-df-convert\" onclick=\"convertToInteractive('df-dbdd1920-dac3-468b-af20-b088ffbe2993')\"\n",
              "              title=\"Convert this dataframe to an interactive table.\"\n",
              "              style=\"display:none;\">\n",
              "        \n",
              "  <svg xmlns=\"http://www.w3.org/2000/svg\" height=\"24px\"viewBox=\"0 0 24 24\"\n",
              "       width=\"24px\">\n",
              "    <path d=\"M0 0h24v24H0V0z\" fill=\"none\"/>\n",
              "    <path d=\"M18.56 5.44l.94 2.06.94-2.06 2.06-.94-2.06-.94-.94-2.06-.94 2.06-2.06.94zm-11 1L8.5 8.5l.94-2.06 2.06-.94-2.06-.94L8.5 2.5l-.94 2.06-2.06.94zm10 10l.94 2.06.94-2.06 2.06-.94-2.06-.94-.94-2.06-.94 2.06-2.06.94z\"/><path d=\"M17.41 7.96l-1.37-1.37c-.4-.4-.92-.59-1.43-.59-.52 0-1.04.2-1.43.59L10.3 9.45l-7.72 7.72c-.78.78-.78 2.05 0 2.83L4 21.41c.39.39.9.59 1.41.59.51 0 1.02-.2 1.41-.59l7.78-7.78 2.81-2.81c.8-.78.8-2.07 0-2.86zM5.41 20L4 18.59l7.72-7.72 1.47 1.35L5.41 20z\"/>\n",
              "  </svg>\n",
              "      </button>\n",
              "      \n",
              "  <style>\n",
              "    .colab-df-container {\n",
              "      display:flex;\n",
              "      flex-wrap:wrap;\n",
              "      gap: 12px;\n",
              "    }\n",
              "\n",
              "    .colab-df-convert {\n",
              "      background-color: #E8F0FE;\n",
              "      border: none;\n",
              "      border-radius: 50%;\n",
              "      cursor: pointer;\n",
              "      display: none;\n",
              "      fill: #1967D2;\n",
              "      height: 32px;\n",
              "      padding: 0 0 0 0;\n",
              "      width: 32px;\n",
              "    }\n",
              "\n",
              "    .colab-df-convert:hover {\n",
              "      background-color: #E2EBFA;\n",
              "      box-shadow: 0px 1px 2px rgba(60, 64, 67, 0.3), 0px 1px 3px 1px rgba(60, 64, 67, 0.15);\n",
              "      fill: #174EA6;\n",
              "    }\n",
              "\n",
              "    [theme=dark] .colab-df-convert {\n",
              "      background-color: #3B4455;\n",
              "      fill: #D2E3FC;\n",
              "    }\n",
              "\n",
              "    [theme=dark] .colab-df-convert:hover {\n",
              "      background-color: #434B5C;\n",
              "      box-shadow: 0px 1px 3px 1px rgba(0, 0, 0, 0.15);\n",
              "      filter: drop-shadow(0px 1px 2px rgba(0, 0, 0, 0.3));\n",
              "      fill: #FFFFFF;\n",
              "    }\n",
              "  </style>\n",
              "\n",
              "      <script>\n",
              "        const buttonEl =\n",
              "          document.querySelector('#df-dbdd1920-dac3-468b-af20-b088ffbe2993 button.colab-df-convert');\n",
              "        buttonEl.style.display =\n",
              "          google.colab.kernel.accessAllowed ? 'block' : 'none';\n",
              "\n",
              "        async function convertToInteractive(key) {\n",
              "          const element = document.querySelector('#df-dbdd1920-dac3-468b-af20-b088ffbe2993');\n",
              "          const dataTable =\n",
              "            await google.colab.kernel.invokeFunction('convertToInteractive',\n",
              "                                                     [key], {});\n",
              "          if (!dataTable) return;\n",
              "\n",
              "          const docLinkHtml = 'Like what you see? Visit the ' +\n",
              "            '<a target=\"_blank\" href=https://colab.research.google.com/notebooks/data_table.ipynb>data table notebook</a>'\n",
              "            + ' to learn more about interactive tables.';\n",
              "          element.innerHTML = '';\n",
              "          dataTable['output_type'] = 'display_data';\n",
              "          await google.colab.output.renderOutput(dataTable, element);\n",
              "          const docLink = document.createElement('div');\n",
              "          docLink.innerHTML = docLinkHtml;\n",
              "          element.appendChild(docLink);\n",
              "        }\n",
              "      </script>\n",
              "    </div>\n",
              "  </div>\n",
              "  "
            ],
            "text/plain": [
              "       customer_id  article_id  transactions\n",
              "0                1        2671             1\n",
              "1                2         682             1\n",
              "2                2        1955             1\n",
              "3                4          18             1\n",
              "4                4         168             1\n",
              "...            ...         ...           ...\n",
              "62240        41243        5941             1\n",
              "62241        41243        5970             2\n",
              "62242        41243        6309             1\n",
              "62243        41244        2840             1\n",
              "62244        41251        4978             1\n",
              "\n",
              "[62245 rows x 3 columns]"
            ]
          },
          "execution_count": 261,
          "metadata": {},
          "output_type": "execute_result"
        }
      ],
      "source": [
        "df_customer_txn_test = test_set.groupby(['customer_id', 'article_id']).count().reset_index()\n",
        "df_customer_txn_test.columns = ['customer_id', 'article_id', 'transactions']\n",
        "df_customer_txn_test"
      ]
    },
    {
      "cell_type": "markdown",
      "id": "818e9fe5",
      "metadata": {
        "id": "818e9fe5"
      },
      "source": [
        "Convert the Pandas DataFrames into TensorFlow datasets, to make them suitable to the machine learning library:"
      ]
    },
    {
      "cell_type": "code",
      "execution_count": null,
      "id": "318a4846",
      "metadata": {
        "id": "318a4846"
      },
      "outputs": [],
      "source": [
        "df_customer_txn_train = tf.data.Dataset.from_tensor_slices(dict(df_customer_txn_train))\n",
        "df_customer_txn_test = tf.data.Dataset.from_tensor_slices(dict(df_customer_txn_test))"
      ]
    },
    {
      "cell_type": "markdown",
      "id": "3ac234e3",
      "metadata": {
        "id": "3ac234e3"
      },
      "source": [
        "Now select the most appropriate article features for the model:"
      ]
    },
    {
      "cell_type": "code",
      "execution_count": null,
      "id": "e72b3b3c",
      "metadata": {
        "colab": {
          "base_uri": "https://localhost:8080/",
          "height": 424
        },
        "id": "e72b3b3c",
        "outputId": "ac3ae74d-45d9-432c-9bf4-e159b2649956"
      },
      "outputs": [
        {
          "data": {
            "text/html": [
              "\n",
              "  <div id=\"df-a6abeef0-4f35-41d2-87c2-c78ef2bd58c4\">\n",
              "    <div class=\"colab-df-container\">\n",
              "      <div>\n",
              "<style scoped>\n",
              "    .dataframe tbody tr th:only-of-type {\n",
              "        vertical-align: middle;\n",
              "    }\n",
              "\n",
              "    .dataframe tbody tr th {\n",
              "        vertical-align: top;\n",
              "    }\n",
              "\n",
              "    .dataframe thead th {\n",
              "        text-align: right;\n",
              "    }\n",
              "</style>\n",
              "<table border=\"1\" class=\"dataframe\">\n",
              "  <thead>\n",
              "    <tr style=\"text-align: right;\">\n",
              "      <th></th>\n",
              "      <th>article_id</th>\n",
              "      <th>prod_name</th>\n",
              "      <th>index_name</th>\n",
              "      <th>perceived_colour_value_name</th>\n",
              "      <th>colour_group_name</th>\n",
              "      <th>garment_group_name</th>\n",
              "    </tr>\n",
              "  </thead>\n",
              "  <tbody>\n",
              "    <tr>\n",
              "      <th>0</th>\n",
              "      <td>0</td>\n",
              "      <td>20 den 1p Stockings</td>\n",
              "      <td>Lingeries/Tights</td>\n",
              "      <td>Dark</td>\n",
              "      <td>Black</td>\n",
              "      <td>Socks and Tights</td>\n",
              "    </tr>\n",
              "    <tr>\n",
              "      <th>1</th>\n",
              "      <td>1</td>\n",
              "      <td>Shape Up 30 den 1p Tights</td>\n",
              "      <td>Lingeries/Tights</td>\n",
              "      <td>Dark</td>\n",
              "      <td>Black</td>\n",
              "      <td>Socks and Tights</td>\n",
              "    </tr>\n",
              "    <tr>\n",
              "      <th>2</th>\n",
              "      <td>2</td>\n",
              "      <td>Support 40 den 1p Tights</td>\n",
              "      <td>Lingeries/Tights</td>\n",
              "      <td>Dark</td>\n",
              "      <td>Black</td>\n",
              "      <td>Socks and Tights</td>\n",
              "    </tr>\n",
              "    <tr>\n",
              "      <th>3</th>\n",
              "      <td>3</td>\n",
              "      <td>200 den 1p Tights</td>\n",
              "      <td>Lingeries/Tights</td>\n",
              "      <td>Dark</td>\n",
              "      <td>Black</td>\n",
              "      <td>Socks and Tights</td>\n",
              "    </tr>\n",
              "    <tr>\n",
              "      <th>4</th>\n",
              "      <td>4</td>\n",
              "      <td>Control Top 50 den 1p Tights</td>\n",
              "      <td>Lingeries/Tights</td>\n",
              "      <td>Dark</td>\n",
              "      <td>Black</td>\n",
              "      <td>Socks and Tights</td>\n",
              "    </tr>\n",
              "    <tr>\n",
              "      <th>...</th>\n",
              "      <td>...</td>\n",
              "      <td>...</td>\n",
              "      <td>...</td>\n",
              "      <td>...</td>\n",
              "      <td>...</td>\n",
              "      <td>...</td>\n",
              "    </tr>\n",
              "    <tr>\n",
              "      <th>6531</th>\n",
              "      <td>6531</td>\n",
              "      <td>Virgo sweater fast buy</td>\n",
              "      <td>Divided</td>\n",
              "      <td>Dark</td>\n",
              "      <td>Black</td>\n",
              "      <td>Jersey Fancy</td>\n",
              "    </tr>\n",
              "    <tr>\n",
              "      <th>6532</th>\n",
              "      <td>6532</td>\n",
              "      <td>Virgo sweater fast buy</td>\n",
              "      <td>Divided</td>\n",
              "      <td>Dusty Light</td>\n",
              "      <td>Pink</td>\n",
              "      <td>Jersey Fancy</td>\n",
              "    </tr>\n",
              "    <tr>\n",
              "      <th>6533</th>\n",
              "      <td>6533</td>\n",
              "      <td>Heavy plain overknee tights 1p</td>\n",
              "      <td>Lingeries/Tights</td>\n",
              "      <td>Dark</td>\n",
              "      <td>Black</td>\n",
              "      <td>Socks and Tights</td>\n",
              "    </tr>\n",
              "    <tr>\n",
              "      <th>6534</th>\n",
              "      <td>6534</td>\n",
              "      <td>SPORT Malaga tank</td>\n",
              "      <td>Ladieswear</td>\n",
              "      <td>Dark</td>\n",
              "      <td>Black</td>\n",
              "      <td>Jersey Fancy</td>\n",
              "    </tr>\n",
              "    <tr>\n",
              "      <th>6535</th>\n",
              "      <td>6535</td>\n",
              "      <td>Cartwheel dress</td>\n",
              "      <td>Ladieswear</td>\n",
              "      <td>Dark</td>\n",
              "      <td>Black</td>\n",
              "      <td>Jersey Fancy</td>\n",
              "    </tr>\n",
              "  </tbody>\n",
              "</table>\n",
              "<p>6536 rows × 6 columns</p>\n",
              "</div>\n",
              "      <button class=\"colab-df-convert\" onclick=\"convertToInteractive('df-a6abeef0-4f35-41d2-87c2-c78ef2bd58c4')\"\n",
              "              title=\"Convert this dataframe to an interactive table.\"\n",
              "              style=\"display:none;\">\n",
              "        \n",
              "  <svg xmlns=\"http://www.w3.org/2000/svg\" height=\"24px\"viewBox=\"0 0 24 24\"\n",
              "       width=\"24px\">\n",
              "    <path d=\"M0 0h24v24H0V0z\" fill=\"none\"/>\n",
              "    <path d=\"M18.56 5.44l.94 2.06.94-2.06 2.06-.94-2.06-.94-.94-2.06-.94 2.06-2.06.94zm-11 1L8.5 8.5l.94-2.06 2.06-.94-2.06-.94L8.5 2.5l-.94 2.06-2.06.94zm10 10l.94 2.06.94-2.06 2.06-.94-2.06-.94-.94-2.06-.94 2.06-2.06.94z\"/><path d=\"M17.41 7.96l-1.37-1.37c-.4-.4-.92-.59-1.43-.59-.52 0-1.04.2-1.43.59L10.3 9.45l-7.72 7.72c-.78.78-.78 2.05 0 2.83L4 21.41c.39.39.9.59 1.41.59.51 0 1.02-.2 1.41-.59l7.78-7.78 2.81-2.81c.8-.78.8-2.07 0-2.86zM5.41 20L4 18.59l7.72-7.72 1.47 1.35L5.41 20z\"/>\n",
              "  </svg>\n",
              "      </button>\n",
              "      \n",
              "  <style>\n",
              "    .colab-df-container {\n",
              "      display:flex;\n",
              "      flex-wrap:wrap;\n",
              "      gap: 12px;\n",
              "    }\n",
              "\n",
              "    .colab-df-convert {\n",
              "      background-color: #E8F0FE;\n",
              "      border: none;\n",
              "      border-radius: 50%;\n",
              "      cursor: pointer;\n",
              "      display: none;\n",
              "      fill: #1967D2;\n",
              "      height: 32px;\n",
              "      padding: 0 0 0 0;\n",
              "      width: 32px;\n",
              "    }\n",
              "\n",
              "    .colab-df-convert:hover {\n",
              "      background-color: #E2EBFA;\n",
              "      box-shadow: 0px 1px 2px rgba(60, 64, 67, 0.3), 0px 1px 3px 1px rgba(60, 64, 67, 0.15);\n",
              "      fill: #174EA6;\n",
              "    }\n",
              "\n",
              "    [theme=dark] .colab-df-convert {\n",
              "      background-color: #3B4455;\n",
              "      fill: #D2E3FC;\n",
              "    }\n",
              "\n",
              "    [theme=dark] .colab-df-convert:hover {\n",
              "      background-color: #434B5C;\n",
              "      box-shadow: 0px 1px 3px 1px rgba(0, 0, 0, 0.15);\n",
              "      filter: drop-shadow(0px 1px 2px rgba(0, 0, 0, 0.3));\n",
              "      fill: #FFFFFF;\n",
              "    }\n",
              "  </style>\n",
              "\n",
              "      <script>\n",
              "        const buttonEl =\n",
              "          document.querySelector('#df-a6abeef0-4f35-41d2-87c2-c78ef2bd58c4 button.colab-df-convert');\n",
              "        buttonEl.style.display =\n",
              "          google.colab.kernel.accessAllowed ? 'block' : 'none';\n",
              "\n",
              "        async function convertToInteractive(key) {\n",
              "          const element = document.querySelector('#df-a6abeef0-4f35-41d2-87c2-c78ef2bd58c4');\n",
              "          const dataTable =\n",
              "            await google.colab.kernel.invokeFunction('convertToInteractive',\n",
              "                                                     [key], {});\n",
              "          if (!dataTable) return;\n",
              "\n",
              "          const docLinkHtml = 'Like what you see? Visit the ' +\n",
              "            '<a target=\"_blank\" href=https://colab.research.google.com/notebooks/data_table.ipynb>data table notebook</a>'\n",
              "            + ' to learn more about interactive tables.';\n",
              "          element.innerHTML = '';\n",
              "          dataTable['output_type'] = 'display_data';\n",
              "          await google.colab.output.renderOutput(dataTable, element);\n",
              "          const docLink = document.createElement('div');\n",
              "          docLink.innerHTML = docLinkHtml;\n",
              "          element.appendChild(docLink);\n",
              "        }\n",
              "      </script>\n",
              "    </div>\n",
              "  </div>\n",
              "  "
            ],
            "text/plain": [
              "      article_id                       prod_name        index_name  \\\n",
              "0              0             20 den 1p Stockings  Lingeries/Tights   \n",
              "1              1       Shape Up 30 den 1p Tights  Lingeries/Tights   \n",
              "2              2        Support 40 den 1p Tights  Lingeries/Tights   \n",
              "3              3               200 den 1p Tights  Lingeries/Tights   \n",
              "4              4    Control Top 50 den 1p Tights  Lingeries/Tights   \n",
              "...          ...                             ...               ...   \n",
              "6531        6531          Virgo sweater fast buy           Divided   \n",
              "6532        6532          Virgo sweater fast buy           Divided   \n",
              "6533        6533  Heavy plain overknee tights 1p  Lingeries/Tights   \n",
              "6534        6534               SPORT Malaga tank        Ladieswear   \n",
              "6535        6535                 Cartwheel dress        Ladieswear   \n",
              "\n",
              "     perceived_colour_value_name colour_group_name garment_group_name  \n",
              "0                           Dark             Black   Socks and Tights  \n",
              "1                           Dark             Black   Socks and Tights  \n",
              "2                           Dark             Black   Socks and Tights  \n",
              "3                           Dark             Black   Socks and Tights  \n",
              "4                           Dark             Black   Socks and Tights  \n",
              "...                          ...               ...                ...  \n",
              "6531                        Dark             Black       Jersey Fancy  \n",
              "6532                 Dusty Light              Pink       Jersey Fancy  \n",
              "6533                        Dark             Black   Socks and Tights  \n",
              "6534                        Dark             Black       Jersey Fancy  \n",
              "6535                        Dark             Black       Jersey Fancy  \n",
              "\n",
              "[6536 rows x 6 columns]"
            ]
          },
          "execution_count": 263,
          "metadata": {},
          "output_type": "execute_result"
        }
      ],
      "source": [
        "articles[[\"article_id\",\"prod_name\",\"index_name\",\"perceived_colour_value_name\",\"colour_group_name\",\"garment_group_name\"]]"
      ]
    },
    {
      "cell_type": "markdown",
      "id": "9b0fbcaf",
      "metadata": {
        "id": "9b0fbcaf"
      },
      "source": [
        "Construct a dataset which contains, for each customer, a list of every article they bought:"
      ]
    },
    {
      "cell_type": "code",
      "execution_count": null,
      "id": "a6526c7d",
      "metadata": {
        "id": "a6526c7d"
      },
      "outputs": [],
      "source": [
        "customer_purchases = transactions.groupby(\"customer_id\")['article_id'].apply(list)"
      ]
    },
    {
      "cell_type": "markdown",
      "id": "e76a9cc8",
      "metadata": {
        "id": "e76a9cc8"
      },
      "source": [
        "Now let's locate the distinct values for articles and customers id.\n",
        "\n",
        "This is essential because we must have the capacity to map the unprocessed values of our categorical features to embedding vectors in our models. "
      ]
    },
    {
      "cell_type": "code",
      "execution_count": null,
      "id": "4ade8c08",
      "metadata": {
        "id": "4ade8c08"
      },
      "outputs": [],
      "source": [
        "customer_ids = list(customer[\"customer_id\"].unique())\n",
        "article_ids = list(articles[\"article_id\"].unique())"
      ]
    },
    {
      "cell_type": "markdown",
      "id": "a55ea39b",
      "metadata": {
        "id": "a55ea39b"
      },
      "source": [
        "# Implementing the model"
      ]
    },
    {
      "cell_type": "markdown",
      "id": "0928e584",
      "metadata": {
        "id": "0928e584"
      },
      "source": [
        "Selecting the proper architecture is a crucial step in constructing a model. \n",
        "\n",
        "As we are constructing a two tower retrieval model, we can construct each tower individually and then join them in the final model."
      ]
    },
    {
      "cell_type": "markdown",
      "id": "518d1afb",
      "metadata": {
        "id": "518d1afb"
      },
      "source": [
        "### The query tower\n",
        "\n",
        "Let's start with the query tower.\n",
        "\n",
        "The first step is to decide on the dimensionality of the query and candidate representations:"
      ]
    },
    {
      "cell_type": "code",
      "execution_count": null,
      "id": "95e1789e",
      "metadata": {
        "id": "95e1789e"
      },
      "outputs": [],
      "source": [
        "embedding_dimension = 128"
      ]
    },
    {
      "cell_type": "markdown",
      "id": "dc95a1a7",
      "metadata": {
        "id": "dc95a1a7"
      },
      "source": [
        "\n",
        "Higher values will correspond to models that may be more accurate, yet will also be slower to fit and it will be more susceptible to overfitting.\n",
        "\n",
        "To define the model, we will utilize Keras preprocessing layers to change customer ids to embeddings via an `Embedding` layer. \n"
      ]
    },
    {
      "cell_type": "code",
      "execution_count": null,
      "id": "3d4d1957",
      "metadata": {
        "id": "3d4d1957"
      },
      "outputs": [],
      "source": [
        "user_model = tf.keras.Sequential([\n",
        "  tf.keras.layers.Embedding(len(customer_ids) + 1, embedding_dimension)\n",
        "])"
      ]
    },
    {
      "cell_type": "markdown",
      "id": "4e1b7b55",
      "metadata": {
        "id": "4e1b7b55"
      },
      "source": [
        "### The candidate tower\n",
        "\n",
        "We can do the same for the candidate tower"
      ]
    },
    {
      "cell_type": "code",
      "execution_count": null,
      "id": "1bfa9274",
      "metadata": {
        "id": "1bfa9274"
      },
      "outputs": [],
      "source": [
        "article_model = tf.keras.Sequential([\n",
        "  tf.keras.layers.Embedding(len(article_ids) + 1, embedding_dimension)\n",
        "])"
      ]
    },
    {
      "cell_type": "markdown",
      "id": "1fc5d585",
      "metadata": {
        "id": "1fc5d585"
      },
      "source": [
        "### Metrics\n",
        "\n",
        "In our training data we have (customer, articles) pairs. To figure out how good our model is, we need to compare the affinity score that the model calculates for this pair to the scores of all the other possible candidates: if the score for the positive pair is higher than for all other candidates, our model is highly accurate.\n",
        "\n",
        "To do this, we can use the `tfrs.metrics.FactorizedTopK` metric. The metric has one required argument: the dataset of candidates that are used as implicit negatives for evaluation.\n",
        "\n",
        "In our case, that's the `df_articles` dataset, converted into embeddings via our article model:"
      ]
    },
    {
      "cell_type": "code",
      "execution_count": null,
      "id": "c6569d36",
      "metadata": {
        "colab": {
          "base_uri": "https://localhost:8080/"
        },
        "id": "c6569d36",
        "outputId": "e2acf46f-939e-4efa-a4c4-fd441b2e5d1f"
      },
      "outputs": [
        {
          "name": "stderr",
          "output_type": "stream",
          "text": [
            "WARNING:tensorflow:Model was constructed with shape (None, None) for input KerasTensor(type_spec=TensorSpec(shape=(None, None), dtype=tf.float32, name='embedding_6_input'), name='embedding_6_input', description=\"created by layer 'embedding_6_input'\"), but it was called on an input with incompatible shape (None,).\n"
          ]
        }
      ],
      "source": [
        "article_ids = tf.data.Dataset.from_tensor_slices(article_ids)\n",
        "\n",
        "metrics = tfrs.metrics.FactorizedTopK(\n",
        "  candidates=article_ids.batch(128).map(article_model)\n",
        ")"
      ]
    },
    {
      "cell_type": "markdown",
      "id": "b971db10",
      "metadata": {
        "id": "b971db10"
      },
      "source": [
        "### Loss\n",
        "\n",
        "The next component is the loss used to train our model.\n",
        "\n",
        "In this instance, we'll make use of the `Retrieval` task object: a convenience wrapper that bundles together the loss function and metric computation:\n",
        "\n"
      ]
    },
    {
      "cell_type": "code",
      "execution_count": null,
      "id": "acefa9bf",
      "metadata": {
        "id": "acefa9bf"
      },
      "outputs": [],
      "source": [
        "task = tfrs.tasks.Retrieval(\n",
        "  metrics=metrics\n",
        ")"
      ]
    },
    {
      "cell_type": "markdown",
      "id": "19854671",
      "metadata": {
        "id": "19854671"
      },
      "source": [
        "### The full model\n",
        "\n",
        "We can now put it all together into a model. We will use the TensorFlow base model class (`tfrs.models.Model`) which streamlines building models: all we need to do is to set up the components in the `__init__` method, and implement the `compute_loss` method, taking in the raw features and returning a loss value.\n",
        "\n",
        "The base model will then take care of creating the appropriate training loop to fit our model."
      ]
    },
    {
      "cell_type": "code",
      "execution_count": null,
      "id": "06e5db89",
      "metadata": {
        "id": "06e5db89"
      },
      "outputs": [],
      "source": [
        "class recsysModel(tfrs.Model):\n",
        "\n",
        "  def __init__(self, user_model, article_model):\n",
        "    super().__init__()\n",
        "    self.article_model: tf.keras.Model = article_model\n",
        "    self.user_model: tf.keras.Model = user_model\n",
        "    self.task: tf.keras.layers.Layer = task\n",
        "\n",
        "  def compute_loss(self, features: Dict[Text, tf.Tensor], training=False) -> tf.Tensor:\n",
        "    # We pick out the customer features and pass them into the user model.\n",
        "    user_embeddings = self.user_model(features[\"customer_id\"])\n",
        "    # And pick out the articles features and pass them into the article model,\n",
        "    # getting embeddings back.\n",
        "    positive_article_embeddings = self.article_model(features[\"article_id\"])\n",
        "\n",
        "    # The task computes the loss and the metrics.\n",
        "    return self.task(user_embeddings, positive_article_embeddings)"
      ]
    },
    {
      "cell_type": "markdown",
      "id": "07a45784",
      "metadata": {
        "id": "07a45784"
      },
      "source": [
        "# Fitting and evaluating"
      ]
    },
    {
      "cell_type": "markdown",
      "id": "3b8906d8",
      "metadata": {
        "id": "3b8906d8"
      },
      "source": [
        "After defining the model, we can use standard Keras fitting and evaluation routines to fit and evaluate the model.\n",
        "\n",
        "Let's first instantiate the model."
      ]
    },
    {
      "cell_type": "code",
      "execution_count": null,
      "id": "0035cd21",
      "metadata": {
        "id": "0035cd21"
      },
      "outputs": [],
      "source": [
        "model = recsysModel(user_model, article_model)\n",
        "model.compile(optimizer=tf.keras.optimizers.Adagrad(learning_rate=0.1))"
      ]
    },
    {
      "cell_type": "markdown",
      "id": "40042e77",
      "metadata": {
        "id": "40042e77"
      },
      "source": [
        "Then shuffle, batch, and cache the training and evaluation data.\n",
        "\n",
        "\n",
        "\n",
        "*   **Shuffling** is the process of randomly rearranging the data in a dataset. \n",
        "*   **Batching** is the process of dividing the data into smaller groups.\n",
        "*   **Caching** is the process of storing the data in a temporary memory location for faster access.\n",
        "\n",
        "These techniques are used to improve the efficiency of training and evaluation of machine learning models. Shuffling helps to reduce bias in the data, batching reduces the amount of data that needs to be processed at once, and caching helps to speed up the process of accessing the data.\n",
        "\n",
        "\n",
        "\n",
        "\n"
      ]
    },
    {
      "cell_type": "code",
      "execution_count": null,
      "id": "5e465a03",
      "metadata": {
        "id": "5e465a03"
      },
      "outputs": [],
      "source": [
        "cached_train = df_customer_txn_train.shuffle(100_000).batch(8192).cache()\n",
        "cached_test = df_customer_txn_train.batch(4096).cache()"
      ]
    },
    {
      "cell_type": "markdown",
      "id": "b1ae53a8",
      "metadata": {
        "id": "b1ae53a8"
      },
      "source": [
        "Now we can train the model:"
      ]
    },
    {
      "cell_type": "code",
      "execution_count": null,
      "id": "7d202e25",
      "metadata": {
        "colab": {
          "base_uri": "https://localhost:8080/"
        },
        "id": "7d202e25",
        "outputId": "f9d3bca4-6fa4-4823-c333-82bf74aa96a4"
      },
      "outputs": [
        {
          "name": "stdout",
          "output_type": "stream",
          "text": [
            "Epoch 1/3\n"
          ]
        },
        {
          "name": "stderr",
          "output_type": "stream",
          "text": [
            "WARNING:tensorflow:Model was constructed with shape (None, None) for input KerasTensor(type_spec=TensorSpec(shape=(None, None), dtype=tf.float32, name='embedding_3_input'), name='embedding_3_input', description=\"created by layer 'embedding_3_input'\"), but it was called on an input with incompatible shape (None,).\n",
            "WARNING:tensorflow:Model was constructed with shape (None, None) for input KerasTensor(type_spec=TensorSpec(shape=(None, None), dtype=tf.float32, name='embedding_4_input'), name='embedding_4_input', description=\"created by layer 'embedding_4_input'\"), but it was called on an input with incompatible shape (None,).\n",
            "WARNING:tensorflow:Model was constructed with shape (None, None) for input KerasTensor(type_spec=TensorSpec(shape=(None, None), dtype=tf.float32, name='embedding_3_input'), name='embedding_3_input', description=\"created by layer 'embedding_3_input'\"), but it was called on an input with incompatible shape (None,).\n",
            "WARNING:tensorflow:Model was constructed with shape (None, None) for input KerasTensor(type_spec=TensorSpec(shape=(None, None), dtype=tf.float32, name='embedding_4_input'), name='embedding_4_input', description=\"created by layer 'embedding_4_input'\"), but it was called on an input with incompatible shape (None,).\n"
          ]
        },
        {
          "name": "stdout",
          "output_type": "stream",
          "text": [
            "31/31 [==============================] - 233s 7s/step - factorized_top_k/top_1_categorical_accuracy: 3.0791e-04 - factorized_top_k/top_5_categorical_accuracy: 0.0155 - factorized_top_k/top_10_categorical_accuracy: 0.0294 - factorized_top_k/top_50_categorical_accuracy: 0.0808 - factorized_top_k/top_100_categorical_accuracy: 0.1149 - loss: 69337.7892 - regularization_loss: 0.0000e+00 - total_loss: 69337.7892\n",
            "Epoch 2/3\n",
            "31/31 [==============================] - 227s 7s/step - factorized_top_k/top_1_categorical_accuracy: 0.0083 - factorized_top_k/top_5_categorical_accuracy: 0.1402 - factorized_top_k/top_10_categorical_accuracy: 0.2246 - factorized_top_k/top_50_categorical_accuracy: 0.4333 - factorized_top_k/top_100_categorical_accuracy: 0.5379 - loss: 61955.6055 - regularization_loss: 0.0000e+00 - total_loss: 61955.6055\n",
            "Epoch 3/3\n",
            "31/31 [==============================] - 232s 7s/step - factorized_top_k/top_1_categorical_accuracy: 0.0101 - factorized_top_k/top_5_categorical_accuracy: 0.2689 - factorized_top_k/top_10_categorical_accuracy: 0.4635 - factorized_top_k/top_50_categorical_accuracy: 0.7386 - factorized_top_k/top_100_categorical_accuracy: 0.8203 - loss: 48916.7762 - regularization_loss: 0.0000e+00 - total_loss: 48916.7762\n"
          ]
        },
        {
          "data": {
            "text/plain": [
              "<keras.callbacks.History at 0x7fe54d87a5b0>"
            ]
          },
          "execution_count": 173,
          "metadata": {},
          "output_type": "execute_result"
        }
      ],
      "source": [
        "model.fit(cached_train, epochs=3)"
      ]
    },
    {
      "cell_type": "markdown",
      "id": "c0b56c58",
      "metadata": {
        "id": "c0b56c58"
      },
      "source": [
        "And test it:"
      ]
    },
    {
      "cell_type": "code",
      "execution_count": null,
      "id": "859e9449",
      "metadata": {
        "colab": {
          "base_uri": "https://localhost:8080/"
        },
        "id": "859e9449",
        "outputId": "59b7a785-5478-4ff3-cf1e-c6bba9a4a140"
      },
      "outputs": [
        {
          "name": "stderr",
          "output_type": "stream",
          "text": [
            "WARNING:tensorflow:Model was constructed with shape (None, None) for input KerasTensor(type_spec=TensorSpec(shape=(None, None), dtype=tf.float32, name='embedding_3_input'), name='embedding_3_input', description=\"created by layer 'embedding_3_input'\"), but it was called on an input with incompatible shape (None,).\n",
            "WARNING:tensorflow:Model was constructed with shape (None, None) for input KerasTensor(type_spec=TensorSpec(shape=(None, None), dtype=tf.float32, name='embedding_4_input'), name='embedding_4_input', description=\"created by layer 'embedding_4_input'\"), but it was called on an input with incompatible shape (None,).\n"
          ]
        },
        {
          "name": "stdout",
          "output_type": "stream",
          "text": [
            "61/61 [==============================] - 159s 3s/step - factorized_top_k/top_1_categorical_accuracy: 0.0871 - factorized_top_k/top_5_categorical_accuracy: 0.5408 - factorized_top_k/top_10_categorical_accuracy: 0.7459 - factorized_top_k/top_50_categorical_accuracy: 0.9329 - factorized_top_k/top_100_categorical_accuracy: 0.9652 - loss: 17580.7719 - regularization_loss: 0.0000e+00 - total_loss: 17580.7719\n"
          ]
        },
        {
          "data": {
            "text/plain": [
              "{'factorized_top_k/top_1_categorical_accuracy': 0.08712351322174072,\n",
              " 'factorized_top_k/top_5_categorical_accuracy': 0.540762186050415,\n",
              " 'factorized_top_k/top_10_categorical_accuracy': 0.7459383606910706,\n",
              " 'factorized_top_k/top_50_categorical_accuracy': 0.9328949451446533,\n",
              " 'factorized_top_k/top_100_categorical_accuracy': 0.9651733040809631,\n",
              " 'loss': 3613.655029296875,\n",
              " 'regularization_loss': 0,\n",
              " 'total_loss': 3613.655029296875}"
            ]
          },
          "execution_count": 174,
          "metadata": {},
          "output_type": "execute_result"
        }
      ],
      "source": [
        "model.evaluate(cached_test, return_dict=True)"
      ]
    },
    {
      "cell_type": "markdown",
      "id": "122673a3",
      "metadata": {
        "id": "122673a3"
      },
      "source": [
        "We can see that the model performed very well on the test set. In fact, it has factorized top 100 categorical accuracy of over 96%, and of 93% for top 50. That's even higher than the train.\n",
        "\n",
        "This is probabably due to the fact that we reduced the articles features to avoid overfitting and to have a more generalized model. "
      ]
    },
    {
      "cell_type": "markdown",
      "id": "62f518be",
      "metadata": {
        "id": "62f518be"
      },
      "source": [
        "# Making predictions\n",
        "\n",
        "Now that we have a model, we can use the `tfrs.layers.factorized_top_k.BruteForce` layer to make predictions."
      ]
    },
    {
      "cell_type": "code",
      "execution_count": null,
      "id": "5e532171",
      "metadata": {
        "colab": {
          "base_uri": "https://localhost:8080/"
        },
        "id": "5e532171",
        "outputId": "11a3f893-b260-4772-9009-9be4a69dc9fd"
      },
      "outputs": [
        {
          "name": "stderr",
          "output_type": "stream",
          "text": [
            "WARNING:tensorflow:Model was constructed with shape (None, None) for input KerasTensor(type_spec=TensorSpec(shape=(None, None), dtype=tf.float32, name='embedding_4_input'), name='embedding_4_input', description=\"created by layer 'embedding_4_input'\"), but it was called on an input with incompatible shape (None,).\n"
          ]
        },
        {
          "data": {
            "text/plain": [
              "<tensorflow_recommenders.layers.factorized_top_k.BruteForce at 0x7fe4dbecb460>"
            ]
          },
          "execution_count": 179,
          "metadata": {},
          "output_type": "execute_result"
        }
      ],
      "source": [
        "# Create a model that takes in raw query features, and\n",
        "index = tfrs.layers.factorized_top_k.BruteForce(model.user_model)\n",
        "# recommends articles out of the entire dataset.\n",
        "index.index_from_dataset(\n",
        "  tf.data.Dataset.zip((article_ids.batch(100), article_ids.batch(100).map(model.article_model)))\n",
        ")"
      ]
    },
    {
      "cell_type": "markdown",
      "id": "fcd2ca74",
      "metadata": {
        "id": "fcd2ca74"
      },
      "source": [
        "Now we create a function that takes as input a customer id and returns in readable format the top 5 articles recommendations:"
      ]
    },
    {
      "cell_type": "code",
      "execution_count": null,
      "id": "d79fe563",
      "metadata": {
        "id": "d79fe563"
      },
      "outputs": [],
      "source": [
        "def recSys(id):\n",
        "  t = 0 # Items counter\n",
        "  c = 1 # Position counter\n",
        "  lst = customer_purchases[id] # List of items already purchased by customer\n",
        "  _, recommended_ids = index(tf.constant([id]))\n",
        "  recommendations = []\n",
        "\n",
        "  while len(recommendations) < 5:\n",
        "    if int(recommended_ids[0][t]) not in lst:\n",
        "      recommendations.append(int(recommended_ids[0][t]))\n",
        "    t += 1\n",
        "\n",
        "  print(f\"Recommendations for Customer {id}:\")\n",
        "\n",
        "  for i in recommendations:\n",
        "    print(f\"{c}. {articles[articles.article_id == i].colour_group_name.iloc[0]} {articles[articles.article_id == i].prod_name.iloc[0]}. ID: {i}\")\n",
        "    c += 1"
      ]
    },
    {
      "cell_type": "code",
      "execution_count": null,
      "id": "1d2e644a",
      "metadata": {
        "colab": {
          "base_uri": "https://localhost:8080/"
        },
        "id": "1d2e644a",
        "outputId": "89278a40-9330-443a-83f4-c5174c9ca069"
      },
      "outputs": [
        {
          "name": "stdout",
          "output_type": "stream",
          "text": [
            "Recommendations for Customer 9505:\n",
            "1. Beige Jodi utility shirt dress. ID: 3364\n",
            "2. Light Pink Twist jumpsuit. ID: 4066\n",
            "3. Other Orange Wakkiki. ID: 2323\n",
            "4. White Emily. ID: 3126\n",
            "5. White Harper strap dress. ID: 2320\n"
          ]
        }
      ],
      "source": [
        "recSys(9505)"
      ]
    }
  ],
  "metadata": {
    "colab": {
      "provenance": []
    },
    "kernelspec": {
      "display_name": "Python 3",
      "language": "python",
      "name": "python3"
    },
    "language_info": {
      "codemirror_mode": {
        "name": "ipython",
        "version": 3
      },
      "file_extension": ".py",
      "mimetype": "text/x-python",
      "name": "python",
      "nbconvert_exporter": "python",
      "pygments_lexer": "ipython3",
      "version": "3.8.8"
    }
  },
  "nbformat": 4,
  "nbformat_minor": 5
}